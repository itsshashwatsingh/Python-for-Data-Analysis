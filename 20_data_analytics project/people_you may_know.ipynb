{
 "cells": [
  {
   "cell_type": "markdown",
   "id": "da25dcd6-1e8d-4400-a5b9-c2faf8a7b892",
   "metadata": {},
   "source": [
    "# Finding \"People You May Know\"\n",
    "\n",
    "## **Introduction**\n",
    "Now that our data is cleaned and structured, your manager assigns you a new task: **Build a 'People You May Know' feature!**\n",
    "\n",
    "In social networks, this feature helps users connect with others by suggesting friends based on mutual connections. Your job is to **analyze mutual friends and recommend potential connections**.\n",
    "\n",
    "---\n",
    "\n",
    "## **Task 1: Understand the Logic**\n",
    "### **How 'People You May Know' Works:**\n",
    "- If **User A** and **User B** are not friends but have **mutual friends**, we suggest User B to User A and vice versa.\n",
    "- More mutual friends = higher priority recommendation.\n",
    "\n",
    "Example:\n",
    "- **Amit (ID: 1)** is friends with **Priya (ID: 2)** and **Rahul (ID: 3)**.\n",
    "- **Priya (ID: 2)** is friends with **Sara (ID: 4)**.\n",
    "- Amit is not directly friends with Sara, but they share **Priya as a mutual friend**.\n",
    "- Suggest **Sara to Amit** as \"People You May Know\".\n",
    "\n",
    "---\n",
    "\n",
    "## **Task 2: Implement the Algorithm**\n",
    "We'll create a function that:\n",
    "1. Finds all friends of a given user.\n",
    "2. Identifies mutual friends between non-friends.\n",
    "3. Ranks recommendations by the number of mutual friends.\n",
    "\n",
    "### **Code Implementation**\n",
    "```python\n",
    "import json\n",
    "\n",
    "def load_data(filename):\n",
    "    with open(filename, \"r\") as file:\n",
    "        return json.load(file)\n",
    "\n",
    "def find_people_you_may_know(user_id, data):\n",
    "    user_friends = {}\n",
    "    for user in data[\"users\"]:\n",
    "        user_friends[user[\"id\"]] = set(user[\"friends\"])\n",
    "    \n",
    "    if user_id not in user_friends:\n",
    "        return []\n",
    "    \n",
    "    direct_friends = user_friends[user_id]\n",
    "    suggestions = {}\n",
    "    \n",
    "    for friend in direct_friends:\n",
    "        # For all friends of friend\n",
    "        for mutual in user_friends[friend]:\n",
    "            # If mutual id is not the same user and not already a direct friend of user\n",
    "            if mutual != user_id and mutual not in direct_friends:\n",
    "                # Count mutual friends\n",
    "                suggestions[mutual] = suggestions.get(mutual, 0) + 1\n",
    "    \n",
    "    sorted_suggestions = sorted(suggestions.items(), key=lambda x: x[1], reverse=True)\n",
    "    return [user_id for user_id, _ in sorted_suggestions]\n",
    "\n",
    "# Load data\n",
    "data = load_data(\"cleaned_codebook_data.json\")\n",
    "user_id = 1  # Example: Finding suggestions for Amit\n",
    "recommendations = find_people_you_may_know(user_id, data)\n",
    "print(f\"People You May Know for User {user_id}: {recommendations}\")\n",
    "```\n",
    "\n",
    "---\n",
    "\n",
    "## **Expected Output:**\n",
    "If Amit (ID: 1) and Sara (ID: 4) share Priya (ID: 2) as a mutual friend, the output might be:\n",
    "```\n",
    "People You May Know for User 1: [4]\n",
    "```\n",
    "This suggests that **Amit should connect with Sara!**\n",
    "\n",
    "---\n",
    "\n",
    "## **Next Steps**\n",
    "Your manager is excited about your progress and now says: **\"Great job! Next, let's find 'Pages You Might Like' based on your connections and preferences.\"**\n"
   ]
  },
  {
   "cell_type": "code",
   "execution_count": 65,
   "id": "b0ae56b4-5ccb-4cdd-a8a4-1b4743ae6240",
   "metadata": {},
   "outputs": [
    {
     "name": "stdin",
     "output_type": "stream",
     "text": [
      "please enter your user_id: 2\n"
     ]
    },
    {
     "name": "stdout",
     "output_type": "stream",
     "text": [
      "Welcome,Priya!\n",
      "people you may also know:\n",
      "Sara\n",
      "Anjali\n",
      "Ravi\n",
      "Sneha\n",
      "Arjun\n",
      "Meera\n",
      "Kabir\n"
     ]
    }
   ],
   "source": [
    "import json \n",
    "\n",
    "def load_data(file_name):\n",
    "    with open(file_name,\"r\") as file:\n",
    "        return json.load(file)\n",
    "        \n",
    "def people_you_may_know(user_id,data):\n",
    "    user_friends = {}\n",
    "    for user in data['users']:\n",
    "        user_friends[user['id']] = list(set(user['friends']))\n",
    "\n",
    "    if user_id not in user_friends:\n",
    "        return []\n",
    "    direct_friends = user_friends[user_id]\n",
    "    suggestions = {}\n",
    "    for friends in direct_friends:\n",
    "        for mutual in user_friends[friends]:\n",
    "            if mutual != user_id and mutual not in direct_friends:\n",
    "                suggestions[mutual] = suggestions.get(mutual,0) + 1\n",
    "    sorted_suggestions = sorted(suggestions.items(),key = lambda x:x[1], reverse = True)\n",
    "    return [user_id for user_id, mutual_count in sorted_suggestions]  \n",
    "def id_and_name(recom,data,user_id):\n",
    "    for i in data['users']:\n",
    "        if i['id'] == user_id :\n",
    "            print(f\"Welcome,{i['name']}!\")\n",
    "            print(\"people you may also know:\") \n",
    "            names = [user['name'] for user in data['users'] if user['id'] in recom]\n",
    "            return names  \n",
    "    \n",
    "    return []\n",
    "             \n",
    "\n",
    "data = load_data(\"massive_data.json\")\n",
    "user_id = int(input(\"please enter your user_id:\"))\n",
    "recom = people_you_may_know(user_id,data)\n",
    "names = id_and_name(recom,data,user_id)\n",
    "if names == []:\n",
    "    print(\"invalid user_id!\")\n",
    "else:\n",
    "    for i in names:\n",
    "        print(i)"
   ]
  },
  {
   "cell_type": "markdown",
   "id": "ac51c25a-33ad-4c6c-a23f-9af5bb203aff",
   "metadata": {},
   "source": [
    "## Explaination"
   ]
  },
  {
   "cell_type": "raw",
   "id": "e50255ff-897b-42f8-87da-fcdebaf61450",
   "metadata": {},
   "source": [
    "{\n",
    "    \"users\": [\n",
    "        {\"id\": 1, \"name\": \"Amit\", \"friends\": [2, 3], \"liked_pages\": [101]},\n",
    "        {\"id\": 2, \"name\": \"Priya\", \"friends\": [1, 4], \"liked_pages\": [102]},\n",
    "        {\"id\": 3, \"name\": \"Rahul\", \"friends\": [1], \"liked_pages\": [101, 103]},\n",
    "        {\"id\": 4, \"name\": \"Sara\", \"friends\": [2], \"liked_pages\": [104]}\n",
    "    ],\n",
    "    \"pages\": [\n",
    "        {\"id\": 101, \"name\": \"Python Developers\"},\n",
    "        {\"id\": 102, \"name\": \"Data Science Enthusiasts\"},\n",
    "        {\"id\": 103, \"name\": \"AI & ML Community\"},\n",
    "        {\"id\": 104, \"name\": \"Web Dev Hub\"}\n",
    "    ]\n",
    "}"
   ]
  },
  {
   "cell_type": "code",
   "execution_count": 55,
   "id": "601cfce0-4149-4f46-8072-b812758abcc4",
   "metadata": {},
   "outputs": [
    {
     "name": "stdout",
     "output_type": "stream",
     "text": [
      "People You May Know for User 1: [4]\n"
     ]
    }
   ],
   "source": [
    "import json\n",
    "\n",
    "def load_data(filename):\n",
    "    with open(filename, \"r\") as file:\n",
    "        return json.load(file)\n",
    "\n",
    "def people_you_may_know(user_id,data):\n",
    "    user_friends = {}\n",
    "    for user in data['users']:\n",
    "        user_friends[user['id']]=set(user['friends'])\n",
    "    if user_id not in user_friends:\n",
    "            return []\n",
    "    direct_friends = user_friends[user_id]\n",
    "    suggestions = {}                           # if user_id is 1\n",
    "    for friends in direct_friends:          #--->   2   3  --> friends\n",
    "        for mutual in user_friends[friends]:#--> (1,4) (1) --> mutual\n",
    "            if mutual != user_id and mutual not in direct_friends: #---> excludes given user_id and its friends so out of (1,4) (1) only 4 lefts as mutual      |mutual|count|\n",
    "                suggestions[mutual]= suggestions.get(mutual,0)+1 #--> this populates the dictionary with mutual and their counts no of times mutual appears --> {4    :   1 }\n",
    "    sorted_suggestions = sorted(suggestions.items(),key = lambda x:x[1],reverse = True) # -- this sorts the dictionary on the basis of number of counts in desc while keeping mutual \n",
    "    return [mutual for mutual,mutual_count in sorted_suggestions]\n",
    "\n",
    "# Load data\n",
    "data = load_data(\"data.json\")\n",
    "user_id = 1  # Example: Finding suggestions for Amit\n",
    "recommendations = people_you_may_know(user_id, data)\n",
    "print(f\"People You May Know for User {user_id}: {recommendations}\")"
   ]
  },
  {
   "cell_type": "markdown",
   "id": "820596f3-d9bf-40ed-82b2-77f0d31b53df",
   "metadata": {},
   "source": [
    "### count output in dictionary format and sorting"
   ]
  },
  {
   "cell_type": "code",
   "execution_count": 57,
   "id": "c6d17ab5-7108-455e-abf9-6244b3779b5b",
   "metadata": {},
   "outputs": [],
   "source": [
    "words = ['apple', 'banana', 'apple', 'orange', 'banana', 'apple']\n"
   ]
  },
  {
   "cell_type": "code",
   "execution_count": 58,
   "id": "5272bd60-b75f-47f6-a2ba-95d8b3c4dd99",
   "metadata": {},
   "outputs": [
    {
     "name": "stdout",
     "output_type": "stream",
     "text": [
      "{'apple': 3, 'banana': 2, 'orange': 1}\n"
     ]
    }
   ],
   "source": [
    "word_count = {}\n",
    "for word in words:\n",
    "    word_count[word] = word_count.get(word,0)+1\n",
    "\n",
    "print(word_count)"
   ]
  },
  {
   "cell_type": "markdown",
   "id": "0f5a989e-fb7e-46e4-9896-da23d086a38d",
   "metadata": {},
   "source": [
    "lets sort this in descending order of their count"
   ]
  },
  {
   "cell_type": "code",
   "execution_count": 63,
   "id": "b3fe6565-4d2e-4929-99a2-19ea686cd17f",
   "metadata": {},
   "outputs": [
    {
     "name": "stdout",
     "output_type": "stream",
     "text": [
      "[('apple', 3), ('banana', 2), ('orange', 1)]\n"
     ]
    }
   ],
   "source": [
    "sorted_word_count = sorted(word_count.items(),key=lambda x:x[1],reverse = True)\n",
    "print(sorted_word_count)"
   ]
  },
  {
   "cell_type": "markdown",
   "id": "c5504d89-cf34-4a71-9c63-89b3c7822ad2",
   "metadata": {},
   "source": [
    "### sorting data "
   ]
  },
  {
   "cell_type": "code",
   "execution_count": 59,
   "id": "a55d0e36-a37b-43b6-9c83-b02a15e04c5c",
   "metadata": {},
   "outputs": [],
   "source": [
    "data = [('apple', 5), ('banana', 2), ('mango', 8)]"
   ]
  },
  {
   "cell_type": "code",
   "execution_count": 62,
   "id": "d906d573-59ef-4176-a679-d48b1f045d1a",
   "metadata": {},
   "outputs": [
    {
     "name": "stdout",
     "output_type": "stream",
     "text": [
      "[('mango', 8), ('apple', 5), ('banana', 2)]\n"
     ]
    }
   ],
   "source": [
    "\n",
    "sorted_data = sorted(data,key=lambda x:x[1],reverse = True)\n",
    "\n",
    "print(sorted_data)"
   ]
  },
  {
   "cell_type": "code",
   "execution_count": null,
   "id": "ea1c4bb1-59b1-4253-a5df-58517b29abef",
   "metadata": {},
   "outputs": [],
   "source": []
  }
 ],
 "metadata": {
  "kernelspec": {
   "display_name": "Python 3 (ipykernel)",
   "language": "python",
   "name": "python3"
  },
  "language_info": {
   "codemirror_mode": {
    "name": "ipython",
    "version": 3
   },
   "file_extension": ".py",
   "mimetype": "text/x-python",
   "name": "python",
   "nbconvert_exporter": "python",
   "pygments_lexer": "ipython3",
   "version": "3.13.5"
  }
 },
 "nbformat": 4,
 "nbformat_minor": 5
}
