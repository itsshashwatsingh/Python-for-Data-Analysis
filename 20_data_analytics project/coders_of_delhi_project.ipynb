{
 "cells": [
  {
   "cell_type": "markdown",
   "id": "d49852c3-3e1b-4ca6-b379-3f2d4ba31ac1",
   "metadata": {},
   "source": [
    "# Welcome to CodeBook – Your Data Science Internship Begins!\n",
    "\n",
    "## **Introduction**\n",
    "Congratulations! You have just been hired as a **Data Scientist Intern** at **CodeBook – The Social Media for Coders**. This Delhi based company is offering you a **₹10 LPA job** if you successfully complete this **1-month internship**. But before you get there, you must prove your skills using **only Python**—no pandas, NumPy, or fancy libraries!\n",
    "\n",
    "Your manager Puneet Kumar has assigned you your **first task**: analyzing a data dump of CodeBook users using pure python. Your job is to **load and explore the data** to understand its structure.\n",
    "\n",
    "---\n",
    "\n",
    "## **Task 1: Load the User Data**\n",
    "Your manager has given you a dataset containing information about CodeBook users, their connections (friends), and the pages they have liked.\n",
    "\n",
    "This is how the data will look like (in JSON format):\n",
    "```json\n",
    "{\n",
    "    \"users\": [\n",
    "        {\"id\": 1, \"name\": \"Amit\", \"friends\": [2, 3], \"liked_pages\": [101]},\n",
    "        {\"id\": 2, \"name\": \"Priya\", \"friends\": [1, 4], \"liked_pages\": [102]},\n",
    "        {\"id\": 3, \"name\": \"Rahul\", \"friends\": [1], \"liked_pages\": [101, 103]},\n",
    "        {\"id\": 4, \"name\": \"Sara\", \"friends\": [2], \"liked_pages\": [104]}\n",
    "    ],\n",
    "    \"pages\": [\n",
    "        {\"id\": 101, \"name\": \"Python Developers\"},\n",
    "        {\"id\": 102, \"name\": \"Data Science Enthusiasts\"},\n",
    "        {\"id\": 103, \"name\": \"AI & ML Community\"},\n",
    "        {\"id\": 104, \"name\": \"Web Dev Hub\"}\n",
    "    ]\n",
    "}\n",
    "```\n",
    "Read this data and understand its structure. The data contains three main components:\n",
    "1. **Users**: Each user has an ID, name, a list of friends (by their IDs), and a list of liked pages (by their IDs).\n",
    "2. **Pages**: Each page has an ID and a name.\n",
    "3. **Connections**: Users can have multiple friends and can like multiple pages.\n",
    "\n",
    "---\n",
    "\n",
    "## **Task 2: Read and Display the Data using Python**\n",
    "Your goal is to **load** this data and **print** it in a structured way. Use Python's built-in modules to accomplish this.\n",
    "\n",
    "### **Steps:**\n",
    "1. Save the JSON data in a file (`codebook_data.json`).\n",
    "2. Read the JSON file using Python.\n",
    "3. Print user details and their connections.\n",
    "4. Print available pages.\n",
    "\n",
    "---\n",
    "\n",
    "## **Code Implementation**\n",
    "Here's a simple way to load and display the data:\n",
    "\n",
    "```python\n",
    "import json\n",
    "\n",
    "# Load the JSON file\n",
    "def load_data(filename):\n",
    "    with open(filename, \"r\") as file:\n",
    "        data = json.load(file)\n",
    "    return data\n",
    "\n",
    "# Display users and their connections\n",
    "def display_users(data):\n",
    "    print(\"Users and Their Connections:\\n\")\n",
    "    for user in data[\"users\"]:\n",
    "        print(f\"{user['name']} (ID: {user['id']}) - Friends: {user['friends']} - Liked Pages: {user['liked_pages']}\")\n",
    "    print(\"\\nPages:\\n\")\n",
    "    for page in data[\"pages\"]:\n",
    "        print(f\"{page['id']}: {page['name']}\")\n",
    "\n",
    "# Load and display the data\n",
    "data = load_data(\"codebook_data.json\")\n",
    "display_users(data)\n",
    "```\n",
    "\n",
    "---\n",
    "\n",
    "## **Expected Output:**\n",
    "```\n",
    "Users and Their Connections:\n",
    "Amit (ID: 1) - Friends: [2, 3] - Liked Pages: [101]\n",
    "Priya (ID: 2) - Friends: [1, 4] - Liked Pages: [102]\n",
    "Rahul (ID: 3) - Friends: [1] - Liked Pages: [101, 103]\n",
    "Sara (ID: 4) - Friends: [2] - Liked Pages: [104]\n",
    "\n",
    "Pages:\n",
    "101: Python Developers\n",
    "102: Data Science Enthusiasts\n",
    "103: AI & ML Community\n",
    "104: Web Dev Hub\n",
    "```\n",
    "\n",
    "---\n",
    "\n",
    "## **Next Steps**\n",
    "Your manager is happy with your progress but says: **\"The data looks messy. Can you clean and structure it better?\"**\n",
    " \n"
   ]
  },
  {
   "cell_type": "code",
   "execution_count": 9,
   "id": "d7fa5542-31b1-4ab3-9309-636ce9ababff",
   "metadata": {},
   "outputs": [],
   "source": [
    "import json\n",
    "\n",
    "def load_data(filename):\n",
    "    with open(filename,\"r\") as f:\n",
    "        data = json.load(f)\n",
    "    return data"
   ]
  },
  {
   "cell_type": "code",
   "execution_count": 10,
   "id": "74c67b5a-3f54-40fe-be61-095d6fb8dc36",
   "metadata": {},
   "outputs": [],
   "source": [
    "data = load_data(\"data.json\")"
   ]
  },
  {
   "cell_type": "code",
   "execution_count": 11,
   "id": "432ee505-bfc4-4d58-918b-ef1b8963ec38",
   "metadata": {},
   "outputs": [
    {
     "data": {
      "text/plain": [
       "{'users': [{'id': 1, 'name': 'Amit', 'friends': [2, 3], 'liked_pages': [101]},\n",
       "  {'id': 2, 'name': 'Priya', 'friends': [1, 4], 'liked_pages': [102]},\n",
       "  {'id': 3, 'name': 'Rahul', 'friends': [1], 'liked_pages': [101, 103]},\n",
       "  {'id': 4, 'name': 'Sara', 'friends': [2], 'liked_pages': [104]}],\n",
       " 'pages': [{'id': 101, 'name': 'Python Developers'},\n",
       "  {'id': 102, 'name': 'Data Science Enthusiasts'},\n",
       "  {'id': 103, 'name': 'AI & ML Community'},\n",
       "  {'id': 104, 'name': 'Web Dev Hub'}]}"
      ]
     },
     "execution_count": 11,
     "metadata": {},
     "output_type": "execute_result"
    }
   ],
   "source": [
    "data"
   ]
  },
  {
   "cell_type": "code",
   "execution_count": 12,
   "id": "343d1679-9b36-484a-9049-b928da368e08",
   "metadata": {},
   "outputs": [
    {
     "data": {
      "text/plain": [
       "dict"
      ]
     },
     "execution_count": 12,
     "metadata": {},
     "output_type": "execute_result"
    }
   ],
   "source": [
    "type(data)"
   ]
  },
  {
   "cell_type": "code",
   "execution_count": 21,
   "id": "8dab334f-964e-43f0-aa03-da366deee85f",
   "metadata": {},
   "outputs": [
    {
     "name": "stdout",
     "output_type": "stream",
     "text": [
      "users and connection\n",
      "\n",
      "id:1. Amit is friends with : [2, 3] and like pages are [101]\n",
      "id:2. Priya is friends with : [1, 4] and like pages are [102]\n",
      "id:3. Rahul is friends with : [1] and like pages are [101, 103]\n",
      "id:4. Sara is friends with : [2] and like pages are [104]\n",
      "\n",
      "pages information\n",
      "101 : Python Developers\n",
      "102 : Data Science Enthusiasts\n",
      "103 : AI & ML Community\n",
      "104 : Web Dev Hub\n"
     ]
    }
   ],
   "source": [
    "# write a function to display users and there connection\n",
    "\n",
    "def display_users(data):\n",
    "    print(\"users and connection\\n\")\n",
    "    for user in data['users']:\n",
    "        print(f\"id:{user['id']}. {user['name']} is friends with : {user['friends']} and like pages are {user['liked_pages']}\")\n",
    "    print(\"\\npages information\")\n",
    "    for page in data['pages']:\n",
    "        print(f\"{page['id']} : {page['name']}\")\n",
    "\n",
    "display_users(data)"
   ]
  },
  {
   "cell_type": "markdown",
   "id": "a3be00cc-c00c-4f58-85aa-424c84aab813",
   "metadata": {},
   "source": [
    "# using pandas"
   ]
  },
  {
   "cell_type": "code",
   "execution_count": 1,
   "id": "fc19b2b3-33f0-4eb3-9641-6de3b0e7209a",
   "metadata": {},
   "outputs": [],
   "source": [
    "import pandas as pd "
   ]
  },
  {
   "cell_type": "code",
   "execution_count": 9,
   "id": "ca1c9b4c-c9fd-4548-a8dd-55a5a14460de",
   "metadata": {},
   "outputs": [],
   "source": [
    "import json"
   ]
  },
  {
   "cell_type": "code",
   "execution_count": 11,
   "id": "ec902868-8477-41be-ab34-e09f9415f359",
   "metadata": {},
   "outputs": [
    {
     "data": {
      "text/plain": [
       "{'users': [{'id': 1, 'name': 'Amit', 'friends': [2, 3], 'liked_pages': [101]},\n",
       "  {'id': 2, 'name': 'Priya', 'friends': [1, 4], 'liked_pages': [102]},\n",
       "  {'id': 3, 'name': 'Rahul', 'friends': [1], 'liked_pages': [101, 103]},\n",
       "  {'id': 4, 'name': 'Sara', 'friends': [2], 'liked_pages': [104]}],\n",
       " 'pages': [{'id': 101, 'name': 'Python Developers'},\n",
       "  {'id': 102, 'name': 'Data Science Enthusiasts'},\n",
       "  {'id': 103, 'name': 'AI & ML Community'},\n",
       "  {'id': 104, 'name': 'Web Dev Hub'}]}"
      ]
     },
     "execution_count": 11,
     "metadata": {},
     "output_type": "execute_result"
    }
   ],
   "source": [
    "with open('data.json') as f:\n",
    "    data = json.load(f)\n",
    "data"
   ]
  },
  {
   "cell_type": "code",
   "execution_count": 14,
   "id": "972d5e7b-2688-4450-961c-305b73ee59ea",
   "metadata": {},
   "outputs": [],
   "source": [
    "df1 = pd.json_normalize(data['users'])"
   ]
  },
  {
   "cell_type": "code",
   "execution_count": 15,
   "id": "e684c6cb-e53e-4a3e-ab57-158ab78b5748",
   "metadata": {},
   "outputs": [
    {
     "data": {
      "text/html": [
       "<div>\n",
       "<style scoped>\n",
       "    .dataframe tbody tr th:only-of-type {\n",
       "        vertical-align: middle;\n",
       "    }\n",
       "\n",
       "    .dataframe tbody tr th {\n",
       "        vertical-align: top;\n",
       "    }\n",
       "\n",
       "    .dataframe thead th {\n",
       "        text-align: right;\n",
       "    }\n",
       "</style>\n",
       "<table border=\"1\" class=\"dataframe\">\n",
       "  <thead>\n",
       "    <tr style=\"text-align: right;\">\n",
       "      <th></th>\n",
       "      <th>id</th>\n",
       "      <th>name</th>\n",
       "      <th>friends</th>\n",
       "      <th>liked_pages</th>\n",
       "    </tr>\n",
       "  </thead>\n",
       "  <tbody>\n",
       "    <tr>\n",
       "      <th>0</th>\n",
       "      <td>1</td>\n",
       "      <td>Amit</td>\n",
       "      <td>[2, 3]</td>\n",
       "      <td>[101]</td>\n",
       "    </tr>\n",
       "    <tr>\n",
       "      <th>1</th>\n",
       "      <td>2</td>\n",
       "      <td>Priya</td>\n",
       "      <td>[1, 4]</td>\n",
       "      <td>[102]</td>\n",
       "    </tr>\n",
       "    <tr>\n",
       "      <th>2</th>\n",
       "      <td>3</td>\n",
       "      <td>Rahul</td>\n",
       "      <td>[1]</td>\n",
       "      <td>[101, 103]</td>\n",
       "    </tr>\n",
       "    <tr>\n",
       "      <th>3</th>\n",
       "      <td>4</td>\n",
       "      <td>Sara</td>\n",
       "      <td>[2]</td>\n",
       "      <td>[104]</td>\n",
       "    </tr>\n",
       "  </tbody>\n",
       "</table>\n",
       "</div>"
      ],
      "text/plain": [
       "   id   name friends liked_pages\n",
       "0   1   Amit  [2, 3]       [101]\n",
       "1   2  Priya  [1, 4]       [102]\n",
       "2   3  Rahul     [1]  [101, 103]\n",
       "3   4   Sara     [2]       [104]"
      ]
     },
     "execution_count": 15,
     "metadata": {},
     "output_type": "execute_result"
    }
   ],
   "source": [
    "df1"
   ]
  },
  {
   "cell_type": "code",
   "execution_count": 16,
   "id": "aa31f747-4f12-4a20-9427-f29b556096a0",
   "metadata": {},
   "outputs": [],
   "source": [
    "df2 = pd.json_normalize(data['pages'])"
   ]
  },
  {
   "cell_type": "code",
   "execution_count": 17,
   "id": "e8e243dc-80fd-4ac8-bb9e-8dbdfc444547",
   "metadata": {},
   "outputs": [
    {
     "data": {
      "text/html": [
       "<div>\n",
       "<style scoped>\n",
       "    .dataframe tbody tr th:only-of-type {\n",
       "        vertical-align: middle;\n",
       "    }\n",
       "\n",
       "    .dataframe tbody tr th {\n",
       "        vertical-align: top;\n",
       "    }\n",
       "\n",
       "    .dataframe thead th {\n",
       "        text-align: right;\n",
       "    }\n",
       "</style>\n",
       "<table border=\"1\" class=\"dataframe\">\n",
       "  <thead>\n",
       "    <tr style=\"text-align: right;\">\n",
       "      <th></th>\n",
       "      <th>id</th>\n",
       "      <th>name</th>\n",
       "    </tr>\n",
       "  </thead>\n",
       "  <tbody>\n",
       "    <tr>\n",
       "      <th>0</th>\n",
       "      <td>101</td>\n",
       "      <td>Python Developers</td>\n",
       "    </tr>\n",
       "    <tr>\n",
       "      <th>1</th>\n",
       "      <td>102</td>\n",
       "      <td>Data Science Enthusiasts</td>\n",
       "    </tr>\n",
       "    <tr>\n",
       "      <th>2</th>\n",
       "      <td>103</td>\n",
       "      <td>AI &amp; ML Community</td>\n",
       "    </tr>\n",
       "    <tr>\n",
       "      <th>3</th>\n",
       "      <td>104</td>\n",
       "      <td>Web Dev Hub</td>\n",
       "    </tr>\n",
       "  </tbody>\n",
       "</table>\n",
       "</div>"
      ],
      "text/plain": [
       "    id                      name\n",
       "0  101         Python Developers\n",
       "1  102  Data Science Enthusiasts\n",
       "2  103         AI & ML Community\n",
       "3  104               Web Dev Hub"
      ]
     },
     "execution_count": 17,
     "metadata": {},
     "output_type": "execute_result"
    }
   ],
   "source": [
    "df2"
   ]
  }
 ],
 "metadata": {
  "kernelspec": {
   "display_name": "Python 3 (ipykernel)",
   "language": "python",
   "name": "python3"
  },
  "language_info": {
   "codemirror_mode": {
    "name": "ipython",
    "version": 3
   },
   "file_extension": ".py",
   "mimetype": "text/x-python",
   "name": "python",
   "nbconvert_exporter": "python",
   "pygments_lexer": "ipython3",
   "version": "3.13.5"
  }
 },
 "nbformat": 4,
 "nbformat_minor": 5
}
