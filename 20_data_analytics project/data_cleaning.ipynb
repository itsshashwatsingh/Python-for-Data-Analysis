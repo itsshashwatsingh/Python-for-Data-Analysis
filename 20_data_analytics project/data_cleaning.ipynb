{
 "cells": [
  {
   "cell_type": "markdown",
   "id": "e6b3046e-85c2-4a70-afeb-db297e87e4f6",
   "metadata": {},
   "source": [
    "# Cleaning and Structuring the Data\n",
    "\n",
    "## **Introduction**\n",
    "Your manager is impressed with your progress but points out that the data is messy. Before we can analyze it effectively, we need to **clean and structure the data** properly.\n",
    "\n",
    "Your task is to:\n",
    "- Handle missing values\n",
    "- Remove duplicate or inconsistent data\n",
    "- Standardize the data format\n",
    "\n",
    "Let's get started!\n",
    "\n",
    "---\n",
    "\n",
    "## **Task 1: Identify Issues in the Data**\n",
    "Your manager provides you with an example dataset where some records are incomplete or incorrect. Here’s an example:\n",
    "\n",
    "```json\n",
    "{\n",
    "    \"users\": [\n",
    "        {\"id\": 1, \"name\": \"Amit\", \"friends\": [2, 3], \"liked_pages\": [101]},\n",
    "        {\"id\": 2, \"name\": \"Priya\", \"friends\": [1, 4], \"liked_pages\": [102]},\n",
    "        {\"id\": 3, \"name\": \"\", \"friends\": [1], \"liked_pages\": [101, 103]},\n",
    "        {\"id\": 4, \"name\": \"Sara\", \"friends\": [2, 2], \"liked_pages\": [104]},\n",
    "        {\"id\": 5, \"name\": \"Amit\", \"friends\": [], \"liked_pages\": []}\n",
    "    ],\n",
    "    \"pages\": [\n",
    "        {\"id\": 101, \"name\": \"Python Developers\"},\n",
    "        {\"id\": 102, \"name\": \"Data Science Enthusiasts\"},\n",
    "        {\"id\": 103, \"name\": \"AI & ML Community\"},\n",
    "        {\"id\": 104, \"name\": \"Web Dev Hub\"},\n",
    "        {\"id\": 104, \"name\": \"Web Development\"}\n",
    "    ]\n",
    "}\n",
    "```\n",
    "\n",
    "**Problems:**\n",
    "1. User **ID 3** has an empty name.\n",
    "2. User **ID 4** has a duplicate friend entry.\n",
    "3. User **ID 5** has no connections or liked pages (inactive user).\n",
    "4. The **pages list** contains duplicate page IDs.\n",
    "\n",
    "---\n",
    "\n",
    "## **Task 2: Clean the Data**\n",
    "We will:\n",
    "1. Remove users with missing names.\n",
    "2. Remove duplicate friend entries.\n",
    "3. Remove inactive users (users with no friends and no liked pages).\n",
    "4. Deduplicate pages based on IDs.\n",
    "\n",
    "### **Code Implementation**\n",
    "\n",
    "```python\n",
    "import json\n",
    "\n",
    "def clean_data(data):\n",
    "    # Remove users with missing names\n",
    "    data[\"users\"] = [user for user in data[\"users\"] if user[\"name\"].strip()]\n",
    "    \n",
    "    # Remove duplicate friends\n",
    "    for user in data[\"users\"]:\n",
    "        user[\"friends\"] = list(set(user[\"friends\"]))\n",
    "    \n",
    "    # Remove inactive users\n",
    "    data[\"users\"] = [user for user in data[\"users\"] if user[\"friends\"] or user[\"liked_pages\"]]\n",
    "    \n",
    "    # Remove duplicate pages\n",
    "    unique_pages = {}\n",
    "    for page in data[\"pages\"]:\n",
    "        unique_pages[page[\"id\"]] = page\n",
    "    data[\"pages\"] = list(unique_pages.values())\n",
    "    \n",
    "    return data\n",
    "\n",
    "# Load, clean, and display the cleaned data\n",
    "data = json.load(open(\"codebook_data.json\"))\n",
    "data = clean_data(data)\n",
    "json.dump(data, open(\"cleaned_codebook_data.json\", \"w\"), indent=4)\n",
    "print(\"Data cleaned successfully!\")\n",
    "```\n",
    "\n",
    "---\n",
    "\n",
    "## **Expected Output:**\n",
    "The cleaned dataset will:\n",
    "- Remove users with missing names\n",
    "\n",
    "- Ensure friend lists contain unique entries\n",
    "\n",
    "- Remove inactive users\n",
    "\n",
    "- Deduplicate pages\n",
    "\n",
    "\n",
    "---\n",
    "\n",
    "## **Next Steps**\n",
    "Your manager is happy with the cleaned data and says: **\"Great! Now that our data is structured, let's start analyzing it. First, let's build a 'People You May Know' feature!\"**"
   ]
  },
  {
   "cell_type": "code",
   "execution_count": 7,
   "id": "2f90dd94-9467-4f07-8f1d-e6943cbda5d8",
   "metadata": {},
   "outputs": [
    {
     "name": "stdout",
     "output_type": "stream",
     "text": [
      "data has been cleaned sucessfully\n"
     ]
    }
   ],
   "source": [
    "import json\n",
    "def clean_data(data):\n",
    "        # Remove users with missing names\n",
    "    data['users'] = [user for user in data['users'] if user['name'].strip() != \"\"]\n",
    "    \n",
    "    # Remove inactive users\n",
    "    data['users'] = [user for user in data['users'] if user['friends'] != [] or user['liked_pages'] != []]\n",
    "\n",
    "       # Remove duplicate friends\n",
    "    for user in data['users']:\n",
    "        user['friends']=list(set(user['friends']))\n",
    "\n",
    "       # Remove duplicate pages\n",
    "    uniquepages = {}\n",
    "    for page in data['pages']:\n",
    "        uniquepages[page['id']] = page\n",
    "    data['pages'] = list(uniquepages.values())\n",
    "        \n",
    "    return data\n",
    "    \n",
    "# Load, clean, and display the cleaned data\n",
    "data = json.load(open(\"data_2.json\",\"r\"))\n",
    "data = clean_data(data)\n",
    "json.dump(data,open(\"cleaned_data2.json\",\"w\"),indent = 4)\n",
    "print(\"data has been cleaned sucessfully\")"
   ]
  },
  {
   "cell_type": "markdown",
   "id": "50722dcf-be0d-4d46-b8e4-6b5fcc64d8c2",
   "metadata": {},
   "source": [
    "# using pandas"
   ]
  },
  {
   "cell_type": "code",
   "execution_count": 3,
   "id": "388451e8-784a-4bd1-89c0-add1937f88d6",
   "metadata": {},
   "outputs": [],
   "source": [
    "import pandas as pd\n",
    "\n",
    "import json\n",
    "\n",
    "with open('data_2.json','r') as f:\n",
    "    data = json.load(f)"
   ]
  },
  {
   "cell_type": "code",
   "execution_count": 4,
   "id": "74386f42-44a3-4850-98d5-381b762dc2dc",
   "metadata": {},
   "outputs": [
    {
     "data": {
      "text/plain": [
       "{'users': [{'id': 1, 'name': 'Amit', 'friends': [2, 3], 'liked_pages': [101]},\n",
       "  {'id': 2, 'name': 'Priya', 'friends': [1, 4], 'liked_pages': [102]},\n",
       "  {'id': 3, 'name': '', 'friends': [1], 'liked_pages': [101, 103]},\n",
       "  {'id': 4, 'name': 'Sara', 'friends': [2, 2], 'liked_pages': [104]},\n",
       "  {'id': 5, 'name': 'Amit', 'friends': [], 'liked_pages': []}],\n",
       " 'pages': [{'id': 101, 'name': 'Python Developers'},\n",
       "  {'id': 102, 'name': 'Data Science Enthusiasts'},\n",
       "  {'id': 103, 'name': 'AI & ML Community'},\n",
       "  {'id': 104, 'name': 'Web Dev Hub'},\n",
       "  {'id': 104, 'name': 'Web Development'}]}"
      ]
     },
     "execution_count": 4,
     "metadata": {},
     "output_type": "execute_result"
    }
   ],
   "source": [
    "data"
   ]
  },
  {
   "cell_type": "code",
   "execution_count": 5,
   "id": "7a4661b3-08ac-4c38-ac13-0fac10ce7fe6",
   "metadata": {},
   "outputs": [],
   "source": [
    "df1 = pd.json_normalize(data['users'])"
   ]
  },
  {
   "cell_type": "code",
   "execution_count": 6,
   "id": "08313a43-7abe-405a-bd66-30402961ecc2",
   "metadata": {},
   "outputs": [
    {
     "data": {
      "text/html": [
       "<div>\n",
       "<style scoped>\n",
       "    .dataframe tbody tr th:only-of-type {\n",
       "        vertical-align: middle;\n",
       "    }\n",
       "\n",
       "    .dataframe tbody tr th {\n",
       "        vertical-align: top;\n",
       "    }\n",
       "\n",
       "    .dataframe thead th {\n",
       "        text-align: right;\n",
       "    }\n",
       "</style>\n",
       "<table border=\"1\" class=\"dataframe\">\n",
       "  <thead>\n",
       "    <tr style=\"text-align: right;\">\n",
       "      <th></th>\n",
       "      <th>id</th>\n",
       "      <th>name</th>\n",
       "      <th>friends</th>\n",
       "      <th>liked_pages</th>\n",
       "    </tr>\n",
       "  </thead>\n",
       "  <tbody>\n",
       "    <tr>\n",
       "      <th>0</th>\n",
       "      <td>1</td>\n",
       "      <td>Amit</td>\n",
       "      <td>[2, 3]</td>\n",
       "      <td>[101]</td>\n",
       "    </tr>\n",
       "    <tr>\n",
       "      <th>1</th>\n",
       "      <td>2</td>\n",
       "      <td>Priya</td>\n",
       "      <td>[1, 4]</td>\n",
       "      <td>[102]</td>\n",
       "    </tr>\n",
       "    <tr>\n",
       "      <th>2</th>\n",
       "      <td>3</td>\n",
       "      <td></td>\n",
       "      <td>[1]</td>\n",
       "      <td>[101, 103]</td>\n",
       "    </tr>\n",
       "    <tr>\n",
       "      <th>3</th>\n",
       "      <td>4</td>\n",
       "      <td>Sara</td>\n",
       "      <td>[2, 2]</td>\n",
       "      <td>[104]</td>\n",
       "    </tr>\n",
       "    <tr>\n",
       "      <th>4</th>\n",
       "      <td>5</td>\n",
       "      <td>Amit</td>\n",
       "      <td>[]</td>\n",
       "      <td>[]</td>\n",
       "    </tr>\n",
       "  </tbody>\n",
       "</table>\n",
       "</div>"
      ],
      "text/plain": [
       "   id   name friends liked_pages\n",
       "0   1   Amit  [2, 3]       [101]\n",
       "1   2  Priya  [1, 4]       [102]\n",
       "2   3            [1]  [101, 103]\n",
       "3   4   Sara  [2, 2]       [104]\n",
       "4   5   Amit      []          []"
      ]
     },
     "execution_count": 6,
     "metadata": {},
     "output_type": "execute_result"
    }
   ],
   "source": [
    "df1"
   ]
  },
  {
   "cell_type": "code",
   "execution_count": 7,
   "id": "05d5d995-4172-42f6-900b-93287be89d1b",
   "metadata": {},
   "outputs": [],
   "source": [
    "df2 = pd.json_normalize(data['pages'])"
   ]
  },
  {
   "cell_type": "code",
   "execution_count": 8,
   "id": "5c842344-d0f7-4d4f-8ce2-878239622d7e",
   "metadata": {},
   "outputs": [
    {
     "data": {
      "text/html": [
       "<div>\n",
       "<style scoped>\n",
       "    .dataframe tbody tr th:only-of-type {\n",
       "        vertical-align: middle;\n",
       "    }\n",
       "\n",
       "    .dataframe tbody tr th {\n",
       "        vertical-align: top;\n",
       "    }\n",
       "\n",
       "    .dataframe thead th {\n",
       "        text-align: right;\n",
       "    }\n",
       "</style>\n",
       "<table border=\"1\" class=\"dataframe\">\n",
       "  <thead>\n",
       "    <tr style=\"text-align: right;\">\n",
       "      <th></th>\n",
       "      <th>id</th>\n",
       "      <th>name</th>\n",
       "    </tr>\n",
       "  </thead>\n",
       "  <tbody>\n",
       "    <tr>\n",
       "      <th>0</th>\n",
       "      <td>101</td>\n",
       "      <td>Python Developers</td>\n",
       "    </tr>\n",
       "    <tr>\n",
       "      <th>1</th>\n",
       "      <td>102</td>\n",
       "      <td>Data Science Enthusiasts</td>\n",
       "    </tr>\n",
       "    <tr>\n",
       "      <th>2</th>\n",
       "      <td>103</td>\n",
       "      <td>AI &amp; ML Community</td>\n",
       "    </tr>\n",
       "    <tr>\n",
       "      <th>3</th>\n",
       "      <td>104</td>\n",
       "      <td>Web Dev Hub</td>\n",
       "    </tr>\n",
       "    <tr>\n",
       "      <th>4</th>\n",
       "      <td>104</td>\n",
       "      <td>Web Development</td>\n",
       "    </tr>\n",
       "  </tbody>\n",
       "</table>\n",
       "</div>"
      ],
      "text/plain": [
       "    id                      name\n",
       "0  101         Python Developers\n",
       "1  102  Data Science Enthusiasts\n",
       "2  103         AI & ML Community\n",
       "3  104               Web Dev Hub\n",
       "4  104           Web Development"
      ]
     },
     "execution_count": 8,
     "metadata": {},
     "output_type": "execute_result"
    }
   ],
   "source": [
    "df2"
   ]
  },
  {
   "cell_type": "code",
   "execution_count": 11,
   "id": "f3ce01be-bb9b-441f-bc1f-5d2be8b37cd2",
   "metadata": {},
   "outputs": [],
   "source": [
    "df3 = df1[df1['name']!= \"\"].copy()"
   ]
  },
  {
   "cell_type": "code",
   "execution_count": 27,
   "id": "1f5dec78-e51f-4ab2-987e-3e1ce5c75ccc",
   "metadata": {},
   "outputs": [],
   "source": [
    "df3 = df3[df3.apply(lambda x:x['friends'] != [] and x['liked_pages'] != [],axis = 1)]"
   ]
  },
  {
   "cell_type": "code",
   "execution_count": 28,
   "id": "97cd0507-9534-4ada-9d9a-a1fb629d4f52",
   "metadata": {},
   "outputs": [
    {
     "data": {
      "text/html": [
       "<div>\n",
       "<style scoped>\n",
       "    .dataframe tbody tr th:only-of-type {\n",
       "        vertical-align: middle;\n",
       "    }\n",
       "\n",
       "    .dataframe tbody tr th {\n",
       "        vertical-align: top;\n",
       "    }\n",
       "\n",
       "    .dataframe thead th {\n",
       "        text-align: right;\n",
       "    }\n",
       "</style>\n",
       "<table border=\"1\" class=\"dataframe\">\n",
       "  <thead>\n",
       "    <tr style=\"text-align: right;\">\n",
       "      <th></th>\n",
       "      <th>id</th>\n",
       "      <th>name</th>\n",
       "      <th>friends</th>\n",
       "      <th>liked_pages</th>\n",
       "    </tr>\n",
       "  </thead>\n",
       "  <tbody>\n",
       "    <tr>\n",
       "      <th>0</th>\n",
       "      <td>1</td>\n",
       "      <td>Amit</td>\n",
       "      <td>[2, 3]</td>\n",
       "      <td>[101]</td>\n",
       "    </tr>\n",
       "    <tr>\n",
       "      <th>1</th>\n",
       "      <td>2</td>\n",
       "      <td>Priya</td>\n",
       "      <td>[1, 4]</td>\n",
       "      <td>[102]</td>\n",
       "    </tr>\n",
       "    <tr>\n",
       "      <th>3</th>\n",
       "      <td>4</td>\n",
       "      <td>Sara</td>\n",
       "      <td>[2, 2]</td>\n",
       "      <td>[104]</td>\n",
       "    </tr>\n",
       "  </tbody>\n",
       "</table>\n",
       "</div>"
      ],
      "text/plain": [
       "   id   name friends liked_pages\n",
       "0   1   Amit  [2, 3]       [101]\n",
       "1   2  Priya  [1, 4]       [102]\n",
       "3   4   Sara  [2, 2]       [104]"
      ]
     },
     "execution_count": 28,
     "metadata": {},
     "output_type": "execute_result"
    }
   ],
   "source": [
    "df3"
   ]
  },
  {
   "cell_type": "code",
   "execution_count": 29,
   "id": "5340ede6-fe1a-40e1-8f6c-2fbbb2b9a279",
   "metadata": {},
   "outputs": [
    {
     "data": {
      "text/html": [
       "<div>\n",
       "<style scoped>\n",
       "    .dataframe tbody tr th:only-of-type {\n",
       "        vertical-align: middle;\n",
       "    }\n",
       "\n",
       "    .dataframe tbody tr th {\n",
       "        vertical-align: top;\n",
       "    }\n",
       "\n",
       "    .dataframe thead th {\n",
       "        text-align: right;\n",
       "    }\n",
       "</style>\n",
       "<table border=\"1\" class=\"dataframe\">\n",
       "  <thead>\n",
       "    <tr style=\"text-align: right;\">\n",
       "      <th></th>\n",
       "      <th>id</th>\n",
       "      <th>name</th>\n",
       "    </tr>\n",
       "  </thead>\n",
       "  <tbody>\n",
       "    <tr>\n",
       "      <th>0</th>\n",
       "      <td>101</td>\n",
       "      <td>Python Developers</td>\n",
       "    </tr>\n",
       "    <tr>\n",
       "      <th>1</th>\n",
       "      <td>102</td>\n",
       "      <td>Data Science Enthusiasts</td>\n",
       "    </tr>\n",
       "    <tr>\n",
       "      <th>2</th>\n",
       "      <td>103</td>\n",
       "      <td>AI &amp; ML Community</td>\n",
       "    </tr>\n",
       "    <tr>\n",
       "      <th>3</th>\n",
       "      <td>104</td>\n",
       "      <td>Web Dev Hub</td>\n",
       "    </tr>\n",
       "    <tr>\n",
       "      <th>4</th>\n",
       "      <td>104</td>\n",
       "      <td>Web Development</td>\n",
       "    </tr>\n",
       "  </tbody>\n",
       "</table>\n",
       "</div>"
      ],
      "text/plain": [
       "    id                      name\n",
       "0  101         Python Developers\n",
       "1  102  Data Science Enthusiasts\n",
       "2  103         AI & ML Community\n",
       "3  104               Web Dev Hub\n",
       "4  104           Web Development"
      ]
     },
     "execution_count": 29,
     "metadata": {},
     "output_type": "execute_result"
    }
   ],
   "source": [
    "df2"
   ]
  },
  {
   "cell_type": "code",
   "execution_count": 35,
   "id": "60c7f2f7-9e35-4a1a-a18a-9f065c4322b3",
   "metadata": {},
   "outputs": [],
   "source": [
    "df4 = df2.drop_duplicates(subset = ['id']).copy()"
   ]
  },
  {
   "cell_type": "code",
   "execution_count": 36,
   "id": "f1c4b22c-991a-4a45-adf7-5719c46233b7",
   "metadata": {},
   "outputs": [
    {
     "data": {
      "text/html": [
       "<div>\n",
       "<style scoped>\n",
       "    .dataframe tbody tr th:only-of-type {\n",
       "        vertical-align: middle;\n",
       "    }\n",
       "\n",
       "    .dataframe tbody tr th {\n",
       "        vertical-align: top;\n",
       "    }\n",
       "\n",
       "    .dataframe thead th {\n",
       "        text-align: right;\n",
       "    }\n",
       "</style>\n",
       "<table border=\"1\" class=\"dataframe\">\n",
       "  <thead>\n",
       "    <tr style=\"text-align: right;\">\n",
       "      <th></th>\n",
       "      <th>id</th>\n",
       "      <th>name</th>\n",
       "    </tr>\n",
       "  </thead>\n",
       "  <tbody>\n",
       "    <tr>\n",
       "      <th>0</th>\n",
       "      <td>101</td>\n",
       "      <td>Python Developers</td>\n",
       "    </tr>\n",
       "    <tr>\n",
       "      <th>1</th>\n",
       "      <td>102</td>\n",
       "      <td>Data Science Enthusiasts</td>\n",
       "    </tr>\n",
       "    <tr>\n",
       "      <th>2</th>\n",
       "      <td>103</td>\n",
       "      <td>AI &amp; ML Community</td>\n",
       "    </tr>\n",
       "    <tr>\n",
       "      <th>3</th>\n",
       "      <td>104</td>\n",
       "      <td>Web Dev Hub</td>\n",
       "    </tr>\n",
       "  </tbody>\n",
       "</table>\n",
       "</div>"
      ],
      "text/plain": [
       "    id                      name\n",
       "0  101         Python Developers\n",
       "1  102  Data Science Enthusiasts\n",
       "2  103         AI & ML Community\n",
       "3  104               Web Dev Hub"
      ]
     },
     "execution_count": 36,
     "metadata": {},
     "output_type": "execute_result"
    }
   ],
   "source": [
    "df4"
   ]
  },
  {
   "cell_type": "code",
   "execution_count": 37,
   "id": "5aec59e1-38fa-46c2-a6a7-2ce3a5950b30",
   "metadata": {},
   "outputs": [],
   "source": [
    "with pd.ExcelWriter(\"report.xlsx\") as writer:\n",
    "    df3.to_excel(writer, sheet_name=\"users\", index=False)\n",
    "    df4.to_excel(writer, sheet_name=\"pages\", index=False)"
   ]
  }
 ],
 "metadata": {
  "kernelspec": {
   "display_name": "Python 3 (ipykernel)",
   "language": "python",
   "name": "python3"
  },
  "language_info": {
   "codemirror_mode": {
    "name": "ipython",
    "version": 3
   },
   "file_extension": ".py",
   "mimetype": "text/x-python",
   "name": "python",
   "nbconvert_exporter": "python",
   "pygments_lexer": "ipython3",
   "version": "3.13.5"
  }
 },
 "nbformat": 4,
 "nbformat_minor": 5
}
