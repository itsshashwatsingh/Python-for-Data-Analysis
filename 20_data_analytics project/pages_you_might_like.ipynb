{
 "cells": [
  {
   "cell_type": "raw",
   "id": "adf83184-92ba-4fb2-b82a-53fc69174439",
   "metadata": {},
   "source": [
    "{\n",
    "    \"users\": [\n",
    "        {\"id\": 1, \"name\": \"Amit\", \"friends\": [2, 3], \"liked_pages\": [101]},\n",
    "        {\"id\": 2, \"name\": \"Priya\", \"friends\": [1, 4], \"liked_pages\": [102]},\n",
    "        {\"id\": 3, \"name\": \"Rahul\", \"friends\": [1], \"liked_pages\": [101, 103]},\n",
    "        {\"id\": 4, \"name\": \"Sara\", \"friends\": [2], \"liked_pages\": [104]}\n",
    "    ],\n",
    "    \"pages\": [\n",
    "        {\"id\": 101, \"name\": \"Python Developers\"},\n",
    "        {\"id\": 102, \"name\": \"Data Science Enthusiasts\"},\n",
    "        {\"id\": 103, \"name\": \"AI & ML Community\"},\n",
    "        {\"id\": 104, \"name\": \"Web Dev Hub\"}\n",
    "    ]\n",
    "}"
   ]
  },
  {
   "cell_type": "code",
   "execution_count": 36,
   "id": "85caf5e2-a299-48f9-b8b9-c780e86fe52b",
   "metadata": {},
   "outputs": [
    {
     "name": "stdout",
     "output_type": "stream",
     "text": [
      "pages you might like for 1:[(103, 1)]\n"
     ]
    }
   ],
   "source": [
    "import json\n",
    "\n",
    "# func to load data from file\n",
    "def load_data(file_name):\n",
    "    with open(file_name,\"r\")as f:\n",
    "        return json.load(f)\n",
    "        \n",
    "#function to find pages a user might like based on common intrests\n",
    "def pages_you_might_like(user_id,data):\n",
    "    page_liked = {}\n",
    "    for user in data['users']:\n",
    "        page_liked[user['id']] = set(user['liked_pages'])\n",
    "    if user_id not in page_liked:\n",
    "        return []\n",
    "    user_likes = page_liked[user_id]\n",
    "    suggested_pages = {}\n",
    "    for other_user,pages in page_liked.items():\n",
    "        if other_user != user_id:\n",
    "            shared_pages = user_likes.intersection(pages)\n",
    "        for page in pages:\n",
    "            if page not in user_likes:\n",
    "                suggested_pages[page]=suggested_pages.get(page,0)+len(shared_pages)\n",
    "    sorted_pages = sorted(suggested_pages.items(),key= lambda x:x[1],reverse= True)\n",
    "    return [(might_like_pages,score) for might_like_pages,score in sorted_pages if score != 0]\n",
    "data = load_data(\"data.json\")\n",
    "user_id = 1\n",
    "recommendations= pages_you_might_like(user_id,data)\n",
    "print(f\"pages you might like for {user_id}:{recommendations}\")"
   ]
  },
  {
   "cell_type": "code",
   "execution_count": 46,
   "id": "5a88d9ba-e37e-4613-a569-538494d3607f",
   "metadata": {},
   "outputs": [
    {
     "name": "stdout",
     "output_type": "stream",
     "text": [
      "pages you might like for 1:[(103, 1)]\n"
     ]
    }
   ],
   "source": [
    "import json\n",
    "\n",
    "# func to load data from file\n",
    "def load_data(file_name):\n",
    "    with open(file_name,\"r\")as f:\n",
    "        return json.load(f)\n",
    "        \n",
    "#function to find pages a user might like based on common intrests\n",
    "def pages_you_might_like(user_id,data):\n",
    "    # create an empty dictionary\n",
    "    pages_liked = {}\n",
    "    for user in data['users']:\n",
    "        pages_liked[user['id']]=set(user['liked_pages'])\n",
    "    if user_id not in pages_liked:\n",
    "        return []\n",
    "    user_pages = pages_liked[user_id]\n",
    "    suggested_pages={}\n",
    "    for other_id,pages in pages_liked.items():\n",
    "        if user_id == other_id:\n",
    "            continue\n",
    "        shared_pages = user_pages.intersection(pages)\n",
    "        for page in pages:\n",
    "            if page not in user_pages:\n",
    "                suggested_pages[page]=suggested_pages.get(page,0)+len(shared_pages)\n",
    "    sorted_pages=sorted(suggested_pages.items(),key=lambda x:x[1],reverse = True)\n",
    "    return[(might_like,score) for might_like,score in sorted_pages if score != 0]\n",
    "data = load_data(\"data.json\")\n",
    "user_id = 1\n",
    "recommendations= pages_you_might_like(user_id,data)\n",
    "print(f\"pages you might like for {user_id}:{recommendations}\")"
   ]
  },
  {
   "cell_type": "markdown",
   "id": "129c64b3-8d48-4949-8f38-28df6bfd130b",
   "metadata": {},
   "source": [
    "## mini task before jumping into libraries"
   ]
  },
  {
   "cell_type": "code",
   "execution_count": 47,
   "id": "d5980e65-8070-4899-834f-ae56820fad7a",
   "metadata": {},
   "outputs": [],
   "source": [
    "ratings_data = [\n",
    "    {\"user_id\": 1, \"movie_id\": 101, \"rating\": 5},\n",
    "    {\"user_id\": 2, \"movie_id\": 102, \"rating\": 3},\n",
    "    {\"user_id\": 3, \"movie_id\": 101, \"rating\": 4},\n",
    "    {\"user_id\": 4, \"movie_id\": 103, \"rating\": 2},\n",
    "    {\"user_id\": 5, \"movie_id\": 101, \"rating\": 3},\n",
    "    {\"user_id\": 6, \"movie_id\": 102, \"rating\": 4},\n",
    "    {\"user_id\": 7, \"movie_id\": 104, \"rating\": 5}\n",
    "]\n"
   ]
  },
  {
   "cell_type": "markdown",
   "id": "c4189c4b-b1b4-4416-b51b-fc8afa799774",
   "metadata": {},
   "source": [
    "- Count how many users rated each movie\n",
    "\n",
    "- Calculate the average rating for each movie\n",
    "\n",
    "- Print the movie with the highest average rating (only if it has at least 2 ratings)\n",
    "\n"
   ]
  },
  {
   "cell_type": "code",
   "execution_count": 107,
   "id": "63d797f8-44c6-4f42-b2d2-f7964b2de511",
   "metadata": {},
   "outputs": [
    {
     "name": "stdout",
     "output_type": "stream",
     "text": [
      "{101: 3, 102: 2, 103: 1, 104: 1}\n",
      "{101: 4.0, 102: 3.5, 103: 2.0, 104: 5.0}\n",
      "{101: 4.0}\n"
     ]
    }
   ],
   "source": [
    "def rating_count(data):\n",
    "    count = {}\n",
    "    for user in data:\n",
    "        count[user['movie_id']] = count.get(user['movie_id'],0)+1\n",
    "    return count\n",
    "def average_rating(data,data1):\n",
    "    avg = {}\n",
    "    for user in data:\n",
    "        \n",
    "        avg[user['movie_id']] = avg.get(user['movie_id'],0)+user['rating']\n",
    "    return {movie_id:avg[movie_id]/count for movie_id,count in data1.items()}\n",
    "    \n",
    "def highest_rating(data1,data2):\n",
    "    \n",
    "    filter_avg = {movie_id:avg for movie_id,avg in data2.items() if data1[movie_id] >=2}\n",
    "    max_value = max(filter_avg.values())\n",
    "    \n",
    "    return {movie_id:avg for movie_id,avg in filter_avg.items() if avg == max_value}\n",
    "\n",
    "data1 = rating_count(ratings_data)\n",
    "print(data1)\n",
    "data2 = average_rating(ratings_data,data1)\n",
    "print(data2)\n",
    "\n",
    "data3 = highest_rating(data1,data2)\n",
    "print(data3)\n",
    "\n",
    "\n"
   ]
  },
  {
   "cell_type": "code",
   "execution_count": null,
   "id": "ef84ca11-b2d1-49ea-869f-b179d618eb2f",
   "metadata": {},
   "outputs": [],
   "source": []
  }
 ],
 "metadata": {
  "kernelspec": {
   "display_name": "Python 3 (ipykernel)",
   "language": "python",
   "name": "python3"
  },
  "language_info": {
   "codemirror_mode": {
    "name": "ipython",
    "version": 3
   },
   "file_extension": ".py",
   "mimetype": "text/x-python",
   "name": "python",
   "nbconvert_exporter": "python",
   "pygments_lexer": "ipython3",
   "version": "3.13.5"
  }
 },
 "nbformat": 4,
 "nbformat_minor": 5
}
