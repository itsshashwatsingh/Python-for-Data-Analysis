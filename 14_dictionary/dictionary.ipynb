{
 "cells": [
  {
   "cell_type": "markdown",
   "id": "48b6372d-3902-4de9-b6f4-0bd775141087",
   "metadata": {},
   "source": [
    "# Python Dictionaries and Dictionary Methods\n",
    "\n",
    "## What is a Dictionary?\n",
    "A **dictionary** in Python is an **unordered**, **mutable**, and **key-value** pair collection. It allows efficient data retrieval and modification. Dictionaries in Python are ordered as of Python 3.7\n",
    "\n",
    "### Creating a Dictionary:\n",
    "```python\n",
    "# Empty dictionary\n",
    "empty_dict = {}\n",
    "\n",
    "# Dictionary with key-value pairs\n",
    "student = {\n",
    "    \"name\": \"Alice\",\n",
    "    \"age\": 25,\n",
    "    \"grade\": \"A\"\n",
    "}\n",
    "\n",
    "# Using dict() constructor\n",
    "person = dict(name=\"John\", age=30, city=\"New York\")\n",
    "```\n",
    "\n",
    "## Accessing Dictionary Elements\n",
    "```python\n",
    "# Using keys\n",
    "print(student[\"name\"])  # Alice\n",
    "\n",
    "# Using get() (avoids KeyError if key doesn't exist)\n",
    "print(student.get(\"age\"))  # 25\n",
    "print(student.get(\"height\", \"Not Found\"))  # Default value\n",
    "```\n",
    "\n",
    "## Common Dictionary Methods\n",
    "\n",
    "| Method | Description | Example |\n",
    "|--------|------------|---------|\n",
    "| `keys()` | Returns all keys in the dictionary. | `student.keys()` |\n",
    "| `values()` | Returns all values in the dictionary. | `student.values()` |\n",
    "| `items()` | Returns key-value pairs as tuples. | `student.items()` |\n",
    "| `get(key, default)` | Returns value for `key`, or `default` if key not found. | `student.get(\"age\", 0)` |\n",
    "| `update(dict2)` | Merges `dict2` into the dictionary. | `student.update({\"age\": 26})` |\n",
    "| `pop(key, default)` | Removes key and returns its value (or `default` if key not found). | `student.pop(\"grade\")` |\n",
    "| `popitem()` | Removes and returns the last inserted key-value pair. | `student.popitem()` |\n",
    "| `setdefault(key, default)` | Returns value for `key`, else sets it to `default`. | `student.setdefault(\"city\", \"Unknown\")` |\n",
    "| `clear()` | Removes all items from the dictionary. | `student.clear()` |\n",
    "| `copy()` | Returns a shallow copy of the dictionary. | `new_dict = student.copy()` |\n",
    "\n",
    "## Example Usage:\n",
    "```python\n",
    "student = {\"name\": \"Alice\", \"age\": 25, \"grade\": \"A\"}\n",
    "\n",
    "# Adding a new key-value pair\n",
    "student[\"city\"] = \"New York\"\n",
    "\n",
    "# Updating an existing value\n",
    "student[\"age\"] = 26\n",
    "\n",
    "# Removing an item\n",
    "student.pop(\"grade\")\n",
    "\n",
    "# Iterating over a dictionary\n",
    "for key, value in student.items():\n",
    "    print(key, \":\", value)\n",
    "\n",
    "# Output:\n",
    "# name : Alice\n",
    "# age : 26\n",
    "# city : New York\n",
    "```\n",
    "\n",
    "## Dictionary Comprehension:\n",
    "```python\n",
    "# Creating a dictionary using comprehension\n",
    "squares = {x: x**2 for x in range(1, 6)}\n",
    "print(squares)  # {1: 1, 2: 4, 3: 9, 4: 16, 5: 25}\n",
    "```\n",
    "\n",
    "## Key Properties of Dictionaries:\n",
    "- **Unordered** (Python 3.6+ maintains insertion order).\n",
    "- **Keys must be unique and immutable** (e.g., strings, numbers, tuples).\n",
    "- **Values can be mutable** and of any type.\n"
   ]
  },
  {
   "cell_type": "code",
   "execution_count": 1,
   "id": "b67f2ac2-1174-484a-95ca-f5e23f770e94",
   "metadata": {},
   "outputs": [],
   "source": [
    "d = {}"
   ]
  },
  {
   "cell_type": "markdown",
   "id": "871aa19a-300a-4c53-b826-2a084bc4e541",
   "metadata": {},
   "source": [
    "this is an empty dictionary"
   ]
  },
  {
   "cell_type": "code",
   "execution_count": 2,
   "id": "aa6d828b-6926-4cd5-bd4e-66151aa30f6e",
   "metadata": {},
   "outputs": [
    {
     "data": {
      "text/plain": [
       "dict"
      ]
     },
     "execution_count": 2,
     "metadata": {},
     "output_type": "execute_result"
    }
   ],
   "source": [
    "type(d)"
   ]
  },
  {
   "cell_type": "code",
   "execution_count": 9,
   "id": "e1623402-bd9f-4752-b00c-1c3488415946",
   "metadata": {},
   "outputs": [],
   "source": [
    "student = {\"name\":\"shashwat\",\n",
    "      \"age\" : 22,\n",
    "       \"cgpa\":8}"
   ]
  },
  {
   "cell_type": "code",
   "execution_count": 10,
   "id": "52b9bcb9-5fd1-44e6-b3e3-d2040283fd7e",
   "metadata": {},
   "outputs": [
    {
     "data": {
      "text/plain": [
       "'shashwat'"
      ]
     },
     "execution_count": 10,
     "metadata": {},
     "output_type": "execute_result"
    }
   ],
   "source": [
    "student[\"name\"]"
   ]
  },
  {
   "cell_type": "code",
   "execution_count": 11,
   "id": "093a59f7-08c2-4675-937c-86094b78b5bf",
   "metadata": {},
   "outputs": [
    {
     "data": {
      "text/plain": [
       "22"
      ]
     },
     "execution_count": 11,
     "metadata": {},
     "output_type": "execute_result"
    }
   ],
   "source": [
    "student[\"age\"]"
   ]
  },
  {
   "cell_type": "code",
   "execution_count": 13,
   "id": "b5e0ba2f-64d2-4d36-97ea-456702b1464f",
   "metadata": {},
   "outputs": [
    {
     "data": {
      "text/plain": [
       "8"
      ]
     },
     "execution_count": 13,
     "metadata": {},
     "output_type": "execute_result"
    }
   ],
   "source": [
    "student[\"cgpa\"]"
   ]
  },
  {
   "cell_type": "markdown",
   "id": "f3070880-e767-4587-8c2d-0e3e8b085a75",
   "metadata": {},
   "source": [
    "lets suppose we are not sure of cgpa key name of student but we dont want to see errors if the name is not correct"
   ]
  },
  {
   "cell_type": "code",
   "execution_count": 2,
   "id": "182e5b9d-ae12-4abd-a96a-caa1bb49810c",
   "metadata": {},
   "outputs": [
    {
     "ename": "NameError",
     "evalue": "name 'student' is not defined",
     "output_type": "error",
     "traceback": [
      "\u001b[31m---------------------------------------------------------------------------\u001b[39m",
      "\u001b[31mNameError\u001b[39m                                 Traceback (most recent call last)",
      "\u001b[36mCell\u001b[39m\u001b[36m \u001b[39m\u001b[32mIn[2]\u001b[39m\u001b[32m, line 1\u001b[39m\n\u001b[32m----> \u001b[39m\u001b[32m1\u001b[39m student.get(\u001b[33m\"\u001b[39m\u001b[33mgpa\u001b[39m\u001b[33m\"\u001b[39m)\n",
      "\u001b[31mNameError\u001b[39m: name 'student' is not defined"
     ]
    }
   ],
   "source": [
    "student.get(\"gpa\")"
   ]
  },
  {
   "cell_type": "markdown",
   "id": "401c7ec8-382b-4654-9c37-c46a65561989",
   "metadata": {},
   "source": [
    "using .get() we will get error if the name is not correct,scince gpa key doesnot exist \n"
   ]
  },
  {
   "cell_type": "code",
   "execution_count": 17,
   "id": "37df0d9c-6ae7-4eb4-a9d5-9c6b3d0c0a78",
   "metadata": {},
   "outputs": [
    {
     "data": {
      "text/plain": [
       "'does not exist'"
      ]
     },
     "execution_count": 17,
     "metadata": {},
     "output_type": "execute_result"
    }
   ],
   "source": [
    "student.get(\"gpa\",\"does not exist\")"
   ]
  },
  {
   "cell_type": "markdown",
   "id": "61d7381a-24bf-4d09-bd3d-a450fedd3da5",
   "metadata": {},
   "source": [
    "like this we can handle error with dictionary"
   ]
  },
  {
   "cell_type": "markdown",
   "id": "a1720e0a-add8-4f54-a9ce-06cd3827260d",
   "metadata": {},
   "source": [
    "since dictionaries are mutable we can change the key values "
   ]
  },
  {
   "cell_type": "code",
   "execution_count": 18,
   "id": "6b3364b4-8960-4994-bd46-882237eb1299",
   "metadata": {},
   "outputs": [],
   "source": [
    "student[\"age\"]= 25"
   ]
  },
  {
   "cell_type": "code",
   "execution_count": 19,
   "id": "98bf8531-4965-4b94-8d38-c3dc13a011ff",
   "metadata": {},
   "outputs": [
    {
     "data": {
      "text/plain": [
       "25"
      ]
     },
     "execution_count": 19,
     "metadata": {},
     "output_type": "execute_result"
    }
   ],
   "source": [
    "student[\"age\"]"
   ]
  },
  {
   "cell_type": "markdown",
   "id": "364b0a99-7099-41ba-a78d-dc3258ff58d5",
   "metadata": {},
   "source": [
    "now the age key of student dictionary has been changed"
   ]
  },
  {
   "cell_type": "markdown",
   "id": "18a0abc9-d09b-44e0-8aa4-dd280b00b5f6",
   "metadata": {},
   "source": [
    "we can access the keys or values of dictionary"
   ]
  },
  {
   "cell_type": "code",
   "execution_count": 20,
   "id": "800d8b64-55cb-4151-a1bb-cfae9af830fb",
   "metadata": {},
   "outputs": [
    {
     "data": {
      "text/plain": [
       "dict_keys(['name', 'age', 'cgpa'])"
      ]
     },
     "execution_count": 20,
     "metadata": {},
     "output_type": "execute_result"
    }
   ],
   "source": [
    "student.keys()"
   ]
  },
  {
   "cell_type": "code",
   "execution_count": 21,
   "id": "27667778-2873-45eb-bceb-7a31282209fd",
   "metadata": {},
   "outputs": [
    {
     "data": {
      "text/plain": [
       "dict_values(['shashwat', 25, 8])"
      ]
     },
     "execution_count": 21,
     "metadata": {},
     "output_type": "execute_result"
    }
   ],
   "source": [
    "student.values()"
   ]
  },
  {
   "cell_type": "code",
   "execution_count": 22,
   "id": "ddf5a9f1-d92e-4843-9059-eebe69f08bf1",
   "metadata": {},
   "outputs": [
    {
     "name": "stdout",
     "output_type": "stream",
     "text": [
      "shashwat\n",
      "25\n",
      "8\n"
     ]
    }
   ],
   "source": [
    "for i in student.values():\n",
    "    print(i)"
   ]
  },
  {
   "cell_type": "markdown",
   "id": "126b91e3-ca1b-4993-ad9f-441a3c05886b",
   "metadata": {},
   "source": [
    "nice!"
   ]
  },
  {
   "cell_type": "markdown",
   "id": "b2d8f530-3d82-4778-afdf-2caf09d5d5b3",
   "metadata": {},
   "source": [
    "we can do the same with key value pairs using items()"
   ]
  },
  {
   "cell_type": "code",
   "execution_count": 23,
   "id": "85583dbc-2a74-4963-867c-1143690d3134",
   "metadata": {},
   "outputs": [
    {
     "data": {
      "text/plain": [
       "dict_items([('name', 'shashwat'), ('age', 25), ('cgpa', 8)])"
      ]
     },
     "execution_count": 23,
     "metadata": {},
     "output_type": "execute_result"
    }
   ],
   "source": [
    "student.items()"
   ]
  },
  {
   "cell_type": "code",
   "execution_count": 24,
   "id": "3e3e0430-8919-4e20-8cd0-8cf3efadf353",
   "metadata": {},
   "outputs": [
    {
     "name": "stdout",
     "output_type": "stream",
     "text": [
      "('name', 'shashwat')\n",
      "('age', 25)\n",
      "('cgpa', 8)\n"
     ]
    }
   ],
   "source": [
    "for i in student.items():\n",
    "    print(i)"
   ]
  },
  {
   "cell_type": "markdown",
   "id": "8f80680b-014e-47dc-b788-a27e1543e16f",
   "metadata": {},
   "source": [
    "we can access key - value pairs in tuples"
   ]
  },
  {
   "cell_type": "markdown",
   "id": "a62eef9f-bb7e-4392-a30f-a910b4e454df",
   "metadata": {},
   "source": [
    "we can update a dictionary like this"
   ]
  },
  {
   "cell_type": "code",
   "execution_count": 25,
   "id": "bd995462-81cf-4939-8a37-1f46a616b83b",
   "metadata": {},
   "outputs": [],
   "source": [
    "student2={\"name\":\"binod\"}"
   ]
  },
  {
   "cell_type": "markdown",
   "id": "79ac32a7-f149-46f4-9b76-3de98eb9d05b",
   "metadata": {},
   "source": [
    "now i want to update this name in student dict"
   ]
  },
  {
   "cell_type": "code",
   "execution_count": 26,
   "id": "02721f09-84f7-4484-94b5-80ef2d8942eb",
   "metadata": {},
   "outputs": [],
   "source": [
    "student.update(student2)"
   ]
  },
  {
   "cell_type": "markdown",
   "id": "a5e9bdad-fcba-4637-8352-e61a375c40b7",
   "metadata": {},
   "source": [
    "now the student has been updated"
   ]
  },
  {
   "cell_type": "code",
   "execution_count": 27,
   "id": "793189a9-ed3e-4676-9522-7331e4ec150d",
   "metadata": {},
   "outputs": [
    {
     "data": {
      "text/plain": [
       "{'name': 'binod', 'age': 25, 'cgpa': 8}"
      ]
     },
     "execution_count": 27,
     "metadata": {},
     "output_type": "execute_result"
    }
   ],
   "source": [
    "student"
   ]
  },
  {
   "cell_type": "markdown",
   "id": "30e8fe0c-2154-469a-913a-2f210b80c850",
   "metadata": {},
   "source": [
    "the name is now binod"
   ]
  },
  {
   "cell_type": "markdown",
   "id": "c7829799-8f5d-4a94-9fd9-7df25c7be4b6",
   "metadata": {},
   "source": [
    "or we can directly update"
   ]
  },
  {
   "cell_type": "code",
   "execution_count": 28,
   "id": "f4287a0b-f9de-4fae-b497-9824b43b3847",
   "metadata": {},
   "outputs": [],
   "source": [
    "student.update({\"name\":\"vishal\"})"
   ]
  },
  {
   "cell_type": "code",
   "execution_count": 29,
   "id": "882f6f96-d4a3-4b82-830d-a9b00221df2a",
   "metadata": {},
   "outputs": [
    {
     "data": {
      "text/plain": [
       "{'name': 'vishal', 'age': 25, 'cgpa': 8}"
      ]
     },
     "execution_count": 29,
     "metadata": {},
     "output_type": "execute_result"
    }
   ],
   "source": [
    "student"
   ]
  },
  {
   "cell_type": "markdown",
   "id": "03dd0c4a-0f42-41b1-b584-3e9a83fb6e7b",
   "metadata": {},
   "source": [
    "nice!"
   ]
  },
  {
   "cell_type": "markdown",
   "id": "76b987d1-06a3-4ce2-9fc6-e80ce72409a7",
   "metadata": {},
   "source": [
    "lets change name and add language as well"
   ]
  },
  {
   "cell_type": "code",
   "execution_count": 30,
   "id": "cc8bc719-02e6-47f3-88fe-34e821b437d5",
   "metadata": {},
   "outputs": [],
   "source": [
    "student.update({\"name\":\"Ayan\",\"language\":\"python\"})"
   ]
  },
  {
   "cell_type": "code",
   "execution_count": 31,
   "id": "3dbbcc2b-3d6d-4a64-8642-13b0f94c90d8",
   "metadata": {},
   "outputs": [
    {
     "data": {
      "text/plain": [
       "{'name': 'Ayan', 'age': 25, 'cgpa': 8, 'language': 'python'}"
      ]
     },
     "execution_count": 31,
     "metadata": {},
     "output_type": "execute_result"
    }
   ],
   "source": [
    "student"
   ]
  },
  {
   "cell_type": "code",
   "execution_count": 32,
   "id": "0eba9c00-1e6a-403a-9505-50e1ae1c5db3",
   "metadata": {},
   "outputs": [
    {
     "data": {
      "text/plain": [
       "'Ayan'"
      ]
     },
     "execution_count": 32,
     "metadata": {},
     "output_type": "execute_result"
    }
   ],
   "source": [
    "student.pop(\"name\")"
   ]
  },
  {
   "cell_type": "code",
   "execution_count": 33,
   "id": "61494b84-fe1d-43c4-a057-41b3fe9416e2",
   "metadata": {},
   "outputs": [
    {
     "data": {
      "text/plain": [
       "{'age': 25, 'cgpa': 8, 'language': 'python'}"
      ]
     },
     "execution_count": 33,
     "metadata": {},
     "output_type": "execute_result"
    }
   ],
   "source": [
    "student"
   ]
  },
  {
   "cell_type": "markdown",
   "id": "60558c0a-184b-4dee-bd83-48ce2cc4d738",
   "metadata": {},
   "source": [
    "the key value pair of name and ayan is removed and popped out"
   ]
  },
  {
   "cell_type": "code",
   "execution_count": 34,
   "id": "4c685e79-c00a-402a-bb85-ade26f7ef9b9",
   "metadata": {},
   "outputs": [
    {
     "data": {
      "text/plain": [
       "('language', 'python')"
      ]
     },
     "execution_count": 34,
     "metadata": {},
     "output_type": "execute_result"
    }
   ],
   "source": [
    "student.popitem()"
   ]
  },
  {
   "cell_type": "code",
   "execution_count": 35,
   "id": "74b577d2-a706-4c09-b8da-fd6c37ad871a",
   "metadata": {},
   "outputs": [
    {
     "data": {
      "text/plain": [
       "{'age': 25, 'cgpa': 8}"
      ]
     },
     "execution_count": 35,
     "metadata": {},
     "output_type": "execute_result"
    }
   ],
   "source": [
    "student"
   ]
  },
  {
   "cell_type": "markdown",
   "id": "46a24c68-ee92-4df4-90be-f6c22e9c28c6",
   "metadata": {},
   "source": [
    "now the last inserted key value pair has been popped out"
   ]
  },
  {
   "cell_type": "code",
   "execution_count": 36,
   "id": "f65aa540-5e84-40db-bd50-0ddbd1d97777",
   "metadata": {},
   "outputs": [
    {
     "data": {
      "text/plain": [
       "25"
      ]
     },
     "execution_count": 36,
     "metadata": {},
     "output_type": "execute_result"
    }
   ],
   "source": [
    "student.setdefault(\"age\",\"does not exist\")"
   ]
  },
  {
   "cell_type": "markdown",
   "id": "93ff0422-419d-49fd-beee-df8fa045ce1e",
   "metadata": {},
   "source": [
    "works same as get"
   ]
  },
  {
   "cell_type": "code",
   "execution_count": 39,
   "id": "f022d67c-3960-4d84-a020-b75024a1f550",
   "metadata": {},
   "outputs": [],
   "source": [
    "student3 = student.copy()"
   ]
  },
  {
   "cell_type": "code",
   "execution_count": 40,
   "id": "53509c7c-b103-4a4c-a2b5-cd31b4f23970",
   "metadata": {},
   "outputs": [
    {
     "data": {
      "text/plain": [
       "{'age': 25, 'cgpa': 8}"
      ]
     },
     "execution_count": 40,
     "metadata": {},
     "output_type": "execute_result"
    }
   ],
   "source": [
    "student3"
   ]
  },
  {
   "cell_type": "markdown",
   "id": "a2d6ca03-df12-4b55-8dc1-43be23d9a34b",
   "metadata": {},
   "source": [
    "the copy of student as student3 has been created"
   ]
  },
  {
   "cell_type": "code",
   "execution_count": 41,
   "id": "64636dcf-a16b-41ca-9f41-ba58f68b84f6",
   "metadata": {},
   "outputs": [],
   "source": [
    "student.clear()"
   ]
  },
  {
   "cell_type": "code",
   "execution_count": 42,
   "id": "df0bf075-e252-44dc-ab5b-a907f5b150a2",
   "metadata": {},
   "outputs": [],
   "source": [
    "student3.clear()"
   ]
  },
  {
   "cell_type": "code",
   "execution_count": 43,
   "id": "043c8d37-f626-45d6-be68-44374fbbb570",
   "metadata": {},
   "outputs": [],
   "source": [
    "student2.clear()"
   ]
  },
  {
   "cell_type": "code",
   "execution_count": 44,
   "id": "558e856a-3afe-4f5c-922c-63ce6769ba40",
   "metadata": {},
   "outputs": [
    {
     "data": {
      "text/plain": [
       "{}"
      ]
     },
     "execution_count": 44,
     "metadata": {},
     "output_type": "execute_result"
    }
   ],
   "source": [
    "student"
   ]
  },
  {
   "cell_type": "code",
   "execution_count": 45,
   "id": "48a2793c-eaf8-4ddd-9369-5b78b22431a0",
   "metadata": {},
   "outputs": [
    {
     "data": {
      "text/plain": [
       "{}"
      ]
     },
     "execution_count": 45,
     "metadata": {},
     "output_type": "execute_result"
    }
   ],
   "source": [
    "student2"
   ]
  },
  {
   "cell_type": "code",
   "execution_count": 46,
   "id": "d67ceebc-df90-4427-b632-25e679c2666a",
   "metadata": {},
   "outputs": [
    {
     "data": {
      "text/plain": [
       "{}"
      ]
     },
     "execution_count": 46,
     "metadata": {},
     "output_type": "execute_result"
    }
   ],
   "source": [
    "student3"
   ]
  },
  {
   "cell_type": "markdown",
   "id": "e10e46b7-58b1-433f-90df-c0c69ea687cb",
   "metadata": {},
   "source": [
    "cleared every thing to empty dictionary "
   ]
  }
 ],
 "metadata": {
  "kernelspec": {
   "display_name": "Python 3 (ipykernel)",
   "language": "python",
   "name": "python3"
  },
  "language_info": {
   "codemirror_mode": {
    "name": "ipython",
    "version": 3
   },
   "file_extension": ".py",
   "mimetype": "text/x-python",
   "name": "python",
   "nbconvert_exporter": "python",
   "pygments_lexer": "ipython3",
   "version": "3.13.5"
  }
 },
 "nbformat": 4,
 "nbformat_minor": 5
}
