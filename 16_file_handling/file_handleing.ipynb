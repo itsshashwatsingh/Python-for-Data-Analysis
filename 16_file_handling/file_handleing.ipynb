{
 "cells": [
  {
   "cell_type": "markdown",
   "id": "d7f5fffb-c0d6-4eb4-b993-0449b7da4463",
   "metadata": {},
   "source": [
    "# File Handling in Python\n",
    "\n",
    "File handling allows Python programs to **read, write, and manipulate files** stored on disk. Python provides built-in functions for working with files.\n",
    "\n",
    "---\n",
    "\n",
    "## Opening a File\n",
    "Python uses the `open()` function to open a file.\n",
    "\n",
    "### **Syntax**\n",
    "```python\n",
    "file = open(\"filename\", mode)\n",
    "```\n",
    "- **`filename`** → The name of the file to open.\n",
    "- **`mode`** → Specifies how the file should be opened.\n",
    "\n",
    "### **File Modes**\n",
    "| Mode | Description |\n",
    "|------|-------------|\n",
    "| `'r'` | Read (default) – Opens file for reading, **raises an error if file does not exist**. |\n",
    "| `'w'` | Write – Opens file for writing, **creates a new file if not found**, and **overwrites existing content**. |\n",
    "| `'a'` | Append – Opens file for writing, **creates a new file if not found**, and appends content instead of overwriting. |\n",
    "| `'x'` | Create – Creates a new file, but **fails if the file already exists**. |\n",
    "| `'b'` | Binary mode – Used with `rb`, `wb`, `ab`, etc., for working with non-text files (e.g., images, PDFs). |\n",
    "| `'t'` | Text mode (default) – Used for text files (e.g., `rt`, `wt`). |\n",
    "\n",
    "---\n",
    "\n",
    "## Reading Files\n",
    "\n",
    "### **Using `read()` – Read Entire File**\n",
    "```python\n",
    "file = open(\"example.txt\", \"r\")\n",
    "content = file.read()\n",
    "print(content)\n",
    "file.close()  # Always close the file after use\n",
    "```\n",
    "\n",
    "### **Using `readline()` – Read Line by Line**\n",
    "```python\n",
    "file = open(\"example.txt\", \"r\")\n",
    "line1 = file.readline()  # Reads first line\n",
    "print(line1)\n",
    "file.close()\n",
    "```\n",
    "\n",
    "### **Using `readlines()` – Read All Lines as List**\n",
    "```python\n",
    "file = open(\"example.txt\", \"r\")\n",
    "lines = file.readlines()  # Reads all lines into a list\n",
    "print(lines)\n",
    "file.close()\n",
    "```\n",
    "\n",
    "---\n",
    "\n",
    "## Writing to Files\n",
    "\n",
    "### **Using `write()` – Overwrites Existing Content**\n",
    "```python\n",
    "file = open(\"example.txt\", \"w\")  # Opens file in write mode\n",
    "file.write(\"Hello, World!\")  # Writes content\n",
    "file.close()\n",
    "```\n",
    "\n",
    "### **Using `writelines()` – Write Multiple Lines**\n",
    "```python\n",
    "lines = [\"Hello\\n\", \"Welcome to Python\\n\", \"File Handling\\n\"]\n",
    "\n",
    "file = open(\"example.txt\", \"w\")\n",
    "file.writelines(lines)  # Writes multiple lines\n",
    "file.close()\n",
    "```\n",
    "\n",
    "---\n",
    "\n",
    "## Appending to a File\n",
    "The **`a` (append) mode** is used to add content to an existing file without erasing previous data.\n",
    "\n",
    "```python\n",
    "file = open(\"example.txt\", \"a\")\n",
    "file.write(\"\\nThis is an additional line.\")\n",
    "file.close()\n",
    "```\n",
    "\n",
    "---\n",
    "\n",
    "## Using `with` Statement (Best Practice)\n",
    "Using `with open()` ensures the file is **automatically closed** after execution.\n",
    "\n",
    "```python\n",
    "with open(\"example.txt\", \"r\") as file:\n",
    "    content = file.read()\n",
    "    print(content)  # No need to manually close the file\n",
    "```\n",
    "\n",
    "---\n",
    "\n",
    "## Checking if a File Exists\n",
    "Use the `os` module to check if a file exists before opening it.\n",
    "\n",
    "```python\n",
    "import os\n",
    "\n",
    "if os.path.exists(\"example.txt\"):\n",
    "    print(\"File exists!\")\n",
    "else:\n",
    "    print(\"File not found!\")\n",
    "```\n",
    "\n",
    "---\n",
    "\n",
    "## Deleting a File\n",
    "Use the `os` module to delete a file.\n",
    "\n",
    "```python\n",
    "import os\n",
    "\n",
    "if os.path.exists(\"example.txt\"):\n",
    "    os.remove(\"example.txt\")\n",
    "    print(\"File deleted.\")\n",
    "else:\n",
    "    print(\"File does not exist.\")\n",
    "```\n",
    "\n",
    "---\n",
    "\n",
    "## Working with Binary Files\n",
    "Binary files (`.jpg`, `.png`, `.pdf`, etc.) should be opened in **binary mode (`'b'`)**.\n",
    "\n",
    "### **Reading a Binary File**\n",
    "```python\n",
    "with open(\"image.jpg\", \"rb\") as file:\n",
    "    data = file.read()\n",
    "    print(data)  # Outputs binary content\n",
    "```\n",
    "\n",
    "### **Writing to a Binary File**\n",
    "```python\n",
    "with open(\"new_image.jpg\", \"wb\") as file:\n",
    "    file.write(data)  # Writes binary content to a new file\n",
    "```\n",
    "\n",
    "---\n",
    "\n",
    "## Summary of File Operations\n",
    "\n",
    "| Operation | Description | Example |\n",
    "|-----------|-------------|---------|\n",
    "| Open file | Open a file | `file = open(\"example.txt\", \"r\")` |\n",
    "| Read file | Read all content | `file.read()` |\n",
    "| Read line | Read one line | `file.readline()` |\n",
    "| Read lines | Read all lines into list | `file.readlines()` |\n",
    "| Write file | Write content (overwrite) | `file.write(\"Hello\")` |\n",
    "| Append file | Add content to the end | `file.write(\"\\nMore text\")` |\n",
    "| Check file existence | Check before opening/deleting | `os.path.exists(\"file.txt\")` |\n",
    "| Delete file | Remove a file | `os.remove(\"file.txt\")` |"
   ]
  },
  {
   "cell_type": "code",
   "execution_count": 16,
   "id": "3353e369-a576-4c31-99fc-c851f6062070",
   "metadata": {},
   "outputs": [],
   "source": [
    "f = open(\"text.txt\",\"r\")"
   ]
  },
  {
   "cell_type": "code",
   "execution_count": 17,
   "id": "10beeab7-4752-41fb-bee2-af5f5a18f956",
   "metadata": {},
   "outputs": [
    {
     "data": {
      "text/plain": [
       "'shashwat\\nis\\na\\ngood\\nboy'"
      ]
     },
     "execution_count": 17,
     "metadata": {},
     "output_type": "execute_result"
    }
   ],
   "source": [
    "f.read()"
   ]
  },
  {
   "cell_type": "code",
   "execution_count": 19,
   "id": "23c67451-d2eb-477e-9383-38cf4960b74f",
   "metadata": {},
   "outputs": [],
   "source": [
    "f.close()"
   ]
  },
  {
   "cell_type": "code",
   "execution_count": 1,
   "id": "5cac0ca8-2e99-4854-8042-90c156e285f3",
   "metadata": {},
   "outputs": [],
   "source": [
    "f = open(\"shashwat.txt\",\"w\")"
   ]
  },
  {
   "cell_type": "code",
   "execution_count": 2,
   "id": "60cf6369-4185-4ed3-8900-5344bb72cf2c",
   "metadata": {},
   "outputs": [],
   "source": [
    "s = \"shashwat is a hecker he is a good boy who lives in banglore and is a data scientiest\""
   ]
  },
  {
   "cell_type": "code",
   "execution_count": 3,
   "id": "234437fd-01f8-4257-a281-d80a2821f4c0",
   "metadata": {},
   "outputs": [
    {
     "data": {
      "text/plain": [
       "84"
      ]
     },
     "execution_count": 3,
     "metadata": {},
     "output_type": "execute_result"
    }
   ],
   "source": [
    "f.write(s)"
   ]
  },
  {
   "cell_type": "code",
   "execution_count": 5,
   "id": "1d7fff76-ce32-495f-b44b-a84e78cdda99",
   "metadata": {},
   "outputs": [],
   "source": [
    "f.close()"
   ]
  },
  {
   "cell_type": "code",
   "execution_count": 10,
   "id": "4f3a8cca-1c46-4d76-9769-1738b397941a",
   "metadata": {},
   "outputs": [],
   "source": [
    "f = open(\"shashwat.txt\",\"a\")\n",
    "a = \" shashwat had done his graduation from srm university chennai and now working as a data scientiest in banglore\"\n",
    "f.write(a)\n",
    "f.close()"
   ]
  },
  {
   "cell_type": "code",
   "execution_count": 11,
   "id": "b1091aae-4587-4eba-ab5a-9ede7e1819df",
   "metadata": {},
   "outputs": [
    {
     "name": "stdout",
     "output_type": "stream",
     "text": [
      "shashwat is a hecker he is a good boy who lives in banglore and is a data scientiestshashwat had done his graduation from srm university chennai and now working as a data scientiest in banglore shashwat had done his graduation from srm university chennai and now working as a data scientiest in banglore\n"
     ]
    }
   ],
   "source": [
    "f = open(\"shashwat.txt\",\"rt\")\n",
    "for i in f:\n",
    "    print(i)\n",
    "f.close()"
   ]
  },
  {
   "cell_type": "code",
   "execution_count": 14,
   "id": "b381cfa0-294a-4ebc-bc3a-2725c26dde20",
   "metadata": {},
   "outputs": [
    {
     "name": "stdout",
     "output_type": "stream",
     "text": [
      "shashwat is a hecker he is a good boy who lives in banglore and is a data scientiestshashwat had done his graduation from srm university chennai and now working as a data scientiest in banglore shashwat had done his graduation from srm university chennai and now working as a data scientiest in banglore\n"
     ]
    }
   ],
   "source": [
    "with open(\"shashwat.txt\",\"rt\") as f:\n",
    "    content = f.read()\n",
    "    print(content)"
   ]
  },
  {
   "cell_type": "code",
   "execution_count": 18,
   "id": "81811494-a560-47e0-b3ec-4b842069ac2b",
   "metadata": {},
   "outputs": [
    {
     "name": "stdout",
     "output_type": "stream",
     "text": [
      "C:\\Users\\fusio\\Desktop\\python\\Python-learn\\16_file_handling\n"
     ]
    }
   ],
   "source": [
    "import os\n",
    "\n",
    "print(os.getcwd())"
   ]
  },
  {
   "cell_type": "code",
   "execution_count": 21,
   "id": "0ec71ef4-e63d-4e17-b47c-bb255fbd8459",
   "metadata": {},
   "outputs": [
    {
     "name": "stdout",
     "output_type": "stream",
     "text": [
      "['.ipynb_checkpoints', 'shashwat.txt', 'text.txt']\n"
     ]
    }
   ],
   "source": [
    "print(os.listdir(\"dir\"))"
   ]
  },
  {
   "cell_type": "code",
   "execution_count": 23,
   "id": "70efc4fc-1223-49f6-a38d-55a068c06cf1",
   "metadata": {},
   "outputs": [
    {
     "name": "stdout",
     "output_type": "stream",
     "text": [
      "True\n"
     ]
    }
   ],
   "source": [
    "print(os.path.exists(\"dir\"))"
   ]
  },
  {
   "cell_type": "code",
   "execution_count": 24,
   "id": "d6f4e7be-d858-4e74-be7f-4ac61a4885b5",
   "metadata": {},
   "outputs": [
    {
     "name": "stdout",
     "output_type": "stream",
     "text": [
      "False\n"
     ]
    }
   ],
   "source": [
    "print(os.path.exists(\"shashwat\"))"
   ]
  },
  {
   "cell_type": "code",
   "execution_count": 27,
   "id": "964b914e-5ad5-4799-aa54-aa592e749eab",
   "metadata": {},
   "outputs": [],
   "source": [
    "os.remove(\"hi.txt\")"
   ]
  },
  {
   "cell_type": "code",
   "execution_count": null,
   "id": "b3da3f01-89a7-4ab8-94c8-29dc98acd1d4",
   "metadata": {},
   "outputs": [],
   "source": []
  }
 ],
 "metadata": {
  "kernelspec": {
   "display_name": "Python 3 (ipykernel)",
   "language": "python",
   "name": "python3"
  },
  "language_info": {
   "codemirror_mode": {
    "name": "ipython",
    "version": 3
   },
   "file_extension": ".py",
   "mimetype": "text/x-python",
   "name": "python",
   "nbconvert_exporter": "python",
   "pygments_lexer": "ipython3",
   "version": "3.13.5"
  }
 },
 "nbformat": 4,
 "nbformat_minor": 5
}
