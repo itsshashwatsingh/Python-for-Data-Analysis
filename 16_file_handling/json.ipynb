{
 "cells": [
  {
   "cell_type": "markdown",
   "id": "df17740d-4e5a-4d7e-83c5-afed6fe327d4",
   "metadata": {},
   "source": [
    "# Python `json` Module – Working with JSON Data\n",
    "\n",
    "## What is JSON?\n",
    "JSON (**JavaScript Object Notation**) is a lightweight data format used for data exchange between servers and applications. It is widely used in **APIs, web applications, and configurations**.\n",
    "\n",
    "Python provides the `json` module to work with JSON data.\n",
    "\n",
    "---\n",
    "\n",
    "## Importing the JSON Module\n",
    "```python\n",
    "import json\n",
    "```\n",
    "\n",
    "---\n",
    "\n",
    "## Converting Python Objects to JSON (Serialization)\n",
    "Serialization (also called **encoding or dumping**) is converting a Python object into a JSON-formatted string.\n",
    "\n",
    "### **`json.dumps()`** – Convert Python object to JSON string\n",
    "```python\n",
    "import json\n",
    "\n",
    "data = {\"name\": \"Alice\", \"age\": 25, \"city\": \"New York\"}\n",
    "\n",
    "json_string = json.dumps(data)\n",
    "print(json_string)  # Output: {\"name\": \"Alice\", \"age\": 25, \"city\": \"New York\"}\n",
    "print(type(json_string))  # <class 'str'>\n",
    "```\n",
    "\n",
    "### **`json.dump()`** – Write JSON data to a file\n",
    "```python\n",
    "with open(\"data.json\", \"w\") as file:\n",
    "    json.dump(data, file)\n",
    "```\n",
    "\n",
    "---\n",
    "\n",
    "## Converting JSON to Python Objects (Deserialization)\n",
    "Deserialization (also called **decoding or loading**) is converting JSON-formatted data into Python objects.\n",
    "\n",
    "### **`json.loads()`** – Convert JSON string to Python object\n",
    "```python\n",
    "json_data = '{\"name\": \"Alice\", \"age\": 25, \"city\": \"New York\"}'\n",
    "\n",
    "python_obj = json.loads(json_data)\n",
    "print(python_obj)  # Output: {'name': 'Alice', 'age': 25, 'city': 'New York'}\n",
    "print(type(python_obj))  # <class 'dict'>\n",
    "```\n",
    "\n",
    "### **`json.load()`** – Read JSON data from a file\n",
    "```python\n",
    "with open(\"data.json\", \"r\") as file:\n",
    "    python_data = json.load(file)\n",
    "\n",
    "print(python_data)  # Output: {'name': 'Alice', 'age': 25, 'city': 'New York'}\n",
    "```\n",
    "\n",
    "---\n",
    "\n",
    "## Formatting JSON Output\n",
    "You can format JSON for better readability using **indentation**.\n",
    "\n",
    "```python\n",
    "formatted_json = json.dumps(data, indent=4)\n",
    "print(formatted_json)\n",
    "```\n",
    "**Output:**\n",
    "```json\n",
    "{\n",
    "    \"name\": \"Alice\",\n",
    "    \"age\": 25,\n",
    "    \"city\": \"New York\"\n",
    "}\n",
    "```\n",
    "\n",
    "---\n",
    "\n",
    "## Summary of Common JSON Methods\n",
    "\n",
    "| Method | Description | Example |\n",
    "|--------|------------|---------|\n",
    "| `json.dumps(obj)` | Converts Python object to JSON string | `json.dumps(data)` |\n",
    "| `json.dump(obj, file)` | Writes JSON to a file | `json.dump(data, file)` |\n",
    "| `json.loads(json_string)` | Converts JSON string to Python object | `json.loads(json_data)` |\n",
    "| `json.load(file)` | Reads JSON from a file | `json.load(file)` |\n",
    "\n",
    " "
   ]
  },
  {
   "cell_type": "code",
   "execution_count": 3,
   "id": "4f28e232-16d6-434a-8fe3-cffbcde187c8",
   "metadata": {},
   "outputs": [
    {
     "name": "stdout",
     "output_type": "stream",
     "text": [
      "{'name': 'shashwat', 'marks': 85}\n"
     ]
    }
   ],
   "source": [
    "import json\n",
    "\n",
    "student = '{\"name\":\"shashwat\",\"marks\":85}'\n",
    "\n",
    "s = json.loads(student) # converts the json format string content to python format \n",
    "\n",
    "print(s)"
   ]
  },
  {
   "cell_type": "code",
   "execution_count": 19,
   "id": "13c07d47-bfc7-4efa-8ed6-dcc393c7a336",
   "metadata": {},
   "outputs": [
    {
     "name": "stdout",
     "output_type": "stream",
     "text": [
      "<class 'str'>\n",
      "{\"name\": \"shashwat\", \"marks\": 85}\n"
     ]
    }
   ],
   "source": [
    "student2 = {\"name\":\"shashwat\",\"marks\":85}\n",
    "\n",
    "s2 = json.dumps(student2) # returns converted python format content to json format in string\n",
    "\n",
    "print(type(s2))\n",
    "print(s2)"
   ]
  },
  {
   "cell_type": "code",
   "execution_count": 20,
   "id": "443dbedb-277d-47cd-ab8d-c252d2c32992",
   "metadata": {},
   "outputs": [],
   "source": [
    "file = open(\"data.json\",\"w\") \n",
    "json.dump(s2,file) # this is wrong since s2 is already a json format string and must not stored in json using dump \n"
   ]
  },
  {
   "cell_type": "code",
   "execution_count": 21,
   "id": "a4deffca-3f98-4cf3-aab9-19600fb7947b",
   "metadata": {},
   "outputs": [],
   "source": [
    "file.close()"
   ]
  },
  {
   "cell_type": "code",
   "execution_count": 14,
   "id": "c7e40d3e-8236-41fd-aeb3-3c36ccea4f44",
   "metadata": {},
   "outputs": [],
   "source": [
    "file = open(\"data.json\",\"w\") # to write  into json . python format content will automatically converted to json format while it dump into json\n",
    "json.dump(s,file)\n",
    "file.close()"
   ]
  },
  {
   "cell_type": "code",
   "execution_count": 16,
   "id": "b67afc6c-a19b-4e13-aaa7-bcfde7c353ac",
   "metadata": {},
   "outputs": [
    {
     "name": "stdout",
     "output_type": "stream",
     "text": [
      "{'name': 'shashwat', 'marks': 85}\n"
     ]
    }
   ],
   "source": [
    "file = open(\"data.json\",\"r\") # to read  json file content in python string\n",
    "print(json.load(file))\n",
    "file.close()"
   ]
  },
  {
   "cell_type": "code",
   "execution_count": null,
   "id": "a2b7b3ea-04aa-467b-abf4-397127f7eab8",
   "metadata": {},
   "outputs": [],
   "source": []
  }
 ],
 "metadata": {
  "kernelspec": {
   "display_name": "Python 3 (ipykernel)",
   "language": "python",
   "name": "python3"
  },
  "language_info": {
   "codemirror_mode": {
    "name": "ipython",
    "version": 3
   },
   "file_extension": ".py",
   "mimetype": "text/x-python",
   "name": "python",
   "nbconvert_exporter": "python",
   "pygments_lexer": "ipython3",
   "version": "3.13.5"
  }
 },
 "nbformat": 4,
 "nbformat_minor": 5
}
