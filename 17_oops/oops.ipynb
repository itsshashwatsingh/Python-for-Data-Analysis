{
 "cells": [
  {
   "cell_type": "markdown",
   "id": "babbe403-c7f4-4d73-8bf8-7bd32ba59738",
   "metadata": {},
   "source": [
    "# Object-Oriented Programming (OOP) in Python\n",
    "\n",
    "Object-Oriented Programming (OOP) is a **programming paradigm** that organizes code into objects that contain both **data (attributes)** and **behavior (methods)**.\n",
    "\n",
    "---\n",
    "\n",
    "## Key Concepts of OOP\n",
    "\n",
    "| Concept | Description |\n",
    "|---------|-------------|\n",
    "| **Class** | A blueprint for creating objects. |\n",
    "| **Object** | An instance of a class with specific data and behavior. |\n",
    "| **Attributes** | Variables that store data for an object. |\n",
    "| **Methods** | Functions inside a class that define object behavior. |\n",
    "| **Encapsulation** | Restricting direct access to an object's data. |\n",
    "| **Inheritance** | Creating a new class from an existing class. |\n",
    "| **Polymorphism** | Using the same method name for different classes. |\n",
    "\n",
    "---\n",
    "\n",
    "## 1. Defining a Class and Creating an Object\n",
    "\n",
    "### **Creating a Class**\n",
    "```python\n",
    "class Car:\n",
    "    def __init__(self, brand, model):\n",
    "        self.brand = brand  # Attribute\n",
    "        self.model = model  # Attribute\n",
    "\n",
    "    def display_info(self):  # Method\n",
    "        return f\"{self.brand} {self.model}\"\n",
    "\n",
    "# Creating an Object (Instance)\n",
    "car1 = Car(\"Toyota\", \"Camry\")\n",
    "print(car1.display_info())  # Output: Toyota Camry\n",
    "```\n",
    "\n",
    "---\n",
    "\n",
    "## 2. **Encapsulation** (Data Hiding)\n",
    "Encapsulation prevents direct modification of attributes and allows controlled access using **getter and setter methods**.\n",
    "\n",
    "```python\n",
    "class BankAccount:\n",
    "    def __init__(self, balance):\n",
    "        self.__balance = balance  # Private Attribute\n",
    "\n",
    "    def get_balance(self):  # Getter\n",
    "        return self.__balance\n",
    "\n",
    "    def deposit(self, amount):  # Setter\n",
    "        if amount > 0:\n",
    "            self.__balance += amount\n",
    "\n",
    "# Using Encapsulation\n",
    "account = BankAccount(1000)\n",
    "account.deposit(500)\n",
    "print(account.get_balance())  # Output: 1500\n",
    "```\n",
    "🔹 **Why use encapsulation?**  \n",
    "It protects data by restricting direct modification.\n",
    "\n",
    "---\n",
    "\n",
    "## 3. **Inheritance** (Reusing Code)\n",
    "Inheritance allows a class (**child**) to inherit attributes and methods from another class (**parent**).\n",
    "\n",
    "### **Example of Single Inheritance**\n",
    "```python\n",
    "class Animal:\n",
    "    def speak(self):\n",
    "        return \"Animal makes a sound\"\n",
    "\n",
    "class Dog(Animal):  # Inheriting from Animal\n",
    "    def speak(self):\n",
    "        return \"Bark\"\n",
    "\n",
    "dog = Dog()\n",
    "print(dog.speak())  # Output: Bark\n",
    "```\n",
    "\n",
    "🔹 **Why use inheritance?**  \n",
    "It promotes **code reusability** and maintains a cleaner code structure.\n",
    "\n",
    "---\n",
    "\n",
    "## 4. **Multiple Inheritance**\n",
    "A class can inherit from multiple parent classes.\n",
    "\n",
    "```python\n",
    "class A:\n",
    "    def method_a(self):\n",
    "        return \"Method A\"\n",
    "\n",
    "class B:\n",
    "    def method_b(self):\n",
    "        return \"Method B\"\n",
    "\n",
    "class C(A, B):  # Multiple Inheritance\n",
    "    pass\n",
    "\n",
    "obj = C()\n",
    "print(obj.method_a())  # Output: Method A\n",
    "print(obj.method_b())  # Output: Method B\n",
    "```\n",
    "\n",
    "🔹 **Why use multiple inheritance?**  \n",
    "It allows a class to inherit **features from multiple parent classes**.\n",
    "\n",
    "---\n",
    "\n",
    "## 5. **Polymorphism** (Same Method, Different Behavior)\n",
    "Polymorphism allows different classes to use the **same method name**.\n",
    "\n",
    "### **Method Overriding Example**\n",
    "```python\n",
    "class Bird:\n",
    "    def fly(self):\n",
    "        return \"Birds can fly\"\n",
    "\n",
    "class Penguin(Bird):\n",
    "    def fly(self):\n",
    "        return \"Penguins cannot fly\"\n",
    "\n",
    "bird = Bird()\n",
    "penguin = Penguin()\n",
    "\n",
    "print(bird.fly())      # Output: Birds can fly\n",
    "print(penguin.fly())   # Output: Penguins cannot fly\n",
    "```\n",
    "\n",
    "🔹 **Why use polymorphism?**  \n",
    "It provides **flexibility** by allowing different classes to define the same method differently.\n",
    "\n",
    "---\n",
    "\n",
    "## 6. **Abstraction** (Hiding Implementation Details)\n",
    "Abstraction is used to define a method **without implementing it** in the base class.  \n",
    "It is achieved using **abstract base classes** (`ABC` module).\n",
    "\n",
    "```python\n",
    "from abc import ABC, abstractmethod\n",
    "\n",
    "class Shape(ABC):\n",
    "    @abstractmethod\n",
    "    def area(self):\n",
    "        pass  # No implementation\n",
    "\n",
    "class Square(Shape):\n",
    "    def __init__(self, side):\n",
    "        self.side = side\n",
    "\n",
    "    def area(self):\n",
    "        return self.side * self.side  # Implemented in child class\n",
    "\n",
    "square = Square(4)\n",
    "print(square.area())  # Output: 16\n",
    "```\n",
    "\n",
    "🔹 **Why use abstraction?**  \n",
    "It enforces **consistent implementation** across child classes.\n",
    "\n",
    "---\n",
    "\n",
    "## 7. **Magic Methods (Dunder Methods)**\n",
    "Magic methods allow objects to behave like **built-in types**.\n",
    "\n",
    "### **Example: `__str__()` and `__len__()`**\n",
    "```python\n",
    "class Book:\n",
    "    def __init__(self, title, pages):\n",
    "        self.title = title\n",
    "        self.pages = pages\n",
    "\n",
    "    def __str__(self):  # String representation\n",
    "        return f\"Book: {self.title}\"\n",
    "\n",
    "    def __len__(self):  # Define behavior for len()\n",
    "        return self.pages\n",
    "\n",
    "book = Book(\"Python Basics\", 300)\n",
    "print(str(book))  # Output: Book: Python Basics\n",
    "print(len(book))  # Output: 300\n",
    "```\n",
    "\n",
    "---\n",
    "\n",
    "## 8. **Class vs. Static Methods**\n",
    "| Method Type | Description | Uses `self`? | Uses `cls`? |\n",
    "|------------|-------------|------------|------------|\n",
    "| **Instance Method** | Works with instance attributes | ✅ | ❌ |\n",
    "| **Class Method** | Works with class attributes | ❌ | ✅ |\n",
    "| **Static Method** | Does not use class or instance variables | ❌ | ❌ |\n",
    "\n",
    "### **Example**\n",
    "```python\n",
    "class Example:\n",
    "    class_var = \"I am a class variable\"\n",
    "\n",
    "    def instance_method(self):\n",
    "        return \"Instance Method\"\n",
    "\n",
    "    @classmethod\n",
    "    def class_method(cls):\n",
    "        return cls.class_var\n",
    "\n",
    "    @staticmethod\n",
    "    def static_method():\n",
    "        return \"Static Method\"\n",
    "\n",
    "obj = Example()\n",
    "print(obj.instance_method())  # Output: Instance Method\n",
    "print(Example.class_method()) # Output: I am a class variable\n",
    "print(Example.static_method()) # Output: Static Method\n",
    "```\n",
    "\n",
    "---\n",
    "\n",
    "## Summary of OOP Concepts\n",
    "\n",
    "| Concept | Description | Example |\n",
    "|---------|-------------|---------|\n",
    "| **Class** | A blueprint for creating objects | `class Car:` |\n",
    "| **Object** | An instance of a class | `car1 = Car()` |\n",
    "| **Encapsulation** | Restrict direct access to data | `self.__balance` |\n",
    "| **Inheritance** | A class inherits from another class | `class Dog(Animal)` |\n",
    "| **Polymorphism** | Using the same method in different ways | `def fly(self)` |\n",
    "| **Abstraction** | Hiding implementation details | `@abstractmethod` |\n",
    "| **Magic Methods** | Special methods like `__str__()` | `def __len__(self)` |\n",
    "| **Class Methods** | Works with class variables | `@classmethod` |\n",
    "| **Static Methods** | Independent of class and instance | `@staticmethod` |"
   ]
  },
  {
   "cell_type": "markdown",
   "id": "db246da8-fe75-4cc8-9cf2-3a008a8b3451",
   "metadata": {},
   "source": [
    "class is a blue print or template . for example form for an exam that contains name ,age ,electives ,father name etc"
   ]
  },
  {
   "cell_type": "markdown",
   "id": "efd5dde8-a349-4cc0-97aa-23d846812925",
   "metadata": {},
   "source": [
    "specific template which is created from template (class).for example form which contains data of john doe"
   ]
  },
  {
   "cell_type": "code",
   "execution_count": 7,
   "id": "63d1ad32-73da-47f2-8ac1-3f5edc142bb3",
   "metadata": {},
   "outputs": [
    {
     "name": "stdout",
     "output_type": "stream",
     "text": [
      "40000\n",
      "HP\n",
      "40000\n",
      "HP\n"
     ]
    }
   ],
   "source": [
    "class Employee:  # employeee is the class\n",
    "    company = 'HP'  # which contains 1st  attribute i.e class attribute, company which will return 'HP'\n",
    "    def get_salary(self): # get_salary is a methord which stores salary that is 2nd elective attribute\n",
    "        salary = 40000\n",
    "        return salary # which will return 40000\n",
    "\n",
    "e1 = Employee()  # 1st object object created of e1 emploee ,e1 employee data will be in e1 object which is using class Employee template\n",
    "print(e1.get_salary())\n",
    "print(e1.company)\n",
    "\n",
    "e2 = Employee()\n",
    "print(e2.get_salary())\n",
    "print(e2.company) # 2nd object is created of e2 employee data ,\n",
    "# e2 employee data will be be in e2 object which is also using class Employee template\n"
   ]
  },
  {
   "cell_type": "code",
   "execution_count": 6,
   "id": "8a661f59-c4f6-45ad-b890-7dbe65fef746",
   "metadata": {},
   "outputs": [
    {
     "name": "stdout",
     "output_type": "stream",
     "text": [
      "40000\n",
      "the name of the employee is john doe, his salary is $40000 and bond is of 4 years\n",
      "TCS\n",
      "the name of the employee is jane doe, his salary is $50000 and bond is of 2 years\n"
     ]
    }
   ],
   "source": [
    "class Employee2:\n",
    "    \n",
    "    \n",
    "    company = 'TCS'\n",
    "    def __init__(self,salary,name,bond,company):\n",
    "        self.salary = salary # connecting the self(40000) to salary argument in init\n",
    "        self.name = name # connecting the self(john doe) to name argument in init\n",
    "        self.bond = bond # connecting the self(4) to bond argument in init\n",
    "        self.company = company\n",
    "    def getsalary(self):\n",
    "        return self.salary\n",
    "    def getinfo(self):\n",
    "        print(f\"the name of the employee is {self.name}, his salary is ${self.salary} and bond is of {self.bond} years\")\n",
    "                \n",
    "\n",
    "e3 = Employee2(40000,'john doe',4,'TCS')\n",
    "print(e3.getsalary())\n",
    "e3.getinfo()\n",
    "print(e3.company) \n",
    "\n",
    "e4 = Employee2(50000,'jane doe',2,'Tesla')\n",
    "e4.getinfo()\n",
    "\n"
   ]
  },
  {
   "cell_type": "code",
   "execution_count": 9,
   "id": "67731fb8-5599-4630-9c64-934e2d086558",
   "metadata": {},
   "outputs": [
    {
     "name": "stdout",
     "output_type": "stream",
     "text": [
      "['__class__', '__delattr__', '__dict__', '__dir__', '__doc__', '__eq__', '__firstlineno__', '__format__', '__ge__', '__getattribute__', '__getstate__', '__gt__', '__hash__', '__init__', '__init_subclass__', '__le__', '__lt__', '__module__', '__ne__', '__new__', '__reduce__', '__reduce_ex__', '__repr__', '__setattr__', '__sizeof__', '__static_attributes__', '__str__', '__subclasshook__', '__weakref__', 'bond', 'company', 'getinfo', 'getsalary', 'name', 'salary']\n"
     ]
    }
   ],
   "source": [
    "print(dir(e3)) # all methords and dunders in object e1"
   ]
  },
  {
   "cell_type": "code",
   "execution_count": 10,
   "id": "b0543768-8913-4439-88c6-98d1c7320d89",
   "metadata": {},
   "outputs": [
    {
     "data": {
      "text/plain": [
       "'TCS'"
      ]
     },
     "execution_count": 10,
     "metadata": {},
     "output_type": "execute_result"
    }
   ],
   "source": [
    "Employee2.company # we can check the class atribute from class as well"
   ]
  },
  {
   "cell_type": "code",
   "execution_count": 22,
   "id": "c01012e8-dfe3-48ba-a148-e5f53e3b2a83",
   "metadata": {},
   "outputs": [
    {
     "name": "stdout",
     "output_type": "stream",
     "text": [
      "woof!\n",
      "bruno is a dog that makes woof! sound\n",
      "category: domestic\n"
     ]
    }
   ],
   "source": [
    "class Animal:\n",
    "    category = 'domestic'\n",
    "\n",
    "    def __init__(self,name,atype):\n",
    "        self.name = name\n",
    "        self.atype = atype\n",
    "\n",
    "    def speak(self):\n",
    "        print(\"woof!\")\n",
    "class Dog(Animal):\n",
    "    def info(self):\n",
    "        super().speak()\n",
    "        print(f\"{self.name} is a {self.atype} that makes woof! sound\")\n",
    "\n",
    "\n",
    "#a = Animal(\"bruno\",\"dog\")\n",
    "#a.speak()\n",
    "d = Dog(\"bruno\",\"dog\")\n",
    "d.info()\n",
    "print(\"category:\",d.category)"
   ]
  },
  {
   "cell_type": "code",
   "execution_count": 26,
   "id": "62c0b8af-5c8c-48c2-b684-194b3c80a941",
   "metadata": {},
   "outputs": [
    {
     "name": "stdout",
     "output_type": "stream",
     "text": [
      "30\n"
     ]
    }
   ],
   "source": [
    "class Data:\n",
    "    def __init__(self,value):\n",
    "        self.value = value\n",
    "\n",
    "    def __add__(self,other):\n",
    "        return Data(self.value + other.value)\n",
    "\n",
    "    def __str__(self):\n",
    "        return f\"{self.value}\"\n",
    "\n",
    "a = Data(10)\n",
    "b = Data(20)\n",
    "\n",
    "c = a + b\n",
    "print(c)"
   ]
  },
  {
   "cell_type": "code",
   "execution_count": 33,
   "id": "c8e8c0e0-3bbe-4fe5-ab2b-3d53be0eec01",
   "metadata": {
    "scrolled": true
   },
   "outputs": [
    {
     "data": {
      "text/plain": [
       "'X is 60 and Y is 50'"
      ]
     },
     "execution_count": 33,
     "metadata": {},
     "output_type": "execute_result"
    }
   ],
   "source": [
    "class point:\n",
    "    def __init__(self,x,y):\n",
    "        self.x = x\n",
    "        self.y = y\n",
    "\n",
    "    def sum(self,other):\n",
    "        return point((self.x + other.x),(self.y + other.y))\n",
    "\n",
    "    def print(self):\n",
    "        return f\"X is {self.x} and Y is {self.y}\"\n",
    "\n",
    "    def __add__(self,other):\n",
    "        return point((self.x + other.x),(self.y + other.y))\n",
    "\n",
    "a = point(10,20)\n",
    "b = point(50,30)\n",
    "# c = a.sum(b)\n",
    "c = a + b # methor overload using __add__ methord to use + operator\n",
    "\n",
    "c.print()"
   ]
  },
  {
   "cell_type": "code",
   "execution_count": 32,
   "id": "fc87eda2-75f0-45e7-af5f-bdd1ace8e199",
   "metadata": {},
   "outputs": [
    {
     "name": "stdout",
     "output_type": "stream",
     "text": [
      "X is 60 and Y is 50\n"
     ]
    }
   ],
   "source": [
    "# Define a class called point to represent a point in 2D space\n",
    "class point:\n",
    "    \n",
    "    # Constructor method: this runs when you create a new point\n",
    "    def __init__(self, x, y):\n",
    "        # Store the x and y values in the object\n",
    "        self.x = x\n",
    "        self.y = y\n",
    "\n",
    "    # Define a method called sum that adds this point to another point\n",
    "    def sum(self, other):\n",
    "        # self is the current point (like 'a'), other is another point (like 'b')\n",
    "        # We add the x values and y values of both points\n",
    "        # Then return a NEW point with the summed x and y values\n",
    "        return point((self.x + other.x), (self.y + other.y))\n",
    "\n",
    "    # Define a method to return a string that shows the point’s coordinates\n",
    "    def print(self):\n",
    "        return f\"X is {self.x} and Y is {self.y}\"\n",
    "\n",
    "\n",
    "# Create a point object 'a' with x=10, y=20\n",
    "a = point(10, 20)\n",
    "\n",
    "# Create another point object 'b' with x=50, y=30\n",
    "b = point(50, 30)\n",
    "\n",
    "# Call the sum() method on point 'a', passing 'b' as the other point\n",
    "# This returns a new point with:\n",
    "# x = a.x + b.x = 10 + 50 = 60\n",
    "# y = a.y + b.y = 20 + 30 = 50\n",
    "# The result is stored in point 'c'\n",
    "c = a.sum(b)\n",
    "\n",
    "# If you want to print c’s coordinates, do:\n",
    "print(c.print())   # Output: X is 60 and Y is 50\n"
   ]
  },
  {
   "cell_type": "code",
   "execution_count": null,
   "id": "c36745c8-90ca-4f13-a874-8504dcb0e3e1",
   "metadata": {},
   "outputs": [],
   "source": []
  }
 ],
 "metadata": {
  "kernelspec": {
   "display_name": "Python 3 (ipykernel)",
   "language": "python",
   "name": "python3"
  },
  "language_info": {
   "codemirror_mode": {
    "name": "ipython",
    "version": 3
   },
   "file_extension": ".py",
   "mimetype": "text/x-python",
   "name": "python",
   "nbconvert_exporter": "python",
   "pygments_lexer": "ipython3",
   "version": "3.13.5"
  }
 },
 "nbformat": 4,
 "nbformat_minor": 5
}
