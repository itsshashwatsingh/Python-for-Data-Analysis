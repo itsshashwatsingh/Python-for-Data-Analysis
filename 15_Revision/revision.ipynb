{
 "cells": [
  {
   "cell_type": "markdown",
   "id": "5525a1f4-8bae-4cd1-b265-29fb1a7bac25",
   "metadata": {},
   "source": [
    "## while loop practice"
   ]
  },
  {
   "cell_type": "code",
   "execution_count": 4,
   "id": "d6e24b33-a521-4363-b584-0e492adf52ef",
   "metadata": {},
   "outputs": [],
   "source": [
    "coins = 0"
   ]
  },
  {
   "cell_type": "code",
   "execution_count": 5,
   "id": "56c8b31a-630f-45dd-8aba-5389e0198df5",
   "metadata": {},
   "outputs": [
    {
     "name": "stdout",
     "output_type": "stream",
     "text": [
      "you have 0 coin\n",
      "you have 1 coin\n",
      "you have 2 coin\n",
      "you have 3 coin\n",
      "you have 4 coin\n",
      "good bye!\n"
     ]
    }
   ],
   "source": [
    "while coins < 5:\n",
    "    print(f\"you have {coins} coin\" )\n",
    "    coins = coins + 1\n",
    "print(\"good bye!\")"
   ]
  },
  {
   "cell_type": "code",
   "execution_count": 3,
   "id": "5d67db18-af85-473d-ad4d-a36d23a20e48",
   "metadata": {},
   "outputs": [
    {
     "name": "stdout",
     "output_type": "stream",
     "text": [
      "you have 0 coin\n",
      "you gained a coin. Now :1\n",
      "you have 1 coin\n",
      "you gained a coin. Now :2\n",
      "you have 2 coin\n",
      "you gained a coin. Now :3\n",
      "you have 3 coin\n",
      "Skipped a turn 3 is a multiple of 3)\n",
      "you have 4 coin\n",
      "you gained a coin. Now :5\n",
      "you have 5 coin\n",
      "Quitting the game at 5 coins.\n"
     ]
    }
   ],
   "source": [
    "coins = 0\n",
    "while coins <=5:\n",
    "    print(f\"you have {coins} coin\")\n",
    "    if coins == 5:\n",
    "        print(f\"Quitting the game at {coins} coins.\")\n",
    "        break\n",
    "    elif coins % 3 == 0 and coins !=0:\n",
    "        print(f\"Skipped a turn {coins} is a multiple of 3)\")\n",
    "        coins += 1\n",
    "    else:\n",
    "        coins += 1\n",
    "        print(f\"you gained a coin. Now :{coins}\")\n",
    "              "
   ]
  },
  {
   "cell_type": "code",
   "execution_count": 1,
   "id": "3ab2595a-3a93-45f8-af0f-bdcdc31b1f96",
   "metadata": {},
   "outputs": [
    {
     "name": "stdout",
     "output_type": "stream",
     "text": [
      "T-minus 10 seconds\n",
      "T-minus 9 seconds\n",
      "T-minus 8 seconds\n",
      "Skipping number 7 (unlucky!)\n",
      "T-minus 6 seconds\n",
      "T-minus 5 seconds\n",
      "T-minus 4 seconds\n",
      "Launch aborted at 3!\n"
     ]
    }
   ],
   "source": [
    "countdown = 10\n",
    "while countdown >= 0:\n",
    "     \n",
    "    if countdown == 3:\n",
    "          print(f\"Launch aborted at {countdown}!\")\n",
    "          break\n",
    "    elif countdown == 7:\n",
    "          print(f\"Skipping number {countdown} (unlucky!)\")\n",
    "          countdown = countdown - 1\n",
    "          \n",
    "    else:\n",
    "        print(f\"T-minus {countdown} seconds\")\n",
    "        countdown = countdown - 1\n",
    "        "
   ]
  },
  {
   "cell_type": "code",
   "execution_count": 23,
   "id": "61a56915-ab0c-4eb6-b85a-a431d413b7bb",
   "metadata": {},
   "outputs": [
    {
     "name": "stdout",
     "output_type": "stream",
     "text": [
      "Door 0: Found treasure!\n",
      "Door 1: Locked. Skipping...\n",
      "Door 2: Found treasure!\n",
      "Door 3: Locked. Skipping...\n",
      "Door 4: Found treasure!\n",
      "Door 5: Locked. Skipping...\n",
      "Door 6: Found treasure!\n",
      "Door 7: Locked. Skipping...\n",
      "Door 8: It's a trap! Game over.\n"
     ]
    }
   ],
   "source": [
    "for door in range(11):\n",
    "    if door == 8:\n",
    "        print(f\"Door {door}: It's a trap! Game over.\")\n",
    "        break\n",
    "    elif door % 2 != 0:\n",
    "        print(f\"Door {door}: Locked. Skipping...\")\n",
    "        door = door + 1\n",
    "    elif door % 2 == 0:\n",
    "        print(f\"Door {door}: Found treasure!\")\n",
    "        door = door + 1\n",
    "  \n",
    "        "
   ]
  },
  {
   "cell_type": "code",
   "execution_count": 18,
   "id": "02dd05b6-ba1a-4255-9ed5-adaa26520ab2",
   "metadata": {},
   "outputs": [],
   "source": [
    "name = ''"
   ]
  },
  {
   "cell_type": "code",
   "execution_count": 4,
   "id": "a9407425-4199-4f35-9d23-ee3e3ae9f95f",
   "metadata": {},
   "outputs": [
    {
     "name": "stdout",
     "output_type": "stream",
     "text": [
      "say my name!\n"
     ]
    },
    {
     "name": "stdout",
     "output_type": "stream",
     "text": [
      " shashawt\n"
     ]
    },
    {
     "name": "stdout",
     "output_type": "stream",
     "text": [
      "say my name!\n"
     ]
    },
    {
     "name": "stdout",
     "output_type": "stream",
     "text": [
      " gus\n"
     ]
    },
    {
     "name": "stdout",
     "output_type": "stream",
     "text": [
      "say my name!\n"
     ]
    },
    {
     "name": "stdout",
     "output_type": "stream",
     "text": [
      " Hisenberg\n"
     ]
    },
    {
     "name": "stdout",
     "output_type": "stream",
     "text": [
      "YOU ARE GOD DAMN RIGHT\n"
     ]
    }
   ],
   "source": [
    "while name != \"Hisenberg\":\n",
    "    print(\"say my name!\")\n",
    "    name = input()\n",
    "print(\"YOU ARE GOD DAMN RIGHT\")\n"
   ]
  },
  {
   "cell_type": "markdown",
   "id": "74daa133-313f-4ea0-86e1-ba2f60fe5c44",
   "metadata": {},
   "source": [
    "loop flow control "
   ]
  },
  {
   "cell_type": "code",
   "execution_count": 2,
   "id": "02c90c09-c528-4180-ada1-0abd9b017ffd",
   "metadata": {},
   "outputs": [
    {
     "name": "stdout",
     "output_type": "stream",
     "text": [
      "say my name!\n"
     ]
    },
    {
     "name": "stdout",
     "output_type": "stream",
     "text": [
      " shashwat\n"
     ]
    },
    {
     "name": "stdout",
     "output_type": "stream",
     "text": [
      "say my name!\n"
     ]
    },
    {
     "name": "stdout",
     "output_type": "stream",
     "text": [
      " walter\n"
     ]
    },
    {
     "name": "stdout",
     "output_type": "stream",
     "text": [
      "say my name!\n"
     ]
    },
    {
     "name": "stdout",
     "output_type": "stream",
     "text": [
      " Hisenberg\n"
     ]
    },
    {
     "name": "stdout",
     "output_type": "stream",
     "text": [
      "YOU ARE GOD DAMN RIGHT\n"
     ]
    }
   ],
   "source": [
    "while True:\n",
    "    print(\"say my name!\")\n",
    "    name = input()\n",
    "    if name == \"Hisenberg\":\n",
    "        break\n",
    "print(\"YOU ARE GOD DAMN RIGHT\")"
   ]
  },
  {
   "cell_type": "code",
   "execution_count": 1,
   "id": "30467d96-c60f-4497-8cdc-bd979445b29a",
   "metadata": {},
   "outputs": [
    {
     "name": "stdout",
     "output_type": "stream",
     "text": [
      "enter your name\n"
     ]
    },
    {
     "name": "stdout",
     "output_type": "stream",
     "text": [
      " shashwat\n"
     ]
    },
    {
     "name": "stdout",
     "output_type": "stream",
     "text": [
      "enter your password\n"
     ]
    },
    {
     "name": "stdout",
     "output_type": "stream",
     "text": [
      " password\n"
     ]
    },
    {
     "name": "stdout",
     "output_type": "stream",
     "text": [
      "welcome shashwat!\n"
     ]
    }
   ],
   "source": [
    "while True:\n",
    "    print(\"enter your name\")\n",
    "    name = input()\n",
    "    if name != \"shashwat\":\n",
    "        continue\n",
    "    print(\"enter your password\")\n",
    "    pwd = input()\n",
    "    if pwd == \"password\":\n",
    "        break\n",
    "print(\"welcome shashwat!\")"
   ]
  },
  {
   "cell_type": "code",
   "execution_count": 4,
   "id": "146bc9ab-ad6a-4426-a833-e34b77685b69",
   "metadata": {},
   "outputs": [
    {
     "name": "stdout",
     "output_type": "stream",
     "text": [
      "who are you ?\n"
     ]
    },
    {
     "name": "stdout",
     "output_type": "stream",
     "text": [
      " shashwat\n"
     ]
    },
    {
     "name": "stdout",
     "output_type": "stream",
     "text": [
      "do i know you ?\n"
     ]
    },
    {
     "name": "stdout",
     "output_type": "stream",
     "text": [
      " yes\n"
     ]
    },
    {
     "name": "stdout",
     "output_type": "stream",
     "text": [
      "hello shashwat\n"
     ]
    }
   ],
   "source": [
    "while True:\n",
    "    print(\"who are you ?\")\n",
    "    name = input()\n",
    "    if name != \"shashwat\":\n",
    "        continue                # here continue means continue from the START \n",
    "    print(\"do i know you ?\")\n",
    "    sec = input()\n",
    "    if sec == \"yes\":\n",
    "         break \n",
    "print(\"hello shashwat\")"
   ]
  },
  {
   "cell_type": "markdown",
   "id": "35b7a26d-0882-4acf-b564-38bb94e8e556",
   "metadata": {},
   "source": [
    "## for loop practice"
   ]
  },
  {
   "cell_type": "markdown",
   "id": "a9d7d019-9fc6-4aa1-b795-8825d718b28d",
   "metadata": {},
   "source": [
    "using range"
   ]
  },
  {
   "cell_type": "code",
   "execution_count": 15,
   "id": "b69c1d93-41d8-4608-ac5a-d3eec7aa1e36",
   "metadata": {},
   "outputs": [
    {
     "name": "stdout",
     "output_type": "stream",
     "text": [
      "0\n",
      "1\n",
      "2\n",
      "3\n",
      "4\n"
     ]
    }
   ],
   "source": [
    "for i in range(5):\n",
    "    print(i)"
   ]
  },
  {
   "cell_type": "code",
   "execution_count": 2,
   "id": "3be4c025-9db8-4e54-b73f-dc9dcbdd9984",
   "metadata": {},
   "outputs": [
    {
     "name": "stdout",
     "output_type": "stream",
     "text": [
      "5\n",
      "6\n",
      "7\n",
      "8\n",
      "9\n"
     ]
    }
   ],
   "source": [
    "for i in range(5,10):\n",
    "    print(i)"
   ]
  },
  {
   "cell_type": "code",
   "execution_count": 3,
   "id": "69e30874-be7f-4da9-885d-582cdb91e38d",
   "metadata": {},
   "outputs": [
    {
     "name": "stdout",
     "output_type": "stream",
     "text": [
      "5\n",
      "7\n",
      "9\n"
     ]
    }
   ],
   "source": [
    "for i in range(5,10,2):\n",
    "    print(i)"
   ]
  },
  {
   "cell_type": "markdown",
   "id": "cd7d54fa-2d2b-45ab-b32a-996b38b76f77",
   "metadata": {},
   "source": [
    "using string"
   ]
  },
  {
   "cell_type": "code",
   "execution_count": 7,
   "id": "8d3e892c-de48-4ebc-b1e5-69fbae222078",
   "metadata": {},
   "outputs": [
    {
     "name": "stdout",
     "output_type": "stream",
     "text": [
      " letter is  s\n",
      " letter is  h\n",
      " letter is  a\n",
      " letter is  s\n",
      " letter is  h\n",
      " letter is  w\n",
      " letter is  a\n",
      " letter is  t\n"
     ]
    }
   ],
   "source": [
    "name = 'shashwat'\n",
    "for i in name:\n",
    "    print(\" letter is \", i)"
   ]
  },
  {
   "cell_type": "markdown",
   "id": "fd598b42-ce71-41e3-ac6f-e3a5afbeffb2",
   "metadata": {},
   "source": [
    "using list"
   ]
  },
  {
   "cell_type": "code",
   "execution_count": 10,
   "id": "eda3d3b4-abf1-4e92-90c8-e0000592544f",
   "metadata": {},
   "outputs": [
    {
     "name": "stdout",
     "output_type": "stream",
     "text": [
      "i know C++\n",
      "i know Java\n",
      "i know Python\n",
      "currently learning Python\n"
     ]
    }
   ],
   "source": [
    "language = ['C++','Java','Python','SQL']\n",
    "for i in language:\n",
    "    print ('i know',i)\n",
    "    if i == 'Python':\n",
    "            break\n",
    "print('currently learning Python')\n",
    "        "
   ]
  },
  {
   "cell_type": "code",
   "execution_count": 25,
   "id": "7f8d0ea2-e49b-44ab-8fdd-a8e79f511f17",
   "metadata": {},
   "outputs": [
    {
     "name": "stdout",
     "output_type": "stream",
     "text": [
      "1\n",
      "2\n",
      "3\n",
      "5\n",
      "6\n",
      "7\n",
      "9\n",
      "10\n"
     ]
    }
   ],
   "source": [
    "for i in range(1,11):\n",
    "    if i % 4 == 0:\n",
    "        continue\n",
    "    else:\n",
    "        print(i)\n",
    "    "
   ]
  },
  {
   "cell_type": "code",
   "execution_count": 30,
   "id": "1fd50682-5348-4db5-b32b-b389ae80776e",
   "metadata": {},
   "outputs": [
    {
     "name": "stdout",
     "output_type": "stream",
     "text": [
      "Person 1: Ticket sold\n",
      "Person 2: Ticket sold\n",
      "Person 3: Ticket sold\n",
      "Person 4: Ticket sold\n",
      "Person 5: Ticket sold\n",
      "Person 6: Ticket sold\n",
      "Person 7: Banned. Skipping...\n",
      "Person 8: Ticket sold\n",
      "Person 9: Ticket sold\n",
      "System error at person 10. Shutting down.\n"
     ]
    }
   ],
   "source": [
    "for number in range(1,16):\n",
    "    if number == 7 or number == 13:\n",
    "        print(f\"Person {number}: Banned. Skipping...\")\n",
    "    elif number == 10:\n",
    "        print(f\"System error at person {number}. Shutting down.\")\n",
    "        break\n",
    "    else:\n",
    "        print(f\"Person {number}: Ticket sold\")\n",
    "else:\n",
    "    print(\"All tickets processed successfully.\")"
   ]
  },
  {
   "cell_type": "code",
   "execution_count": 1,
   "id": "6cf7d098-3800-46b0-8345-86cdd21fd698",
   "metadata": {},
   "outputs": [
    {
     "name": "stdout",
     "output_type": "stream",
     "text": [
      "enter your pin\n"
     ]
    },
    {
     "name": "stdout",
     "output_type": "stream",
     "text": [
      " 456\n"
     ]
    },
    {
     "name": "stdout",
     "output_type": "stream",
     "text": [
      "Incorrect. Try again.\n",
      "enter your pin\n"
     ]
    },
    {
     "name": "stdout",
     "output_type": "stream",
     "text": [
      " 433\n"
     ]
    },
    {
     "name": "stdout",
     "output_type": "stream",
     "text": [
      "Incorrect. Try again.\n",
      "enter your pin\n"
     ]
    },
    {
     "name": "stdout",
     "output_type": "stream",
     "text": [
      " 1234\n"
     ]
    },
    {
     "name": "stdout",
     "output_type": "stream",
     "text": [
      "Access granted.\n"
     ]
    }
   ],
   "source": [
    "pin = ''\n",
    "while pin != '1234':\n",
    "    print(\"enter your pin\")\n",
    "    pin = input()\n",
    "    if pin == '1234':\n",
    "        print(\"Access granted.\")\n",
    "    else:\n",
    "        print(\"Incorrect. Try again.\")\n",
    "    "
   ]
  },
  {
   "cell_type": "code",
   "execution_count": 1,
   "id": "65f78038-60ff-41f2-a4df-72513b2747e5",
   "metadata": {},
   "outputs": [
    {
     "name": "stdout",
     "output_type": "stream",
     "text": [
      "Guess the number:\n"
     ]
    },
    {
     "name": "stdout",
     "output_type": "stream",
     "text": [
      " 17\n"
     ]
    },
    {
     "name": "stdout",
     "output_type": "stream",
     "text": [
      "Correct! You guessed it.\n"
     ]
    }
   ],
   "source": [
    "while True:\n",
    "    print(\"Guess the number:\")\n",
    "    number = int(input())\n",
    "    if number < 17:\n",
    "        print(\"Too low! Try again.\")\n",
    "    elif number > 17:\n",
    "        print(\"Too high! Try again.\")\n",
    "    else:\n",
    "        print(\"Correct! You guessed it.\")\n",
    "        break\n",
    "        "
   ]
  },
  {
   "cell_type": "code",
   "execution_count": 1,
   "id": "f4888dde-2e8c-4bb3-8560-c24e8877c594",
   "metadata": {},
   "outputs": [
    {
     "data": {
      "text/plain": [
       "'apple + banana + mango'"
      ]
     },
     "execution_count": 1,
     "metadata": {},
     "output_type": "execute_result"
    }
   ],
   "source": [
    "\" + \".join(['apple','banana','mango'])"
   ]
  },
  {
   "cell_type": "markdown",
   "id": "9842f381-b3fa-4646-b315-ff2ff8e9c076",
   "metadata": {},
   "source": [
    "# function practice"
   ]
  },
  {
   "cell_type": "code",
   "execution_count": 2,
   "id": "f1a5429f-5544-482a-bc9b-b734663fa11e",
   "metadata": {},
   "outputs": [
    {
     "name": "stdout",
     "output_type": "stream",
     "text": [
      "below is the the output of a declared function\n",
      "this is my first function output in python\n",
      "added parameter where value inside it is shashwat\n",
      "to form a complete function added return value 4\n"
     ]
    }
   ],
   "source": [
    "def myFirstfunc(name):\n",
    "    print(\"this is my first function output in python\")\n",
    "    print(\"added parameter where value inside it is\", name)\n",
    "    return 2+2\n",
    "\n",
    "print(\"below is the the output of a declared function\")\n",
    "\n",
    "func = myFirstfunc('shashwat')\n",
    "print(\"to form a complete function added return value\",func)\n"
   ]
  },
  {
   "cell_type": "code",
   "execution_count": 31,
   "id": "43b10ee5-fe63-4a80-aa50-a5e9035db6eb",
   "metadata": {},
   "outputs": [
    {
     "name": "stdin",
     "output_type": "stream",
     "text": [
      "enter password which only contains letters h4f43lk3i4p3ik\n"
     ]
    },
    {
     "name": "stdout",
     "output_type": "stream",
     "text": [
      "invalid password!\n",
      "6 Mistakes\n"
     ]
    }
   ],
   "source": [
    "\n",
    "def function(rule):\n",
    "    count = 0\n",
    "    for i in rule:\n",
    "        if i in ('1','2','3','4','5','6','7','8','9','0'):\n",
    "            count += 1\n",
    "    return count\n",
    "    \n",
    "\n",
    "password = input(\"enter password which only contains letters\")\n",
    "\n",
    "result = function(password)\n",
    "if result > 0:\n",
    "    print(\"invalid password!\")\n",
    "    print(result , \"Mistakes\")\n",
    "else:\n",
    "    print(\"password registered sucessfully.\")"
   ]
  },
  {
   "cell_type": "code",
   "execution_count": 26,
   "id": "39574cd0-a89a-41fc-903a-80e260e7c760",
   "metadata": {},
   "outputs": [
    {
     "name": "stdout",
     "output_type": "stream",
     "text": [
      "global\n"
     ]
    }
   ],
   "source": [
    "def test():\n",
    "    a = 'local'\n",
    "\n",
    "a = 'global'\n",
    "test()\n",
    "print(a)"
   ]
  },
  {
   "cell_type": "code",
   "execution_count": 27,
   "id": "8b6e6d2a-9d2b-4c9e-99fd-c6db77ebe123",
   "metadata": {},
   "outputs": [
    {
     "name": "stdout",
     "output_type": "stream",
     "text": [
      "local\n",
      "global\n"
     ]
    }
   ],
   "source": [
    "a = 'global'\n",
    "\n",
    "def test():\n",
    "    a = 'local'\n",
    "    print(a)\n",
    "\n",
    "test()\n",
    "print(a)"
   ]
  },
  {
   "cell_type": "code",
   "execution_count": 28,
   "id": "344b0df9-4ea3-47cf-8d8f-cd1c1472badf",
   "metadata": {},
   "outputs": [
    {
     "name": "stdout",
     "output_type": "stream",
     "text": [
      "global\n",
      "local2\n",
      "local1\n"
     ]
    }
   ],
   "source": [
    "def test1():\n",
    "    a = 'local1'\n",
    "    print(a)\n",
    "\n",
    "def test2():\n",
    "    a = 'local2'\n",
    "    print(a)\n",
    "    test1()\n",
    "\n",
    "a = 'global'\n",
    "print(a)\n",
    "test2()\n",
    "\n"
   ]
  },
  {
   "cell_type": "code",
   "execution_count": 30,
   "id": "e923ccc4-c31b-4b21-bd60-315ef141754d",
   "metadata": {},
   "outputs": [
    {
     "name": "stdout",
     "output_type": "stream",
     "text": [
      "global\n",
      "local\n"
     ]
    }
   ],
   "source": [
    "a = 'global'\n",
    "\n",
    "def change():\n",
    "    global a\n",
    "    a= 'local'\n",
    "\n",
    "print(a)\n",
    "change()\n",
    "print(a)"
   ]
  },
  {
   "cell_type": "code",
   "execution_count": 34,
   "id": "545141df-190a-448e-846f-597a7a04a188",
   "metadata": {},
   "outputs": [
    {
     "name": "stdin",
     "output_type": "stream",
     "text": [
      "enter the name or text tkfmk433\n"
     ]
    },
    {
     "name": "stdout",
     "output_type": "stream",
     "text": [
      "3\n"
     ]
    }
   ],
   "source": [
    "def count(name):\n",
    "    cnt = 0\n",
    "    for i in name:\n",
    "        if i in ('1','2','3','4','5','6','7','8','9','0'):\n",
    "            cnt += 1\n",
    "    return cnt\n",
    "\n",
    "\n",
    "\n",
    "b = input(\"enter the name or text\")\n",
    "\n",
    "print(count(b))"
   ]
  },
  {
   "cell_type": "code",
   "execution_count": 47,
   "id": "b4122a0c-5288-4bc4-8b2b-52a584aaa78b",
   "metadata": {},
   "outputs": [
    {
     "name": "stdin",
     "output_type": "stream",
     "text": [
      "Enter the text shashwat\n"
     ]
    },
    {
     "name": "stdout",
     "output_type": "stream",
     "text": [
      "tawhsahs\n"
     ]
    }
   ],
   "source": [
    "def stringrev(name):\n",
    "    rev= ''\n",
    "    index = len(name)-1\n",
    "    while index >= 0:\n",
    "        rev += name[index]\n",
    "        index -= 1\n",
    "    return rev\n",
    "    \n",
    "\n",
    "result = input(\"Enter the text\")\n",
    "print(stringrev(result))"
   ]
  },
  {
   "cell_type": "code",
   "execution_count": 5,
   "id": "ffcb376f-aad1-4afa-9133-5f5efe13b8c4",
   "metadata": {},
   "outputs": [
    {
     "name": "stdin",
     "output_type": "stream",
     "text": [
      "Enter the text hello\n"
     ]
    },
    {
     "name": "stdout",
     "output_type": "stream",
     "text": [
      "not a Palindrome\n"
     ]
    }
   ],
   "source": [
    "def Palindrometest(text):\n",
    "    right = len(text)-1\n",
    "    left = 0\n",
    "    while left < right:\n",
    "        if text[left] != text[right]:\n",
    "            return False\n",
    "        left += 1\n",
    "        right -=1\n",
    "    return True\n",
    "        \n",
    "\n",
    "inpt = input(\"Enter the text\")\n",
    "result = Palindrometest(inpt)\n",
    "if result == True:\n",
    "    print('Palindrome')\n",
    "else:\n",
    "    print('not a Palindrome')"
   ]
  },
  {
   "cell_type": "code",
   "execution_count": 24,
   "id": "5f7eb51e-a970-4331-bd79-3a1bf7ce47a4",
   "metadata": {},
   "outputs": [
    {
     "name": "stdin",
     "output_type": "stream",
     "text": [
      "Enter your password:  Hellopass12\n"
     ]
    },
    {
     "name": "stdout",
     "output_type": "stream",
     "text": [
      "strong password\n"
     ]
    }
   ],
   "source": [
    "def check_password_strength(password):\n",
    "    \n",
    "    has_upper = False\n",
    "    has_lower = False\n",
    "    has_digit = False\n",
    "    has_length = len(password) >=8\n",
    "    for i in password:\n",
    "        if i.isupper():\n",
    "            has_upper = True\n",
    "        if i.islower():\n",
    "            has_lower = True\n",
    "        if i.isdigit():\n",
    "            has_digit = True\n",
    "        flag = sum([has_upper,has_lower,has_digit,has_length])\n",
    "    return flag\n",
    "\n",
    "password = input(\"Enter your password: \")\n",
    "flagcount = check_password_strength(password)\n",
    "if flagcount == 4:\n",
    "    print('strong password')\n",
    "else:\n",
    "    print('weak password')"
   ]
  },
  {
   "cell_type": "code",
   "execution_count": 33,
   "id": "a0a37f4e-07ba-4273-8def-3982c3ad8e4c",
   "metadata": {},
   "outputs": [
    {
     "name": "stdin",
     "output_type": "stream",
     "text": [
      "Enter a string:  hello345!\n"
     ]
    },
    {
     "name": "stdout",
     "output_type": "stream",
     "text": [
      "Letters: 5\n",
      "Digits: 3\n",
      "Special characters: 1\n"
     ]
    }
   ],
   "source": [
    "def analyze_text(text):\n",
    "    letterscnt = 0\n",
    "    digitscnt = 0\n",
    "    spclcharcnt = 0\n",
    "    for i in text:\n",
    "        if i.isalpha():\n",
    "            letterscnt += 1\n",
    "        elif i.isdigit():\n",
    "            digitscnt += 1\n",
    "        else:\n",
    "            spclcharcnt += 1\n",
    "    return letterscnt,digitscnt,spclcharcnt\n",
    "\n",
    "input_text = input(\"Enter a string: \")\n",
    "result = analyze_text(input_text)\n",
    "print('Letters:',result[0])\n",
    "print('Digits:',result[1])\n",
    "print('Special characters:',result[2])"
   ]
  },
  {
   "cell_type": "code",
   "execution_count": 16,
   "id": "d36efb0a-0c6e-4108-bea1-bccbb184cbb1",
   "metadata": {},
   "outputs": [
    {
     "name": "stdin",
     "output_type": "stream",
     "text": [
      "Enter text:  hello94899\n"
     ]
    },
    {
     "name": "stdout",
     "output_type": "stream",
     "text": [
      "h:1\n",
      "e:1\n",
      "l:2\n",
      "o:1\n",
      "9:3\n",
      "4:1\n",
      "8:1\n"
     ]
    }
   ],
   "source": [
    "def count_chars(text):\n",
    "    printed = []\n",
    "    count = []\n",
    "    for char in text:\n",
    "        if char not in printed:\n",
    "            printed+=char\n",
    "            count.append(text.count(char))\n",
    "        \n",
    "    return printed,count\n",
    "    \n",
    "        \n",
    "\n",
    "input_text = input(\"Enter text: \")\n",
    "printed,count = count_chars(input_text)\n",
    "\n",
    "index = 0\n",
    "for i in printed:\n",
    "    print(f\"{printed[index]}:{count[index]}\")\n",
    "    index+=1\n",
    "    "
   ]
  },
  {
   "cell_type": "code",
   "execution_count": 17,
   "id": "45b2b35b-7ce5-440f-a20b-177ae89621d7",
   "metadata": {},
   "outputs": [
    {
     "name": "stdin",
     "output_type": "stream",
     "text": [
      "Enter text:  hello\n"
     ]
    },
    {
     "name": "stdout",
     "output_type": "stream",
     "text": [
      "h:1\n",
      "e:1\n",
      "l:2\n",
      "o:1\n"
     ]
    }
   ],
   "source": [
    "def count_chars(text):\n",
    "    printed = \"\"\n",
    "    for char in text:\n",
    "        if char not in printed:\n",
    "            print(f\"{char}:{text.count(char)}\")\n",
    "            printed+=char\n",
    "\n",
    "input_text = input(\"Enter text: \")\n",
    "count_chars(input_text)\n"
   ]
  },
  {
   "cell_type": "code",
   "execution_count": 18,
   "id": "e5a64a63-3ef3-4e29-9169-dea1e9e66140",
   "metadata": {},
   "outputs": [
    {
     "data": {
      "text/plain": [
       "8"
      ]
     },
     "execution_count": 18,
     "metadata": {},
     "output_type": "execute_result"
    }
   ],
   "source": [
    "def fib(n):\n",
    "    if n==0 or n==1:\n",
    "        return n\n",
    "    return fib(n-2) + fib(n-1) # calling function from inside\n",
    "\n",
    "fib(6)\n",
    "\n"
   ]
  },
  {
   "cell_type": "markdown",
   "id": "a038e55d-2f3b-4fa5-8dc7-a12033de5072",
   "metadata": {},
   "source": [
    "# lists practice"
   ]
  },
  {
   "cell_type": "code",
   "execution_count": 1,
   "id": "8b45c9a2-a797-4eb5-acd9-21b8f88529af",
   "metadata": {},
   "outputs": [],
   "source": [
    "fruits = ['apple','mongo','banana','kivi']\n",
    "\n",
    "numbers = [10, 20 ,30 ,40]\n",
    "\n",
    "data = ['X','Y','Z',1,2,True,False,['list','within','list'],3.14,0.1,None]"
   ]
  },
  {
   "cell_type": "code",
   "execution_count": 5,
   "id": "ecb0752a-8e17-4109-8ab4-12731b732c19",
   "metadata": {},
   "outputs": [
    {
     "name": "stdout",
     "output_type": "stream",
     "text": [
      "['watermelon', 'mongo', 'orange', 'banana', 'kivi', 'durian', 'durian', 'durian']\n"
     ]
    }
   ],
   "source": [
    "fruits[0] = 'watermelon'\n",
    "fruits.append('durian')\n",
    "fruits.insert(2,'orange')\n",
    "print(fruits)"
   ]
  },
  {
   "cell_type": "code",
   "execution_count": 6,
   "id": "40f612f5-1fc1-4970-bc07-060d9e7cf90a",
   "metadata": {},
   "outputs": [
    {
     "name": "stdout",
     "output_type": "stream",
     "text": [
      "['watermelon', 'mongo', 'orange', 'banana', 'kivi', 'durian', 'durian']\n"
     ]
    }
   ],
   "source": [
    "fruits.remove('durian')\n",
    "print(fruits)"
   ]
  },
  {
   "cell_type": "code",
   "execution_count": 8,
   "id": "fb9a3923-b806-4023-a226-aaf52ecabfd7",
   "metadata": {},
   "outputs": [
    {
     "name": "stdout",
     "output_type": "stream",
     "text": [
      "['watermelon', 'mongo', 'orange', 'banana', 'kivi']\n"
     ]
    }
   ],
   "source": [
    "del fruits[-1]\n",
    "print(fruits)"
   ]
  },
  {
   "cell_type": "code",
   "execution_count": 12,
   "id": "d000ac99-4bbd-4175-8440-ccc0c25fe951",
   "metadata": {},
   "outputs": [
    {
     "name": "stdout",
     "output_type": "stream",
     "text": [
      "8\n"
     ]
    }
   ],
   "source": [
    "print(data.index(3.14))"
   ]
  },
  {
   "cell_type": "code",
   "execution_count": 13,
   "id": "68eec916-583b-4b93-9b65-4e2095ef1976",
   "metadata": {},
   "outputs": [
    {
     "data": {
      "text/plain": [
       "['watermelon', 'mongo', 'orange', 'banana']"
      ]
     },
     "execution_count": 13,
     "metadata": {},
     "output_type": "execute_result"
    }
   ],
   "source": [
    "fruits[0:-1]"
   ]
  },
  {
   "cell_type": "code",
   "execution_count": 14,
   "id": "cf1e9640-153b-4a5a-9ba9-b58654f028e8",
   "metadata": {},
   "outputs": [
    {
     "data": {
      "text/plain": [
       "5"
      ]
     },
     "execution_count": 14,
     "metadata": {},
     "output_type": "execute_result"
    }
   ],
   "source": [
    "len(fruits)"
   ]
  },
  {
   "cell_type": "code",
   "execution_count": 18,
   "id": "20c53c81-a36a-4f74-a157-04ef815d9624",
   "metadata": {},
   "outputs": [],
   "source": [
    "fruits.sort()"
   ]
  },
  {
   "cell_type": "code",
   "execution_count": 19,
   "id": "e7ebfd4c-acd5-4e9d-bd47-63ba0147d32b",
   "metadata": {},
   "outputs": [
    {
     "data": {
      "text/plain": [
       "['banana', 'kivi', 'mongo', 'orange', 'watermelon']"
      ]
     },
     "execution_count": 19,
     "metadata": {},
     "output_type": "execute_result"
    }
   ],
   "source": [
    "fruits"
   ]
  },
  {
   "cell_type": "code",
   "execution_count": 26,
   "id": "56f5b0f7-4679-4d27-bd1b-371e00e28fd2",
   "metadata": {},
   "outputs": [],
   "source": [
    "fruits.append('Grape')"
   ]
  },
  {
   "cell_type": "raw",
   "id": "236985bc-c66b-4ac5-9098-c840977f4c6a",
   "metadata": {},
   "source": [
    "print(fruits)"
   ]
  },
  {
   "cell_type": "code",
   "execution_count": 27,
   "id": "6c4bf08c-5696-4277-8c2c-de3b9c851fda",
   "metadata": {
    "scrolled": true
   },
   "outputs": [
    {
     "data": {
      "text/plain": [
       "['banana',\n",
       " 'kivi',\n",
       " 'mongo',\n",
       " 'orange',\n",
       " 'watermelon',\n",
       " ['Apple', 'Grape'],\n",
       " ['Apple', 'Grape'],\n",
       " 'Grape']"
      ]
     },
     "execution_count": 27,
     "metadata": {},
     "output_type": "execute_result"
    }
   ],
   "source": [
    "fruits"
   ]
  },
  {
   "cell_type": "code",
   "execution_count": 28,
   "id": "0c436b41-c9b9-4481-bb41-1137702bf3c1",
   "metadata": {},
   "outputs": [],
   "source": [
    "del fruits[-2]"
   ]
  },
  {
   "cell_type": "code",
   "execution_count": 29,
   "id": "51be88a4-6e0e-447b-92c4-816004f47a30",
   "metadata": {},
   "outputs": [],
   "source": [
    "del fruits[-3]"
   ]
  },
  {
   "cell_type": "code",
   "execution_count": 30,
   "id": "02e2ce65-cfaf-4433-afa4-81b1259b4ee8",
   "metadata": {},
   "outputs": [
    {
     "data": {
      "text/plain": [
       "['banana', 'kivi', 'mongo', 'orange', ['Apple', 'Grape'], 'Grape']"
      ]
     },
     "execution_count": 30,
     "metadata": {},
     "output_type": "execute_result"
    }
   ],
   "source": [
    "fruits"
   ]
  },
  {
   "cell_type": "code",
   "execution_count": 31,
   "id": "3bbc576b-c9b8-43bf-9974-5d8a0054ad46",
   "metadata": {},
   "outputs": [],
   "source": [
    "del fruits[-2]"
   ]
  },
  {
   "cell_type": "code",
   "execution_count": 32,
   "id": "f07224f1-44bc-452d-b2e7-c0befc70d614",
   "metadata": {},
   "outputs": [
    {
     "data": {
      "text/plain": [
       "['banana', 'kivi', 'mongo', 'orange', 'Grape']"
      ]
     },
     "execution_count": 32,
     "metadata": {},
     "output_type": "execute_result"
    }
   ],
   "source": [
    "fruits"
   ]
  },
  {
   "cell_type": "code",
   "execution_count": 33,
   "id": "e07efaac-3e5a-4836-bb8f-c75eacdab518",
   "metadata": {},
   "outputs": [],
   "source": [
    "fruits.sort()"
   ]
  },
  {
   "cell_type": "code",
   "execution_count": 39,
   "id": "2c8b35a4-9c29-46df-9742-f53160951d1c",
   "metadata": {},
   "outputs": [
    {
     "data": {
      "text/plain": [
       "['Grape', 'banana', 'kivi', 'mongo', 'orange']"
      ]
     },
     "execution_count": 39,
     "metadata": {},
     "output_type": "execute_result"
    }
   ],
   "source": [
    "fruits"
   ]
  },
  {
   "cell_type": "code",
   "execution_count": 40,
   "id": "3d59a27f-a515-4994-b4c0-60fc90a3c9ae",
   "metadata": {},
   "outputs": [],
   "source": [
    "fruits.sort(key=str.lower)"
   ]
  },
  {
   "cell_type": "code",
   "execution_count": 41,
   "id": "94062200-fc09-4680-891a-6a13c702d01c",
   "metadata": {},
   "outputs": [
    {
     "data": {
      "text/plain": [
       "['banana', 'Grape', 'kivi', 'mongo', 'orange']"
      ]
     },
     "execution_count": 41,
     "metadata": {},
     "output_type": "execute_result"
    }
   ],
   "source": [
    "fruits"
   ]
  },
  {
   "cell_type": "code",
   "execution_count": 43,
   "id": "c435b186-d78f-4ec2-a8bf-a33fcd3f2855",
   "metadata": {},
   "outputs": [],
   "source": [
    "numbers.sort()"
   ]
  },
  {
   "cell_type": "code",
   "execution_count": 44,
   "id": "3ee298ee-40f1-4350-a46f-2dbd52c1413e",
   "metadata": {},
   "outputs": [
    {
     "data": {
      "text/plain": [
       "[10, 20, 30, 40]"
      ]
     },
     "execution_count": 44,
     "metadata": {},
     "output_type": "execute_result"
    }
   ],
   "source": [
    "numbers"
   ]
  },
  {
   "cell_type": "code",
   "execution_count": 45,
   "id": "f8f18615-0bf8-4c39-b322-f12782b4f5d0",
   "metadata": {},
   "outputs": [],
   "source": [
    "numbers.sort(reverse= True)"
   ]
  },
  {
   "cell_type": "code",
   "execution_count": 46,
   "id": "d3e6ae93-2ff8-4e8b-8028-f889c16e1c4a",
   "metadata": {},
   "outputs": [
    {
     "data": {
      "text/plain": [
       "[40, 30, 20, 10]"
      ]
     },
     "execution_count": 46,
     "metadata": {},
     "output_type": "execute_result"
    }
   ],
   "source": [
    "numbers"
   ]
  },
  {
   "cell_type": "code",
   "execution_count": 47,
   "id": "4d55a180-9fab-40a2-9bcd-352f5f4cd5e3",
   "metadata": {},
   "outputs": [
    {
     "ename": "TypeError",
     "evalue": "'<' not supported between instances of 'int' and 'str'",
     "output_type": "error",
     "traceback": [
      "\u001b[31m---------------------------------------------------------------------------\u001b[39m",
      "\u001b[31mTypeError\u001b[39m                                 Traceback (most recent call last)",
      "\u001b[36mCell\u001b[39m\u001b[36m \u001b[39m\u001b[32mIn[47]\u001b[39m\u001b[32m, line 1\u001b[39m\n\u001b[32m----> \u001b[39m\u001b[32m1\u001b[39m data.sort()\n",
      "\u001b[31mTypeError\u001b[39m: '<' not supported between instances of 'int' and 'str'"
     ]
    }
   ],
   "source": [
    "data.sort()"
   ]
  },
  {
   "cell_type": "code",
   "execution_count": 48,
   "id": "107cccd0-0d92-4f37-bd35-3ff78060fb1d",
   "metadata": {},
   "outputs": [],
   "source": [
    "fruits.reverse()"
   ]
  },
  {
   "cell_type": "code",
   "execution_count": 49,
   "id": "525255b7-6c6a-4f2f-be9a-21e2aa8b231f",
   "metadata": {},
   "outputs": [
    {
     "data": {
      "text/plain": [
       "['orange', 'mongo', 'kivi', 'Grape', 'banana']"
      ]
     },
     "execution_count": 49,
     "metadata": {},
     "output_type": "execute_result"
    }
   ],
   "source": [
    "fruits"
   ]
  },
  {
   "cell_type": "code",
   "execution_count": 50,
   "id": "fb313278-e448-454c-9193-d5ebcaa50501",
   "metadata": {},
   "outputs": [
    {
     "name": "stdout",
     "output_type": "stream",
     "text": [
      "orange\n",
      "mongo\n",
      "kivi\n",
      "Grape\n",
      "banana\n"
     ]
    }
   ],
   "source": [
    "for fruit in fruits:\n",
    "    print(fruit)"
   ]
  },
  {
   "cell_type": "code",
   "execution_count": 51,
   "id": "99e34200-ba7a-456a-ab06-279ba756866a",
   "metadata": {},
   "outputs": [
    {
     "name": "stdout",
     "output_type": "stream",
     "text": [
      "0 orange\n",
      "1 mongo\n",
      "2 kivi\n",
      "3 Grape\n",
      "4 banana\n"
     ]
    }
   ],
   "source": [
    "for indx,fruit in enumerate(fruits):\n",
    "    print(indx,fruit)"
   ]
  },
  {
   "cell_type": "code",
   "execution_count": 52,
   "id": "fcd9abae-9f17-43a1-b4ff-e93d674cb21e",
   "metadata": {},
   "outputs": [
    {
     "data": {
      "text/plain": [
       "['orange', 'mongo', 'kivi', 'Grape', 'banana', 40, 30, 20, 10]"
      ]
     },
     "execution_count": 52,
     "metadata": {},
     "output_type": "execute_result"
    }
   ],
   "source": [
    "fruits + numbers"
   ]
  },
  {
   "cell_type": "code",
   "execution_count": 53,
   "id": "6dab6884-9011-40b0-bab4-39a4adbb1bbf",
   "metadata": {},
   "outputs": [
    {
     "data": {
      "text/plain": [
       "[0, 0, 0, 0, 0, 0, 0, 0, 0, 0, 0, 0, 0, 0, 0, 0, 0, 0, 0, 0]"
      ]
     },
     "execution_count": 53,
     "metadata": {},
     "output_type": "execute_result"
    }
   ],
   "source": [
    "[0]*20"
   ]
  },
  {
   "cell_type": "markdown",
   "id": "af85c2d1-f7fb-4f24-8511-7224a64f7bc9",
   "metadata": {},
   "source": [
    "# dictionary practice"
   ]
  },
  {
   "cell_type": "code",
   "execution_count": 55,
   "id": "4a3b02fb-760a-4a39-8437-c4e064702a2d",
   "metadata": {},
   "outputs": [],
   "source": [
    "product = {'brand':'apple', 'model':'mac book', 'price':1000}\n",
    "\n"
   ]
  },
  {
   "cell_type": "code",
   "execution_count": 56,
   "id": "3c1c9ff3-f196-493d-8547-d442ecbb8f04",
   "metadata": {},
   "outputs": [
    {
     "data": {
      "text/plain": [
       "'apple'"
      ]
     },
     "execution_count": 56,
     "metadata": {},
     "output_type": "execute_result"
    }
   ],
   "source": [
    "product['brand']"
   ]
  },
  {
   "cell_type": "code",
   "execution_count": 57,
   "id": "b7b5f8cc-0676-4aba-b8e8-02a0b6171c3e",
   "metadata": {},
   "outputs": [],
   "source": [
    "product['price'] = 1200"
   ]
  },
  {
   "cell_type": "code",
   "execution_count": 58,
   "id": "92085836-292b-43e2-b16b-4283e2368dd9",
   "metadata": {},
   "outputs": [
    {
     "data": {
      "text/plain": [
       "{'brand': 'apple', 'model': 'mac book', 'price': 1200}"
      ]
     },
     "execution_count": 58,
     "metadata": {},
     "output_type": "execute_result"
    }
   ],
   "source": [
    "product"
   ]
  },
  {
   "cell_type": "code",
   "execution_count": 59,
   "id": "ba0db6ee-6bea-45db-9e74-176dbfb774fb",
   "metadata": {},
   "outputs": [],
   "source": [
    "product.update({'model':'mac book pro','color':'space grey'})"
   ]
  },
  {
   "cell_type": "code",
   "execution_count": 60,
   "id": "0384a60f-e3e8-4130-9781-652f7f28f136",
   "metadata": {},
   "outputs": [
    {
     "data": {
      "text/plain": [
       "{'brand': 'apple',\n",
       " 'model': 'mac book pro',\n",
       " 'price': 1200,\n",
       " 'color': 'space grey'}"
      ]
     },
     "execution_count": 60,
     "metadata": {},
     "output_type": "execute_result"
    }
   ],
   "source": [
    "product"
   ]
  },
  {
   "cell_type": "code",
   "execution_count": 61,
   "id": "af7d0f6d-0d73-4a85-a57a-c857ef2881f9",
   "metadata": {},
   "outputs": [],
   "source": [
    "del product['price']"
   ]
  },
  {
   "cell_type": "code",
   "execution_count": 62,
   "id": "144f8490-7688-4e23-aa9c-8e9b0515510b",
   "metadata": {},
   "outputs": [
    {
     "data": {
      "text/plain": [
       "{'brand': 'apple', 'model': 'mac book pro', 'color': 'space grey'}"
      ]
     },
     "execution_count": 62,
     "metadata": {},
     "output_type": "execute_result"
    }
   ],
   "source": [
    "product"
   ]
  },
  {
   "cell_type": "code",
   "execution_count": 63,
   "id": "d2b5b74c-033a-4825-b665-658ef358fcbb",
   "metadata": {},
   "outputs": [
    {
     "data": {
      "text/plain": [
       "'space grey'"
      ]
     },
     "execution_count": 63,
     "metadata": {},
     "output_type": "execute_result"
    }
   ],
   "source": [
    "product.pop('color')"
   ]
  },
  {
   "cell_type": "code",
   "execution_count": 64,
   "id": "7a9d5bed-1c4a-45e1-bb68-6fceaf36248a",
   "metadata": {},
   "outputs": [
    {
     "data": {
      "text/plain": [
       "{'brand': 'apple', 'model': 'mac book pro'}"
      ]
     },
     "execution_count": 64,
     "metadata": {},
     "output_type": "execute_result"
    }
   ],
   "source": [
    "product"
   ]
  },
  {
   "cell_type": "code",
   "execution_count": 66,
   "id": "9e0e567d-286f-4fab-885b-a566d6cdd327",
   "metadata": {},
   "outputs": [
    {
     "data": {
      "text/plain": [
       "2"
      ]
     },
     "execution_count": 66,
     "metadata": {},
     "output_type": "execute_result"
    }
   ],
   "source": [
    "len(product)"
   ]
  },
  {
   "cell_type": "raw",
   "id": "9f0a1bb7-a24d-4ef3-a909-f8b01849565d",
   "metadata": {},
   "source": [
    "product.keys()"
   ]
  },
  {
   "cell_type": "code",
   "execution_count": 71,
   "id": "ba490eff-9dc9-4626-855d-858b35582ba7",
   "metadata": {},
   "outputs": [
    {
     "data": {
      "text/plain": [
       "dict_values(['apple', 'mac book pro'])"
      ]
     },
     "execution_count": 71,
     "metadata": {},
     "output_type": "execute_result"
    }
   ],
   "source": [
    "product.values()"
   ]
  },
  {
   "cell_type": "code",
   "execution_count": 74,
   "id": "50a9956b-1a0d-42f2-b0b2-31cef3b064ef",
   "metadata": {},
   "outputs": [
    {
     "data": {
      "text/plain": [
       "dict_items([('brand', 'apple'), ('model', 'mac book pro')])"
      ]
     },
     "execution_count": 74,
     "metadata": {},
     "output_type": "execute_result"
    }
   ],
   "source": [
    "product.items()"
   ]
  },
  {
   "cell_type": "code",
   "execution_count": 75,
   "id": "1aec3f87-111f-40c4-8b35-6035d7429f60",
   "metadata": {},
   "outputs": [
    {
     "name": "stdout",
     "output_type": "stream",
     "text": [
      "brand\n",
      "model\n"
     ]
    }
   ],
   "source": [
    "for i in product.keys():\n",
    "    print(i)"
   ]
  },
  {
   "cell_type": "code",
   "execution_count": 76,
   "id": "0edb7228-dc52-47fe-9ad8-89a77f35a3b0",
   "metadata": {},
   "outputs": [
    {
     "name": "stdout",
     "output_type": "stream",
     "text": [
      "apple\n",
      "mac book pro\n"
     ]
    }
   ],
   "source": [
    "for i in product.values():\n",
    "    print(i)"
   ]
  },
  {
   "cell_type": "code",
   "execution_count": 77,
   "id": "40588054-25a1-44f4-ac41-64fdef4a109a",
   "metadata": {},
   "outputs": [
    {
     "name": "stdout",
     "output_type": "stream",
     "text": [
      "('brand', 'apple')\n",
      "('model', 'mac book pro')\n"
     ]
    }
   ],
   "source": [
    "for i in product.items():\n",
    "    print(i)"
   ]
  },
  {
   "cell_type": "code",
   "execution_count": 78,
   "id": "57c3afa6-5957-4fe0-ab97-c7d4eb935f23",
   "metadata": {},
   "outputs": [
    {
     "data": {
      "text/plain": [
       "'apple'"
      ]
     },
     "execution_count": 78,
     "metadata": {},
     "output_type": "execute_result"
    }
   ],
   "source": [
    "product.get('brand')"
   ]
  },
  {
   "cell_type": "code",
   "execution_count": 80,
   "id": "6bbd51bb-e29c-437b-a636-4187dfe0357d",
   "metadata": {},
   "outputs": [
    {
     "name": "stdout",
     "output_type": "stream",
     "text": [
      "None\n"
     ]
    }
   ],
   "source": [
    "print(product.get('color'))"
   ]
  },
  {
   "cell_type": "code",
   "execution_count": 81,
   "id": "8fe2c579-47a7-4d65-9326-86a5878c2330",
   "metadata": {},
   "outputs": [
    {
     "name": "stdout",
     "output_type": "stream",
     "text": [
      "key not found\n"
     ]
    }
   ],
   "source": [
    "print(product.get('color','key not found'))"
   ]
  },
  {
   "cell_type": "code",
   "execution_count": 82,
   "id": "a4f9a961-0d46-4a76-8f2e-c8c1cd6154bb",
   "metadata": {},
   "outputs": [
    {
     "data": {
      "text/plain": [
       "'silver'"
      ]
     },
     "execution_count": 82,
     "metadata": {},
     "output_type": "execute_result"
    }
   ],
   "source": [
    "product.setdefault('color','silver')"
   ]
  },
  {
   "cell_type": "code",
   "execution_count": 83,
   "id": "c15d7d95-4cfd-4580-b580-e6493a0f6adc",
   "metadata": {},
   "outputs": [
    {
     "data": {
      "text/plain": [
       "{'brand': 'apple', 'model': 'mac book pro', 'color': 'silver'}"
      ]
     },
     "execution_count": 83,
     "metadata": {},
     "output_type": "execute_result"
    }
   ],
   "source": [
    "product"
   ]
  },
  {
   "cell_type": "code",
   "execution_count": 84,
   "id": "1559791e-d5cc-4d34-ac07-b54b25ec25d7",
   "metadata": {},
   "outputs": [
    {
     "data": {
      "text/plain": [
       "'apple'"
      ]
     },
     "execution_count": 84,
     "metadata": {},
     "output_type": "execute_result"
    }
   ],
   "source": [
    "product.setdefault('brand','samsung')"
   ]
  },
  {
   "cell_type": "code",
   "execution_count": 85,
   "id": "52d1175d-ed63-40fa-9438-4015283ff39f",
   "metadata": {},
   "outputs": [
    {
     "data": {
      "text/plain": [
       "{'brand': 'apple', 'model': 'mac book pro', 'color': 'silver'}"
      ]
     },
     "execution_count": 85,
     "metadata": {},
     "output_type": "execute_result"
    }
   ],
   "source": [
    "product"
   ]
  },
  {
   "cell_type": "markdown",
   "id": "7cd08e68-28f6-4da0-a7d7-c0793a4fc866",
   "metadata": {},
   "source": [
    "# conditional problems"
   ]
  },
  {
   "cell_type": "markdown",
   "id": "28fe8788-ad27-4251-9356-d86665adc733",
   "metadata": {},
   "source": [
    "1. Age Group Categorization\n",
    "Classify a person's age group: Child (< 13), Teenager (13-19), Adult (20-59), Senior (60+)"
   ]
  },
  {
   "cell_type": "code",
   "execution_count": 89,
   "id": "05e4c9d1-f60b-4a77-a9f2-a8d220bd8811",
   "metadata": {},
   "outputs": [
    {
     "name": "stdin",
     "output_type": "stream",
     "text": [
      "enter your age 65\n"
     ]
    },
    {
     "name": "stdout",
     "output_type": "stream",
     "text": [
      "Senior\n"
     ]
    }
   ],
   "source": [
    "age = int(input('enter your age'))\n",
    "\n",
    "if age < 13:\n",
    "    print('Child')\n",
    "elif age >= 13 and age <= 19:\n",
    "    print('Teenager')\n",
    "elif age >= 20 and age <= 59:\n",
    "    print('Adult')\n",
    "else:\n",
    "    print('Senior')"
   ]
  },
  {
   "cell_type": "raw",
   "id": "68e434f1-8828-4372-a813-dbaf69a61785",
   "metadata": {},
   "source": [
    "2. Movie Ticket Pricing\n",
    "Problem: Movie tickets are priced based on age: $ 12 for adults (18 and over), $8 for children. Everyone gets a $2 discount on Wednesday.\n"
   ]
  },
  {
   "cell_type": "code",
   "execution_count": 101,
   "id": "6f89e4f5-68f3-4859-849a-29a4ac0c2647",
   "metadata": {},
   "outputs": [
    {
     "name": "stdin",
     "output_type": "stream",
     "text": [
      "Enter your age 12\n",
      "Enter day Wednesday\n"
     ]
    },
    {
     "name": "stdout",
     "output_type": "stream",
     "text": [
      "pay $10\n"
     ]
    }
   ],
   "source": [
    "age = int(input('Enter your age'))\n",
    "day = str(input('Enter day'))\n",
    "\n",
    "\n",
    "if age < 18 :\n",
    "    price = 8\n",
    "else :\n",
    "    price = 12\n",
    "    \n",
    "if day == 'Wednesday':\n",
    "    price = price -2\n",
    "\n",
    "print (f\"pay ${price}\")\n",
    "    "
   ]
  },
  {
   "cell_type": "markdown",
   "id": "4512d246-3a57-4e53-ba14-61162fe3c679",
   "metadata": {},
   "source": [
    "3. Grade Calculator\n",
    "Problem: Assign a letter grade based on a student's score: A (90-100), B (80-89), C (70-79), D (60-69), F (below 60)."
   ]
  },
  {
   "cell_type": "code",
   "execution_count": 104,
   "id": "043df628-8ff9-435e-a27d-28a3bc10f888",
   "metadata": {},
   "outputs": [
    {
     "name": "stdin",
     "output_type": "stream",
     "text": [
      "whats your score 300\n"
     ]
    },
    {
     "name": "stdout",
     "output_type": "stream",
     "text": [
      "you got invalid score enter within the range of 100\n"
     ]
    }
   ],
   "source": [
    "score = int(input('whats your score'))\n",
    "if score < 60:\n",
    "    grade = 'F'\n",
    "elif score < 70:\n",
    "    grade = 'D'\n",
    "elif score < 80:\n",
    "    grade = 'C'\n",
    "elif score < 90:\n",
    "    grade = 'B'\n",
    "elif score <= 100 :\n",
    "    grade = 'A'\n",
    "else:\n",
    "    grade ='invalid score'\n",
    "\n",
    "print(f\"you got {grade}\")"
   ]
  },
  {
   "cell_type": "code",
   "execution_count": 107,
   "id": "77f36813-c1c1-456f-8252-7ff37f75d341",
   "metadata": {},
   "outputs": [
    {
     "name": "stdin",
     "output_type": "stream",
     "text": [
      "enter coffee size Medium\n",
      "do you want an extra shot True\n"
     ]
    },
    {
     "name": "stdout",
     "output_type": "stream",
     "text": [
      "Medium with extra shot\n"
     ]
    }
   ],
   "source": [
    "coffee = str(input(\"enter coffee size\"))\n",
    "extrashot = bool(input(\"do you want an extra shot\"))\n",
    "\n",
    "if extrashot == True:\n",
    "    print (f\"{coffee} with extra shot\")\n",
    "else:\n",
    "    print (coffee)"
   ]
  },
  {
   "cell_type": "markdown",
   "id": "b197f9fb-f9cd-40c4-9af5-251f59b06345",
   "metadata": {},
   "source": [
    "Problem: Recommend a type of pet food based on the pet's species and age. (e.g., Dog: <2 years - Puppy food, Cat: >5 years - Senior cat food)."
   ]
  },
  {
   "cell_type": "code",
   "execution_count": 109,
   "id": "025d4189-1201-42b1-8b75-3ecb86bfca28",
   "metadata": {},
   "outputs": [
    {
     "name": "stdin",
     "output_type": "stream",
     "text": [
      "enter the pet type Cat\n",
      "enter the pet age 12\n"
     ]
    },
    {
     "name": "stdout",
     "output_type": "stream",
     "text": [
      "your Cat needs Senior cat food\n"
     ]
    }
   ],
   "source": [
    "pet = str(input(\"enter the pet type\"))\n",
    "age = int(input(\"enter the pet age\"))\n",
    "\n",
    "if age < 2 and pet == 'Dog':\n",
    "    print(f\"your {pet} needs a Puppy food\")\n",
    "elif age > 5 and pet == 'Cat' :\n",
    "    print(f\"your {pet} needs Senior cat food\")\n",
    "else:\n",
    "    print(f\"you {pet} needs {pet} food\")"
   ]
  },
  {
   "cell_type": "markdown",
   "id": "74baa34d-49df-4f78-9a86-ba8cee06a404",
   "metadata": {},
   "source": [
    "9. Leap Year Checker\n",
    "Problem: Determine if a year is a leap year. (Leap years are divisible by 4, but not by 100 unless also divisible by 400)."
   ]
  },
  {
   "cell_type": "code",
   "execution_count": 118,
   "id": "7a793101-25e5-4e60-b6b2-989bea81dbb6",
   "metadata": {},
   "outputs": [
    {
     "name": "stdin",
     "output_type": "stream",
     "text": [
      "Enter year 2024\n"
     ]
    },
    {
     "name": "stdout",
     "output_type": "stream",
     "text": [
      "leap year\n"
     ]
    }
   ],
   "source": [
    "year = int(input(\"Enter year\"))\n",
    "\n",
    "if (year % 400 == 0) or (year % 4 == 0 and year % 100 != 0):\n",
    "    print(\"leap year\")\n",
    "else:\n",
    "    print(\"not a leap year\")"
   ]
  },
  {
   "cell_type": "markdown",
   "id": "3dda1807-bd7e-4a25-b6bc-7b41ba0d1ce4",
   "metadata": {},
   "source": [
    "# loops practice"
   ]
  },
  {
   "cell_type": "markdown",
   "id": "0a5ee742-6834-4a45-b987-43bee0bfc1ce",
   "metadata": {},
   "source": [
    "Problem: Given a list of numbers, count how many are positive.\n"
   ]
  },
  {
   "cell_type": "code",
   "execution_count": 119,
   "id": "9d3299c5-96cd-4813-9db3-2ed4f2f3b1f6",
   "metadata": {},
   "outputs": [],
   "source": [
    "numbers = [1, -2, 3, -4, 5, 6, -7, -8, 9, 10]"
   ]
  },
  {
   "cell_type": "code",
   "execution_count": 120,
   "id": "2b5322d3-c5b0-4ec6-b5e7-3ace34f07cbc",
   "metadata": {},
   "outputs": [
    {
     "name": "stdout",
     "output_type": "stream",
     "text": [
      "4\n"
     ]
    }
   ],
   "source": [
    "count = 0\n",
    "for i in numbers:\n",
    "    if i < 0:\n",
    "        count +=1\n",
    "print(count)"
   ]
  },
  {
   "cell_type": "markdown",
   "id": "2a523e11-c007-44ea-ad04-c1f8b501fe91",
   "metadata": {},
   "source": [
    "2. Sum of Even Numbers\n",
    "Problem: Calculate the sum of even numbers up to a given number n."
   ]
  },
  {
   "cell_type": "code",
   "execution_count": 2,
   "id": "135ad61c-c41e-4d28-ab7d-66f622250258",
   "metadata": {},
   "outputs": [
    {
     "name": "stdin",
     "output_type": "stream",
     "text": [
      "enter the number 4\n"
     ]
    },
    {
     "name": "stdout",
     "output_type": "stream",
     "text": [
      "6\n"
     ]
    }
   ],
   "source": [
    "n = int(input(\"enter the number\"))\n",
    "sum_even = 0\n",
    "for i in range(n+1):\n",
    "    if i % 2== 0:\n",
    "        sum_even +=i\n",
    "print(sum_even)"
   ]
  },
  {
   "cell_type": "markdown",
   "id": "9da820d4-d9f1-49c0-af1f-9693361fbde0",
   "metadata": {},
   "source": [
    "3. Multiplication Table Printer\n",
    "Problem: Print the multiplication table for a given number up to 10, but skip the fifth iteration.\n",
    "    "
   ]
  },
  {
   "cell_type": "code",
   "execution_count": 12,
   "id": "77599a8a-ae18-4b36-9d9e-f6f0e8375b97",
   "metadata": {},
   "outputs": [
    {
     "name": "stdout",
     "output_type": "stream",
     "text": [
      " 5 X 1 = 5\n",
      " 5 X 2 = 10\n",
      " 5 X 3 = 15\n",
      " 5 X 4 = 20\n",
      " 5 X 6 = 30\n",
      " 5 X 7 = 35\n",
      " 5 X 8 = 40\n",
      " 5 X 9 = 45\n",
      " 5 X 10 = 50\n"
     ]
    }
   ],
   "source": [
    "n = 5\n",
    "for i in range(1,11):\n",
    "    if i == 5:\n",
    "        continue\n",
    "    print(f\" {n} X {i} = {i*n}\")"
   ]
  },
  {
   "cell_type": "markdown",
   "id": "9b959828-ed79-4513-ab19-d0a9c4f510c8",
   "metadata": {},
   "source": [
    "4. Reverse a String\n",
    "Problem: Reverse a string using a loop."
   ]
  },
  {
   "cell_type": "code",
   "execution_count": 19,
   "id": "f7634083-f0b7-4266-82b3-099eeb8c0bdc",
   "metadata": {},
   "outputs": [
    {
     "name": "stdin",
     "output_type": "stream",
     "text": [
      "enter a string shashwat\n"
     ]
    },
    {
     "name": "stdout",
     "output_type": "stream",
     "text": [
      "tawhsahs\n"
     ]
    }
   ],
   "source": [
    "string = str(input(\"enter a string\"))\n",
    "rev = ''\n",
    "index = len(string) \n",
    "while  index >= 1:\n",
    "    index -= 1\n",
    "    rev += string[index]\n",
    "print(rev)\n",
    "    "
   ]
  },
  {
   "cell_type": "markdown",
   "id": "57fa521b-2c64-41a4-8612-c9e709f2ad73",
   "metadata": {},
   "source": [
    "Easy method"
   ]
  },
  {
   "cell_type": "markdown",
   "id": "cbe90ca5-7cd3-4f2e-9af8-47a41e957c7d",
   "metadata": {},
   "source": [
    "string = 'python'\n",
    "rev=''\n",
    "for char in string:\n",
    "    rev = char + rev\n",
    "print(rev)"
   ]
  },
  {
   "cell_type": "markdown",
   "id": "af689dee-d05a-4d69-ba79-069e91a96359",
   "metadata": {},
   "source": [
    "5. Find the First Non-Repeated Character\n",
    "Problem: Given a string, find the first non-repeated character."
   ]
  },
  {
   "cell_type": "code",
   "execution_count": 27,
   "id": "f12f0f66-d7ad-4f64-8084-8899db3909ef",
   "metadata": {},
   "outputs": [
    {
     "name": "stdout",
     "output_type": "stream",
     "text": [
      "first non-repeated character is  w\n"
     ]
    }
   ],
   "source": [
    "text = 'shashwat'\n",
    "for i in text:\n",
    "    if text.count(i) == 1:\n",
    "        print('first non-repeated character is ',i)\n",
    "        break"
   ]
  },
  {
   "cell_type": "markdown",
   "id": "9d632536-3df5-45e5-aef6-8f3455f6fa6e",
   "metadata": {},
   "source": [
    "6. Factorial Calculator\n",
    "Problem: Compute the factorial of a number using a while loop."
   ]
  },
  {
   "cell_type": "code",
   "execution_count": null,
   "id": "b4869ed6-e1a5-4ed4-be59-e589b59dd8de",
   "metadata": {},
   "outputs": [],
   "source": [
    "# 6 = 6*5*4*3*2*1"
   ]
  },
  {
   "cell_type": "code",
   "execution_count": 48,
   "id": "774d8f3f-e3ac-43bc-be75-d95c79fc3dee",
   "metadata": {},
   "outputs": [
    {
     "name": "stdout",
     "output_type": "stream",
     "text": [
      "40320\n"
     ]
    }
   ],
   "source": [
    "n = 8 \n",
    "i = 1\n",
    "fac = 1\n",
    "while i <= n:\n",
    "    fac = fac*i\n",
    "    i += 1\n",
    "print(fac)\n"
   ]
  },
  {
   "cell_type": "markdown",
   "id": "0739e2e7-47d8-463c-9d18-be6dd8e7bf98",
   "metadata": {},
   "source": [
    "7. Validate Input\n",
    "Problem: Keep asking the user for input until they enter a number between 1 and 10."
   ]
  },
  {
   "cell_type": "code",
   "execution_count": 5,
   "id": "3a6470f4-053b-4edc-8114-fe2a0d50e7dd",
   "metadata": {},
   "outputs": [
    {
     "name": "stdout",
     "output_type": "stream",
     "text": [
      "Please enter the number between 1 and 10\n"
     ]
    },
    {
     "name": "stdin",
     "output_type": "stream",
     "text": [
      " 55\n"
     ]
    },
    {
     "name": "stdout",
     "output_type": "stream",
     "text": [
      "invalid number try again\n",
      "Please enter the number between 1 and 10\n"
     ]
    },
    {
     "name": "stdin",
     "output_type": "stream",
     "text": [
      " 2\n"
     ]
    },
    {
     "name": "stdout",
     "output_type": "stream",
     "text": [
      "number entered\n"
     ]
    }
   ],
   "source": [
    "\n",
    "while True:\n",
    "    print(\"Please enter the number between 1 and 10\")\n",
    "    num_input = int(input())\n",
    "    if num_input <= 10 and num_input>=1:\n",
    "        print(\"number entered\")  \n",
    "        break\n",
    "    else:\n",
    "        print(\"invalid number try again\")\n"
   ]
  },
  {
   "cell_type": "markdown",
   "id": "6818a688-825f-42db-a79d-283f4e019007",
   "metadata": {},
   "source": [
    "8. Prime Number Checker\n",
    "Problem: Check if a number is prime."
   ]
  },
  {
   "cell_type": "code",
   "execution_count": 4,
   "id": "618030c9-7c23-4000-bd06-b922adcb0ad7",
   "metadata": {},
   "outputs": [
    {
     "name": "stdout",
     "output_type": "stream",
     "text": [
      "True\n"
     ]
    }
   ],
   "source": [
    "is_prime = True\n",
    "number = 2\n",
    "\n",
    "if number > 1:\n",
    "    for i in range(2,number):\n",
    "        if (i % number == 0 ):\n",
    "            is_prime = False\n",
    "            break\n",
    "print(is_prime)"
   ]
  },
  {
   "cell_type": "markdown",
   "id": "51df9e30-2615-46f2-b6c0-4fdda9b4c11d",
   "metadata": {},
   "source": [
    "9. List Uniqueness Checker\n",
    "Problem: Check if all elements in a list are unique. If a duplicate is found, exit the loop and print the duplicate."
   ]
  },
  {
   "cell_type": "code",
   "execution_count": 5,
   "id": "f4c12544-cc74-43ab-ad3b-c26dc98e25d9",
   "metadata": {},
   "outputs": [
    {
     "name": "stdout",
     "output_type": "stream",
     "text": [
      "apple\n"
     ]
    }
   ],
   "source": [
    "fruits = [\"apple\", \"banana\", \"orange\", \"apple\", \"mango\"]\n",
    "for fruit in fruits:\n",
    "    if fruits.count(fruit)>1:\n",
    "        break\n",
    "print(fruit)"
   ]
  },
  {
   "cell_type": "markdown",
   "id": "deec7d64-48b0-4b74-b9b0-408b939c462a",
   "metadata": {},
   "source": [
    "10. Exponential Backoff\n",
    "Problem: Implement an exponential backoff strategy that doubles the wait time between retries, starting from 1 second, but stops after 5 retries."
   ]
  },
  {
   "cell_type": "code",
   "execution_count": 6,
   "id": "0813d7b6-b752-4a8e-878d-1addd1c7752a",
   "metadata": {},
   "outputs": [
    {
     "name": "stdout",
     "output_type": "stream",
     "text": [
      "attempt : 1 - wait time: 1\n",
      "attempt : 2 - wait time: 2\n",
      "attempt : 3 - wait time: 4\n",
      "attempt : 4 - wait time: 8\n",
      "attempt : 5 - wait time: 16\n",
      "attempt : 6 - wait time: 32\n"
     ]
    }
   ],
   "source": [
    "import time\n",
    "\n",
    "wait_time = 1\n",
    "retries = 5\n",
    "attempts = 0\n",
    "\n",
    "while attempts <= retries:\n",
    "    attempts += 1\n",
    "    print(f\"attempt : {attempts} - wait time: {wait_time}\")\n",
    "    time.sleep(wait_time)\n",
    "    wait_time *=2\n",
    "    "
   ]
  },
  {
   "cell_type": "markdown",
   "id": "b1e5ccdb-bf23-4ff2-9331-edad52e2717b",
   "metadata": {},
   "source": [
    "# function question"
   ]
  },
  {
   "cell_type": "markdown",
   "id": "76d5b88b-5415-41a3-9448-db87798dd7b6",
   "metadata": {},
   "source": [
    "1. Basic Function Syntax\n",
    "Problem: Write a function to calculate and return the square of a number."
   ]
  },
  {
   "cell_type": "code",
   "execution_count": 8,
   "id": "f92ef1b5-ab14-428e-8a19-9c8b3dde540c",
   "metadata": {},
   "outputs": [
    {
     "data": {
      "text/plain": [
       "36"
      ]
     },
     "execution_count": 8,
     "metadata": {},
     "output_type": "execute_result"
    }
   ],
   "source": [
    "def square(a):\n",
    "    b = a**2\n",
    "    return b\n",
    "\n",
    "\n",
    "square(6)"
   ]
  },
  {
   "cell_type": "markdown",
   "id": "57af43cb-6ad6-428b-ab4b-8214e32e5f9b",
   "metadata": {},
   "source": [
    "2. Function with Multiple Parameters\n",
    "Problem: Create a function that takes two numbers as parameters and returns their sum."
   ]
  },
  {
   "cell_type": "code",
   "execution_count": 10,
   "id": "fa9afb28-f213-484a-9bad-61eadb5cfc7d",
   "metadata": {},
   "outputs": [
    {
     "data": {
      "text/plain": [
       "9"
      ]
     },
     "execution_count": 10,
     "metadata": {},
     "output_type": "execute_result"
    }
   ],
   "source": [
    "def add(a,b):\n",
    "    c = a+b\n",
    "    return c\n",
    "\n",
    "\n",
    "add(5,4)"
   ]
  },
  {
   "cell_type": "markdown",
   "id": "e70d7896-e423-4e42-8842-54de0b952e70",
   "metadata": {},
   "source": [
    "3. Polymorphism in Functions\n",
    "Problem: Write a function multiply that multiplies two numbers, but can also accept and multiply strings."
   ]
  },
  {
   "cell_type": "code",
   "execution_count": 15,
   "id": "da5edb47-8540-4d40-997f-a61b200d6e00",
   "metadata": {},
   "outputs": [
    {
     "data": {
      "text/plain": [
       "'bbbb'"
      ]
     },
     "execution_count": 15,
     "metadata": {},
     "output_type": "execute_result"
    }
   ],
   "source": [
    "def multiply(a,b):\n",
    "    c = a * b\n",
    "    return c\n",
    "\n",
    "\n",
    "multiply(4,'b')\n"
   ]
  },
  {
   "cell_type": "markdown",
   "id": "afe70a8b-c768-427b-94f6-76c74024c956",
   "metadata": {},
   "source": [
    "4. Function Returning Multiple Values\n",
    "Problem: Create a function that returns both the area and circumference of a circle given its radius."
   ]
  },
  {
   "cell_type": "code",
   "execution_count": 22,
   "id": "5546557d-096a-4bcf-af27-9a37be4bfb51",
   "metadata": {},
   "outputs": [
    {
     "name": "stdout",
     "output_type": "stream",
     "text": [
      "area:28 ,circumference: 18\n"
     ]
    }
   ],
   "source": [
    "import math\n",
    "def dimentions(r):\n",
    "    circum = 2*math.pi*r\n",
    "    area = math.pi*r**2\n",
    "    return area,circum\n",
    "\n",
    "\n",
    "area , circum = dimentions(3)\n",
    "print (f\"area:{math.floor(area)} ,circumference: {math.floor(circum)}\")"
   ]
  },
  {
   "cell_type": "markdown",
   "id": "447746fa-e186-4e7d-bfd9-aab5c2a47b31",
   "metadata": {},
   "source": [
    "5. Default Parameter Value\n",
    "Problem: Write a function that greets a user. If no name is provided, it should greet with a default name."
   ]
  },
  {
   "cell_type": "code",
   "execution_count": null,
   "id": "ab56686b-ce72-4cef-b4fb-880caf8ac6c7",
   "metadata": {},
   "outputs": [],
   "source": [
    "def greet(name = \"User\"):\n",
    "    return f\"Welcome {name} !\"\n",
    "\n",
    "user_name = input(\"enter your name\")\n",
    "print(greet(user_name))\n",
    "print(greet())"
   ]
  },
  {
   "cell_type": "markdown",
   "id": "613bb722-1b0e-453a-8e2a-b1e6c76451cf",
   "metadata": {},
   "source": [
    "6. Lambda Function\n",
    "Problem: Create a lambda function to compute the cube of a number."
   ]
  },
  {
   "cell_type": "code",
   "execution_count": 30,
   "id": "1f487162-8294-4f23-ab34-c31b535aad66",
   "metadata": {},
   "outputs": [
    {
     "data": {
      "text/plain": [
       "27"
      ]
     },
     "execution_count": 30,
     "metadata": {},
     "output_type": "execute_result"
    }
   ],
   "source": [
    "cube = lambda x:x**3\n",
    "cube(3)"
   ]
  },
  {
   "cell_type": "markdown",
   "id": "874ed408-ac4c-43f1-82d8-91ddc5846a71",
   "metadata": {},
   "source": [
    "7. Function with *args\n",
    "Problem: Write a function that takes variable number of arguments and returns their sum."
   ]
  },
  {
   "cell_type": "code",
   "execution_count": 31,
   "id": "d5ff5c7f-3283-4115-8261-78b0ac3f84ce",
   "metadata": {},
   "outputs": [
    {
     "data": {
      "text/plain": [
       "134"
      ]
     },
     "execution_count": 31,
     "metadata": {},
     "output_type": "execute_result"
    }
   ],
   "source": [
    "def add(*args):\n",
    "    a = 0\n",
    "    for i in args:\n",
    "        a = a + i \n",
    "    return a\n",
    "\n",
    "add(3,4,5,23,54,45)"
   ]
  },
  {
   "cell_type": "markdown",
   "id": "da4bf747-080e-4b1f-ada0-235ca150c630",
   "metadata": {},
   "source": [
    "8. Function with **kwargs\n",
    "Problem: Create a function that accepts any number of keyword arguments and prints them in the format key: value."
   ]
  },
  {
   "cell_type": "code",
   "execution_count": 36,
   "id": "2805d5f5-670f-4430-b5a5-a4d259b5ac76",
   "metadata": {},
   "outputs": [
    {
     "name": "stdout",
     "output_type": "stream",
     "text": [
      "name:superman\n",
      "power:laser\n",
      "weakness:kriptonite\n"
     ]
    }
   ],
   "source": [
    "def kwargs(**kwargs):\n",
    "    for keys,values in kwargs.items():\n",
    "        print(f\"{keys}:{values}\")\n",
    "\n",
    "kwargs(name = \"superman\",power = \"laser\",weakness= \"kriptonite\")"
   ]
  },
  {
   "cell_type": "markdown",
   "id": "d86d41ec-29a2-45dc-8cbf-07f76993945b",
   "metadata": {},
   "source": [
    "9. Generator Function with yield\n",
    "Problem: Write a generator function that yields even numbers up to a specified limit."
   ]
  },
  {
   "cell_type": "code",
   "execution_count": 43,
   "id": "93c97bd7-c26c-4783-a930-68fdb3e028f9",
   "metadata": {},
   "outputs": [
    {
     "name": "stdout",
     "output_type": "stream",
     "text": [
      "2\n",
      "4\n",
      "6\n",
      "8\n",
      "10\n"
     ]
    }
   ],
   "source": [
    "def even(num):\n",
    "   \n",
    "    for i in range(2,num+1,2):\n",
    "        yield i\n",
    "\n",
    "for i in even(10):\n",
    "    print(i)"
   ]
  },
  {
   "cell_type": "markdown",
   "id": "f9dbde6e-2532-41c0-80d2-047ee1adc7bd",
   "metadata": {},
   "source": [
    "10. Recursive Function\n",
    "Problem: Create a recursive function to calculate the factorial of a number."
   ]
  },
  {
   "cell_type": "code",
   "execution_count": 46,
   "id": "fc8b8561-3157-4e3a-b819-708bab811f75",
   "metadata": {},
   "outputs": [
    {
     "name": "stdout",
     "output_type": "stream",
     "text": [
      "40320\n"
     ]
    }
   ],
   "source": [
    "def rec(num):\n",
    "    if num == 0:\n",
    "        return 1\n",
    "    else:\n",
    "        return num * rec(num -1)\n",
    "\n",
    "print(rec(8))"
   ]
  },
  {
   "cell_type": "markdown",
   "id": "92809ab0-6712-4910-8831-7256cac69139",
   "metadata": {},
   "source": [
    "# try except "
   ]
  },
  {
   "cell_type": "code",
   "execution_count": 1,
   "id": "13530434-ddc8-4e9b-bf41-5e6de0090eb7",
   "metadata": {},
   "outputs": [
    {
     "data": {
      "text/plain": [
       "'invalid input'"
      ]
     },
     "execution_count": 1,
     "metadata": {},
     "output_type": "execute_result"
    }
   ],
   "source": [
    "def convert_int(a):\n",
    "    try:\n",
    "        return int(a)\n",
    "    except ValueError:\n",
    "        return \"invalid input\"\n",
    "    \n",
    "convert_int(\"hello\")  \n"
   ]
  },
  {
   "cell_type": "code",
   "execution_count": null,
   "id": "5bd26a40-2973-4ef3-9831-ceccde20b6bf",
   "metadata": {},
   "outputs": [],
   "source": []
  }
 ],
 "metadata": {
  "kernelspec": {
   "display_name": "Python 3 (ipykernel)",
   "language": "python",
   "name": "python3"
  },
  "language_info": {
   "codemirror_mode": {
    "name": "ipython",
    "version": 3
   },
   "file_extension": ".py",
   "mimetype": "text/x-python",
   "name": "python",
   "nbconvert_exporter": "python",
   "pygments_lexer": "ipython3",
   "version": "3.13.5"
  }
 },
 "nbformat": 4,
 "nbformat_minor": 5
}
