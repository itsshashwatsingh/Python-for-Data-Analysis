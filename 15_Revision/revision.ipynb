{
 "cells": [
  {
   "cell_type": "markdown",
   "id": "5525a1f4-8bae-4cd1-b265-29fb1a7bac25",
   "metadata": {},
   "source": [
    "## while loop practice"
   ]
  },
  {
   "cell_type": "code",
   "execution_count": 4,
   "id": "d6e24b33-a521-4363-b584-0e492adf52ef",
   "metadata": {},
   "outputs": [],
   "source": [
    "coins = 0"
   ]
  },
  {
   "cell_type": "code",
   "execution_count": 5,
   "id": "56c8b31a-630f-45dd-8aba-5389e0198df5",
   "metadata": {},
   "outputs": [
    {
     "name": "stdout",
     "output_type": "stream",
     "text": [
      "you have 0 coin\n",
      "you have 1 coin\n",
      "you have 2 coin\n",
      "you have 3 coin\n",
      "you have 4 coin\n",
      "good bye!\n"
     ]
    }
   ],
   "source": [
    "while coins < 5:\n",
    "    print(f\"you have {coins} coin\" )\n",
    "    coins = coins + 1\n",
    "print(\"good bye!\")"
   ]
  },
  {
   "cell_type": "code",
   "execution_count": 3,
   "id": "5d67db18-af85-473d-ad4d-a36d23a20e48",
   "metadata": {},
   "outputs": [
    {
     "name": "stdout",
     "output_type": "stream",
     "text": [
      "you have 0 coin\n",
      "you gained a coin. Now :1\n",
      "you have 1 coin\n",
      "you gained a coin. Now :2\n",
      "you have 2 coin\n",
      "you gained a coin. Now :3\n",
      "you have 3 coin\n",
      "Skipped a turn 3 is a multiple of 3)\n",
      "you have 4 coin\n",
      "you gained a coin. Now :5\n",
      "you have 5 coin\n",
      "Quitting the game at 5 coins.\n"
     ]
    }
   ],
   "source": [
    "coins = 0\n",
    "while coins <=5:\n",
    "    print(f\"you have {coins} coin\")\n",
    "    if coins == 5:\n",
    "        print(f\"Quitting the game at {coins} coins.\")\n",
    "        break\n",
    "    elif coins % 3 == 0 and coins !=0:\n",
    "        print(f\"Skipped a turn {coins} is a multiple of 3)\")\n",
    "        coins += 1\n",
    "    else:\n",
    "        coins += 1\n",
    "        print(f\"you gained a coin. Now :{coins}\")\n",
    "              "
   ]
  },
  {
   "cell_type": "code",
   "execution_count": 1,
   "id": "3ab2595a-3a93-45f8-af0f-bdcdc31b1f96",
   "metadata": {},
   "outputs": [
    {
     "name": "stdout",
     "output_type": "stream",
     "text": [
      "T-minus 10 seconds\n",
      "T-minus 9 seconds\n",
      "T-minus 8 seconds\n",
      "Skipping number 7 (unlucky!)\n",
      "T-minus 6 seconds\n",
      "T-minus 5 seconds\n",
      "T-minus 4 seconds\n",
      "Launch aborted at 3!\n"
     ]
    }
   ],
   "source": [
    "countdown = 10\n",
    "while countdown >= 0:\n",
    "     \n",
    "    if countdown == 3:\n",
    "          print(f\"Launch aborted at {countdown}!\")\n",
    "          break\n",
    "    elif countdown == 7:\n",
    "          print(f\"Skipping number {countdown} (unlucky!)\")\n",
    "          countdown = countdown - 1\n",
    "          \n",
    "    else:\n",
    "        print(f\"T-minus {countdown} seconds\")\n",
    "        countdown = countdown - 1\n",
    "        "
   ]
  },
  {
   "cell_type": "code",
   "execution_count": 23,
   "id": "61a56915-ab0c-4eb6-b85a-a431d413b7bb",
   "metadata": {},
   "outputs": [
    {
     "name": "stdout",
     "output_type": "stream",
     "text": [
      "Door 0: Found treasure!\n",
      "Door 1: Locked. Skipping...\n",
      "Door 2: Found treasure!\n",
      "Door 3: Locked. Skipping...\n",
      "Door 4: Found treasure!\n",
      "Door 5: Locked. Skipping...\n",
      "Door 6: Found treasure!\n",
      "Door 7: Locked. Skipping...\n",
      "Door 8: It's a trap! Game over.\n"
     ]
    }
   ],
   "source": [
    "for door in range(11):\n",
    "    if door == 8:\n",
    "        print(f\"Door {door}: It's a trap! Game over.\")\n",
    "        break\n",
    "    elif door % 2 != 0:\n",
    "        print(f\"Door {door}: Locked. Skipping...\")\n",
    "        door = door + 1\n",
    "    elif door % 2 == 0:\n",
    "        print(f\"Door {door}: Found treasure!\")\n",
    "        door = door + 1\n",
    "  \n",
    "        "
   ]
  },
  {
   "cell_type": "code",
   "execution_count": 18,
   "id": "02dd05b6-ba1a-4255-9ed5-adaa26520ab2",
   "metadata": {},
   "outputs": [],
   "source": [
    "name = ''"
   ]
  },
  {
   "cell_type": "code",
   "execution_count": 4,
   "id": "a9407425-4199-4f35-9d23-ee3e3ae9f95f",
   "metadata": {},
   "outputs": [
    {
     "name": "stdout",
     "output_type": "stream",
     "text": [
      "say my name!\n"
     ]
    },
    {
     "name": "stdout",
     "output_type": "stream",
     "text": [
      " shashawt\n"
     ]
    },
    {
     "name": "stdout",
     "output_type": "stream",
     "text": [
      "say my name!\n"
     ]
    },
    {
     "name": "stdout",
     "output_type": "stream",
     "text": [
      " gus\n"
     ]
    },
    {
     "name": "stdout",
     "output_type": "stream",
     "text": [
      "say my name!\n"
     ]
    },
    {
     "name": "stdout",
     "output_type": "stream",
     "text": [
      " Hisenberg\n"
     ]
    },
    {
     "name": "stdout",
     "output_type": "stream",
     "text": [
      "YOU ARE GOD DAMN RIGHT\n"
     ]
    }
   ],
   "source": [
    "while name != \"Hisenberg\":\n",
    "    print(\"say my name!\")\n",
    "    name = input()\n",
    "print(\"YOU ARE GOD DAMN RIGHT\")\n"
   ]
  },
  {
   "cell_type": "markdown",
   "id": "74daa133-313f-4ea0-86e1-ba2f60fe5c44",
   "metadata": {},
   "source": [
    "loop flow control "
   ]
  },
  {
   "cell_type": "code",
   "execution_count": 2,
   "id": "02c90c09-c528-4180-ada1-0abd9b017ffd",
   "metadata": {},
   "outputs": [
    {
     "name": "stdout",
     "output_type": "stream",
     "text": [
      "say my name!\n"
     ]
    },
    {
     "name": "stdout",
     "output_type": "stream",
     "text": [
      " shashwat\n"
     ]
    },
    {
     "name": "stdout",
     "output_type": "stream",
     "text": [
      "say my name!\n"
     ]
    },
    {
     "name": "stdout",
     "output_type": "stream",
     "text": [
      " walter\n"
     ]
    },
    {
     "name": "stdout",
     "output_type": "stream",
     "text": [
      "say my name!\n"
     ]
    },
    {
     "name": "stdout",
     "output_type": "stream",
     "text": [
      " Hisenberg\n"
     ]
    },
    {
     "name": "stdout",
     "output_type": "stream",
     "text": [
      "YOU ARE GOD DAMN RIGHT\n"
     ]
    }
   ],
   "source": [
    "while True:\n",
    "    print(\"say my name!\")\n",
    "    name = input()\n",
    "    if name == \"Hisenberg\":\n",
    "        break\n",
    "print(\"YOU ARE GOD DAMN RIGHT\")"
   ]
  },
  {
   "cell_type": "code",
   "execution_count": 1,
   "id": "30467d96-c60f-4497-8cdc-bd979445b29a",
   "metadata": {},
   "outputs": [
    {
     "name": "stdout",
     "output_type": "stream",
     "text": [
      "enter your name\n"
     ]
    },
    {
     "name": "stdout",
     "output_type": "stream",
     "text": [
      " shashwat\n"
     ]
    },
    {
     "name": "stdout",
     "output_type": "stream",
     "text": [
      "enter your password\n"
     ]
    },
    {
     "name": "stdout",
     "output_type": "stream",
     "text": [
      " password\n"
     ]
    },
    {
     "name": "stdout",
     "output_type": "stream",
     "text": [
      "welcome shashwat!\n"
     ]
    }
   ],
   "source": [
    "while True:\n",
    "    print(\"enter your name\")\n",
    "    name = input()\n",
    "    if name != \"shashwat\":\n",
    "        continue\n",
    "    print(\"enter your password\")\n",
    "    pwd = input()\n",
    "    if pwd == \"password\":\n",
    "        break\n",
    "print(\"welcome shashwat!\")"
   ]
  },
  {
   "cell_type": "code",
   "execution_count": 4,
   "id": "146bc9ab-ad6a-4426-a833-e34b77685b69",
   "metadata": {},
   "outputs": [
    {
     "name": "stdout",
     "output_type": "stream",
     "text": [
      "who are you ?\n"
     ]
    },
    {
     "name": "stdout",
     "output_type": "stream",
     "text": [
      " shashwat\n"
     ]
    },
    {
     "name": "stdout",
     "output_type": "stream",
     "text": [
      "do i know you ?\n"
     ]
    },
    {
     "name": "stdout",
     "output_type": "stream",
     "text": [
      " yes\n"
     ]
    },
    {
     "name": "stdout",
     "output_type": "stream",
     "text": [
      "hello shashwat\n"
     ]
    }
   ],
   "source": [
    "while True:\n",
    "    print(\"who are you ?\")\n",
    "    name = input()\n",
    "    if name != \"shashwat\":\n",
    "        continue                # here continue means continue from the START \n",
    "    print(\"do i know you ?\")\n",
    "    sec = input()\n",
    "    if sec == \"yes\":\n",
    "         break \n",
    "print(\"hello shashwat\")"
   ]
  },
  {
   "cell_type": "markdown",
   "id": "35b7a26d-0882-4acf-b564-38bb94e8e556",
   "metadata": {},
   "source": [
    "## for loop practice"
   ]
  },
  {
   "cell_type": "markdown",
   "id": "a9d7d019-9fc6-4aa1-b795-8825d718b28d",
   "metadata": {},
   "source": [
    "using range"
   ]
  },
  {
   "cell_type": "code",
   "execution_count": 15,
   "id": "b69c1d93-41d8-4608-ac5a-d3eec7aa1e36",
   "metadata": {},
   "outputs": [
    {
     "name": "stdout",
     "output_type": "stream",
     "text": [
      "0\n",
      "1\n",
      "2\n",
      "3\n",
      "4\n"
     ]
    }
   ],
   "source": [
    "for i in range(5):\n",
    "    print(i)"
   ]
  },
  {
   "cell_type": "code",
   "execution_count": 2,
   "id": "3be4c025-9db8-4e54-b73f-dc9dcbdd9984",
   "metadata": {},
   "outputs": [
    {
     "name": "stdout",
     "output_type": "stream",
     "text": [
      "5\n",
      "6\n",
      "7\n",
      "8\n",
      "9\n"
     ]
    }
   ],
   "source": [
    "for i in range(5,10):\n",
    "    print(i)"
   ]
  },
  {
   "cell_type": "code",
   "execution_count": 3,
   "id": "69e30874-be7f-4da9-885d-582cdb91e38d",
   "metadata": {},
   "outputs": [
    {
     "name": "stdout",
     "output_type": "stream",
     "text": [
      "5\n",
      "7\n",
      "9\n"
     ]
    }
   ],
   "source": [
    "for i in range(5,10,2):\n",
    "    print(i)"
   ]
  },
  {
   "cell_type": "markdown",
   "id": "cd7d54fa-2d2b-45ab-b32a-996b38b76f77",
   "metadata": {},
   "source": [
    "using string"
   ]
  },
  {
   "cell_type": "code",
   "execution_count": 7,
   "id": "8d3e892c-de48-4ebc-b1e5-69fbae222078",
   "metadata": {},
   "outputs": [
    {
     "name": "stdout",
     "output_type": "stream",
     "text": [
      " letter is  s\n",
      " letter is  h\n",
      " letter is  a\n",
      " letter is  s\n",
      " letter is  h\n",
      " letter is  w\n",
      " letter is  a\n",
      " letter is  t\n"
     ]
    }
   ],
   "source": [
    "name = 'shashwat'\n",
    "for i in name:\n",
    "    print(\" letter is \", i)"
   ]
  },
  {
   "cell_type": "markdown",
   "id": "fd598b42-ce71-41e3-ac6f-e3a5afbeffb2",
   "metadata": {},
   "source": [
    "using list"
   ]
  },
  {
   "cell_type": "code",
   "execution_count": 10,
   "id": "eda3d3b4-abf1-4e92-90c8-e0000592544f",
   "metadata": {},
   "outputs": [
    {
     "name": "stdout",
     "output_type": "stream",
     "text": [
      "i know C++\n",
      "i know Java\n",
      "i know Python\n",
      "currently learning Python\n"
     ]
    }
   ],
   "source": [
    "language = ['C++','Java','Python','SQL']\n",
    "for i in language:\n",
    "    print ('i know',i)\n",
    "    if i == 'Python':\n",
    "            break\n",
    "print('currently learning Python')\n",
    "        "
   ]
  },
  {
   "cell_type": "code",
   "execution_count": 25,
   "id": "7f8d0ea2-e49b-44ab-8fdd-a8e79f511f17",
   "metadata": {},
   "outputs": [
    {
     "name": "stdout",
     "output_type": "stream",
     "text": [
      "1\n",
      "2\n",
      "3\n",
      "5\n",
      "6\n",
      "7\n",
      "9\n",
      "10\n"
     ]
    }
   ],
   "source": [
    "for i in range(1,11):\n",
    "    if i % 4 == 0:\n",
    "        continue\n",
    "    else:\n",
    "        print(i)\n",
    "    "
   ]
  },
  {
   "cell_type": "code",
   "execution_count": 30,
   "id": "1fd50682-5348-4db5-b32b-b389ae80776e",
   "metadata": {},
   "outputs": [
    {
     "name": "stdout",
     "output_type": "stream",
     "text": [
      "Person 1: Ticket sold\n",
      "Person 2: Ticket sold\n",
      "Person 3: Ticket sold\n",
      "Person 4: Ticket sold\n",
      "Person 5: Ticket sold\n",
      "Person 6: Ticket sold\n",
      "Person 7: Banned. Skipping...\n",
      "Person 8: Ticket sold\n",
      "Person 9: Ticket sold\n",
      "System error at person 10. Shutting down.\n"
     ]
    }
   ],
   "source": [
    "for number in range(1,16):\n",
    "    if number == 7 or number == 13:\n",
    "        print(f\"Person {number}: Banned. Skipping...\")\n",
    "    elif number == 10:\n",
    "        print(f\"System error at person {number}. Shutting down.\")\n",
    "        break\n",
    "    else:\n",
    "        print(f\"Person {number}: Ticket sold\")\n",
    "else:\n",
    "    print(\"All tickets processed successfully.\")"
   ]
  },
  {
   "cell_type": "code",
   "execution_count": 1,
   "id": "6cf7d098-3800-46b0-8345-86cdd21fd698",
   "metadata": {},
   "outputs": [
    {
     "name": "stdout",
     "output_type": "stream",
     "text": [
      "enter your pin\n"
     ]
    },
    {
     "name": "stdout",
     "output_type": "stream",
     "text": [
      " 456\n"
     ]
    },
    {
     "name": "stdout",
     "output_type": "stream",
     "text": [
      "Incorrect. Try again.\n",
      "enter your pin\n"
     ]
    },
    {
     "name": "stdout",
     "output_type": "stream",
     "text": [
      " 433\n"
     ]
    },
    {
     "name": "stdout",
     "output_type": "stream",
     "text": [
      "Incorrect. Try again.\n",
      "enter your pin\n"
     ]
    },
    {
     "name": "stdout",
     "output_type": "stream",
     "text": [
      " 1234\n"
     ]
    },
    {
     "name": "stdout",
     "output_type": "stream",
     "text": [
      "Access granted.\n"
     ]
    }
   ],
   "source": [
    "pin = ''\n",
    "while pin != '1234':\n",
    "    print(\"enter your pin\")\n",
    "    pin = input()\n",
    "    if pin == '1234':\n",
    "        print(\"Access granted.\")\n",
    "    else:\n",
    "        print(\"Incorrect. Try again.\")\n",
    "    "
   ]
  },
  {
   "cell_type": "code",
   "execution_count": 1,
   "id": "65f78038-60ff-41f2-a4df-72513b2747e5",
   "metadata": {},
   "outputs": [
    {
     "name": "stdout",
     "output_type": "stream",
     "text": [
      "Guess the number:\n"
     ]
    },
    {
     "name": "stdout",
     "output_type": "stream",
     "text": [
      " 17\n"
     ]
    },
    {
     "name": "stdout",
     "output_type": "stream",
     "text": [
      "Correct! You guessed it.\n"
     ]
    }
   ],
   "source": [
    "while True:\n",
    "    print(\"Guess the number:\")\n",
    "    number = int(input())\n",
    "    if number < 17:\n",
    "        print(\"Too low! Try again.\")\n",
    "    elif number > 17:\n",
    "        print(\"Too high! Try again.\")\n",
    "    else:\n",
    "        print(\"Correct! You guessed it.\")\n",
    "        break\n",
    "        "
   ]
  },
  {
   "cell_type": "code",
   "execution_count": 3,
   "id": "f4888dde-2e8c-4bb3-8560-c24e8877c594",
   "metadata": {},
   "outputs": [
    {
     "data": {
      "text/plain": [
       "'apple + banana + mango'"
      ]
     },
     "execution_count": 3,
     "metadata": {},
     "output_type": "execute_result"
    }
   ],
   "source": [
    "\" + \".join(['apple','banana','mango'])"
   ]
  }
 ],
 "metadata": {
  "kernelspec": {
   "display_name": "Python 3 (ipykernel)",
   "language": "python",
   "name": "python3"
  },
  "language_info": {
   "codemirror_mode": {
    "name": "ipython",
    "version": 3
   },
   "file_extension": ".py",
   "mimetype": "text/x-python",
   "name": "python",
   "nbconvert_exporter": "python",
   "pygments_lexer": "ipython3",
   "version": "3.13.5"
  }
 },
 "nbformat": 4,
 "nbformat_minor": 5
}
